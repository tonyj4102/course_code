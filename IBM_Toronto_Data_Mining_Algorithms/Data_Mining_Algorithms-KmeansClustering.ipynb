{
 "cells": [
  {
   "cell_type": "markdown",
   "metadata": {},
   "source": [
    "<img src = \"https://ibm.box.com/shared/static/hhxv35atrvcom7qc1ngn632mkkg5d6l3.png\", width = 200></img>\n",
    "\n",
    "<h2, align=center> Toronto - Big Data University Meetup</h2>\n",
    "<h1, align=center> Data Mining Algorithms</h1>\n",
    "<h3, align=center> October 26, 2015</h3>\n",
    "<h4, align=center><a href = \"linkedin.com/in/polonglin\">Polong Lin</a></h4>\n",
    "<h4, align=center><a href = \"https://ca.linkedin.com/in/saeedaghabozorgi\">Saeed Aghabozorgi</a></h4>\n",
    "\n",
    "<hr>"
   ]
  },
  {
   "cell_type": "markdown",
   "metadata": {
    "button": false,
    "deletable": true,
    "run_control": {
     "read_only": false
    }
   },
   "source": [
    "# Weather Station Clustering \n",
    "\n",
    "##K-means using python & scikit-learn¶\n"
   ]
  },
  {
   "cell_type": "markdown",
   "metadata": {
    "button": false,
    "deletable": true,
    "run_control": {
     "read_only": false
    }
   },
   "source": [
    "Environment Canada\t\t  \n",
    "Monthly Values for July - 2015\t  \t\n",
    "\t\t\n",
    "\t\t\n",
    "Stn_Name::::\tStation Name  \n",
    "Lat\t    ::::\tLatitude (North + , degrees)  \n",
    "Long\t::::\tLongitude (West - , degrees)  \n",
    "Prov\t::::\tProvince  \n",
    "Tm\t    ::::\tMean Temperature (Â°C)  \n",
    "DwTm\t::::\tDays without Valid Mean Temperature  \n",
    "D\t    ::::\tMean Temperature difference from Normal (1981-2010) (Â°C)  \n",
    "Tx\t    ::::\tHighest Monthly Maximum Temperature (Â°C)  \n",
    "DwTx\t::::\tDays without Valid Maximum Temperature  \n",
    "Tn\t    ::::\tLowest Monthly Minimum Temperature (Â°C)  \n",
    "DwTn\t::::\tDays without Valid Minimum Temperature  \n",
    "S\t    ::::\tSnowfall (cm)  \n",
    "DwS\t    ::::\tDays without Valid Snowfall  \n",
    "S%N\t    ::::\tPercent of Normal (1981-2010) Snowfall  \n",
    "P\t    ::::\tTotal Precipitation (mm)  \n",
    "DwP\t    ::::\tDays without Valid Precipitation  \n",
    "P%N\t    ::::\tPercent of Normal (1981-2010) Precipitation  \n",
    "S_G  \t::::\tSnow on the ground at the end of the month (cm)  \n",
    "Pd\t    ::::\tNumber of days with Precipitation 1.0 mm or more  \n",
    "BS\t    ::::\tBright Sunshine (hours)  \n",
    "DwBS\t::::\tDays without Valid Bright Sunshine  \n",
    "BS%  \t::::\tPercent of Normal (1981-2010) Bright Sunshine  \n",
    "HDD \t::::\tDegree Days below 18 Â°C  \n",
    "CDD\t    ::::\tDegree Days above 18 Â°C  \n",
    "Stn_No\t::::\tClimate station identifier (first 3 digits indicate   drainage basin, last 4 characters are for sorting alphabetically).  \n",
    "NA\t    ::::\tNot Available  "
   ]
  },
  {
   "cell_type": "markdown",
   "metadata": {
    "button": false,
    "deletable": true,
    "run_control": {
     "read_only": false
    }
   },
   "source": [
    "### 1-Download Data"
   ]
  },
  {
   "cell_type": "code",
   "execution_count": null,
   "metadata": {
    "button": false,
    "collapsed": false,
    "deletable": true,
    "run_control": {
     "read_only": false
    }
   },
   "outputs": [],
   "source": [
    "!wget -O /resources/weather-stations20140101-20141231.csv https://ibm.box.com/shared/static/mv6g5p1wpmpvzoz6e5zgo47t44q8dvm0.csv"
   ]
  },
  {
   "cell_type": "markdown",
   "metadata": {
    "button": false,
    "deletable": true,
    "run_control": {
     "read_only": false
    }
   },
   "source": [
    "### 2- Load data"
   ]
  },
  {
   "cell_type": "code",
   "execution_count": null,
   "metadata": {
    "button": false,
    "collapsed": false,
    "deletable": true,
    "run_control": {
     "read_only": false
    }
   },
   "outputs": [],
   "source": [
    "import csv\n",
    "import pandas as pd\n",
    "import numpy as np\n",
    "\n",
    "filename='/resources/weather-stations20140101-20141231.csv'\n",
    "\n",
    "#Read csv\n",
    "pdf = pd.read_csv(filename)\n",
    "pdf.head(5)"
   ]
  },
  {
   "cell_type": "markdown",
   "metadata": {
    "button": false,
    "deletable": true,
    "run_control": {
     "read_only": false
    }
   },
   "source": [
    "### 3- Clean data"
   ]
  },
  {
   "cell_type": "code",
   "execution_count": null,
   "metadata": {
    "button": false,
    "collapsed": false,
    "deletable": true,
    "run_control": {
     "read_only": false
    }
   },
   "outputs": [],
   "source": [
    "pdf = pdf[pd.notnull(pdf[\"Tm\"])]\n",
    "pdf = pdf.reset_index(drop=True)\n",
    "pdf.head(5)"
   ]
  },
  {
   "cell_type": "markdown",
   "metadata": {
    "button": false,
    "deletable": true,
    "run_control": {
     "read_only": false
    }
   },
   "source": [
    "### 4- Visualization of data"
   ]
  },
  {
   "cell_type": "code",
   "execution_count": null,
   "metadata": {
    "button": false,
    "collapsed": false,
    "deletable": true,
    "run_control": {
     "read_only": false
    }
   },
   "outputs": [],
   "source": [
    "from mpl_toolkits.basemap import Basemap\n",
    "import matplotlib.pyplot as plt\n",
    "from pylab import rcParams\n",
    "%matplotlib inline\n",
    "rcParams['figure.figsize'] = (14,10)\n",
    "\n",
    "llon = -140\n",
    "ulon = -50\n",
    "llat = 40\n",
    "ulat = 65\n",
    "\n",
    "pdf = pdf[(pdf['Long'] > llon) & (pdf['Long'] < ulon) & (pdf['Lat'] > llat) &(pdf['Lat'] < ulat)]\n",
    "\n",
    "my_map = Basemap(projection='merc',\n",
    "            resolution = 'l', area_thresh = 1000.0,\n",
    "            llcrnrlon=llon, llcrnrlat=llat, #min longitude (llcrnrlon) and latitude (llcrnrlat)\n",
    "            urcrnrlon=ulon, urcrnrlat=ulat) #max longitude (urcrnrlon) and latitude (urcrnrlat)\n",
    "\n",
    "my_map.drawcoastlines()\n",
    "my_map.drawcountries()\n",
    "my_map.drawmapboundary()\n",
    "my_map.fillcontinents(color = 'white', alpha = 0.3)\n",
    "my_map.shadedrelief()\n",
    "\n",
    "# To collect data based on stations        \n",
    "\n",
    "xs,ys = my_map(np.asarray(pdf.Long), np.asarray(pdf.Lat))\n",
    "pdf['xm'] = xs.tolist()\n",
    "pdf['ym'] =ys.tolist()\n",
    "\n",
    "#Visualization1\n",
    "for index,row in pdf.iterrows():\n",
    "#   x,y = my_map(row.Long, row.Lat)\n",
    "   my_map.plot(row.xm, row.ym,markerfacecolor =([1,0,0]),  marker='o', markersize= 5, alpha = 0.75)\n",
    "#plt.text(x,y,stn)\n",
    "plt.show()\n",
    "\n"
   ]
  },
  {
   "cell_type": "markdown",
   "metadata": {
    "button": false,
    "deletable": true,
    "run_control": {
     "read_only": false
    }
   },
   "source": [
    "### 5-Clustering based on temperature"
   ]
  },
  {
   "cell_type": "code",
   "execution_count": null,
   "metadata": {
    "button": false,
    "collapsed": false,
    "deletable": true,
    "run_control": {
     "read_only": false
    }
   },
   "outputs": [],
   "source": [
    "from sklearn.cluster import KMeans\n",
    "import sklearn.utils\n",
    "from sklearn.preprocessing import StandardScaler\n",
    "clusterNum = 7\n",
    "sklearn.utils.check_random_state(1000)\n",
    "\n",
    "Clus_dataSet = zip(np.asarray(pdf.xm),np.asarray(pdf.ym))\n",
    "Clus_dataSet = np.nan_to_num(Clus_dataSet)\n",
    "Clus_dataSet=StandardScaler().fit_transform(Clus_dataSet)\n",
    "est = KMeans(n_clusters=clusterNum)\n",
    "est.fit(Clus_dataSet)\n",
    "labels = est.labels_\n",
    "pdf[\"Clus_km\"] = labels\n",
    "\n",
    "# A sample of clusters\n",
    "pdf[[\"Stn_Name\",\"xm\",\"ym\",\"Tx\",\"Tm\",\"Clus_km\"]].head(5)"
   ]
  },
  {
   "cell_type": "markdown",
   "metadata": {
    "button": false,
    "deletable": true,
    "run_control": {
     "read_only": false
    }
   },
   "source": [
    "### 6- Visualize the clusters"
   ]
  },
  {
   "cell_type": "code",
   "execution_count": null,
   "metadata": {
    "button": false,
    "collapsed": false,
    "deletable": true,
    "run_control": {
     "read_only": false
    }
   },
   "outputs": [],
   "source": [
    "from mpl_toolkits.basemap import Basemap\n",
    "import matplotlib.pyplot as plt\n",
    "from pylab import rcParams\n",
    "%matplotlib inline\n",
    "rcParams['figure.figsize'] = (14,10)\n",
    "\n",
    "my_map = Basemap(projection='merc',\n",
    "            resolution = 'l', area_thresh = 1000.0,\n",
    "            llcrnrlon=llon, llcrnrlat=llat, #min longitude (llcrnrlon) and latitude (llcrnrlat)\n",
    "            urcrnrlon=ulon, urcrnrlat=ulat) #max longitude (urcrnrlon) and latitude (urcrnrlat)\n",
    "\n",
    "my_map.drawcoastlines()\n",
    "my_map.drawcountries()\n",
    "my_map.drawmapboundary()\n",
    "my_map.fillcontinents(color = 'white', alpha = 0.3)\n",
    "my_map.shadedrelief()\n",
    "\n",
    "# To create a color map\n",
    "colors = plt.get_cmap('jet')(np.linspace(0.0, 1.0, clusterNum))\n",
    "\n",
    "#Visualization1\n",
    "for index,row in pdf.iterrows():\n",
    "    my_map.plot(row.xm, row.ym,markerfacecolor =colors[np.float(row.Clus_km)],  marker='o', markersize= 5, alpha = 0.75)\n",
    "\n",
    "for i in range(clusterNum): \n",
    "    cluster = pdf[[\"Stn_Name\",\"Tm\",\"xm\",\"ym\",\"Clus_km\"]][pdf.Clus_km==i]\n",
    "    cenx = np.mean(cluster.xm) \n",
    "    ceny = np.mean(cluster.ym) \n",
    "    plt.text(cenx,ceny,str(i), fontsize=25, color='red',)\n",
    "    print \"Cluster \"+str(i)+', Avg Temp: '+ str(np.mean(cluster.Tm))"
   ]
  },
  {
   "cell_type": "code",
   "execution_count": null,
   "metadata": {
    "button": false,
    "collapsed": false,
    "deletable": true,
    "run_control": {
     "read_only": false
    }
   },
   "outputs": [],
   "source": [
    "from sklearn.cluster import KMeans\n",
    "import sklearn.utils\n",
    "from sklearn.preprocessing import StandardScaler\n",
    "clusterNum = 7\n",
    "sklearn.utils.check_random_state(1000)\n",
    "\n",
    "Clus_dataSet = zip(np.asarray(pdf.xm),np.asarray(pdf.ym),np.asarray(pdf.Tx),np.asarray(pdf.Tn),np.asarray(pdf.Tm))\n",
    "Clus_dataSet = np.nan_to_num(Clus_dataSet)\n",
    "Clus_dataSet=StandardScaler().fit_transform(Clus_dataSet)\n",
    "est = KMeans(n_clusters=clusterNum)\n",
    "est.fit(Clus_dataSet)\n",
    "labels = est.labels_\n",
    "pdf[\"Clus_km\"]=labels\n",
    "\n",
    "# A sample of clusters\n",
    "pdf[[\"Stn_Name\",\"xm\",\"ym\",\"Tx\",\"Tm\",\"Clus_km\"]].head(5)"
   ]
  },
  {
   "cell_type": "code",
   "execution_count": null,
   "metadata": {
    "button": false,
    "collapsed": false,
    "deletable": true,
    "run_control": {
     "read_only": false
    }
   },
   "outputs": [],
   "source": [
    "from mpl_toolkits.basemap import Basemap\n",
    "import matplotlib.pyplot as plt\n",
    "from pylab import rcParams\n",
    "%matplotlib inline\n",
    "rcParams['figure.figsize'] = (14,10)\n",
    "\n",
    "my_map = Basemap(projection='merc',\n",
    "            resolution = 'l', area_thresh = 1000.0,\n",
    "            llcrnrlon=llon, llcrnrlat=llat, #min longitude (llcrnrlon) and latitude (llcrnrlat)\n",
    "            urcrnrlon=ulon, urcrnrlat=ulat) #max longitude (urcrnrlon) and latitude (urcrnrlat)\n",
    "\n",
    "my_map.drawcoastlines()\n",
    "my_map.drawcountries()\n",
    "my_map.drawmapboundary()\n",
    "my_map.fillcontinents(color = 'white', alpha = 0.3)\n",
    "my_map.shadedrelief()\n",
    "\n",
    "# To create a color map\n",
    "colors = plt.get_cmap('jet')(np.linspace(0.0, 1.0, clusterNum))\n",
    "\n",
    "#Visualization1\n",
    "for index,row in pdf.iterrows():\n",
    "    my_map.plot(row.xm, row.ym,markerfacecolor =colors[np.float(row.Clus_km)],  marker='o', markersize= 5, alpha = 0.75)\n",
    "\n",
    "for i in range(clusterNum): \n",
    "    cluster = pdf[[\"Stn_Name\",\"Tm\",\"xm\",\"ym\",\"Clus_km\"]][pdf.Clus_km==i]\n",
    "    cenx=np.mean(cluster.xm) \n",
    "    ceny=np.mean(cluster.ym) \n",
    "    plt.text(cenx,ceny,str(i), fontsize=25, color='red',)\n",
    "    print \"Cluster \"+str(i)+', Avg Temp: '+ str(np.mean(cluster.Tm))"
   ]
  }
 ],
 "metadata": {
  "kernelspec": {
   "display_name": "Python 2",
   "language": "python",
   "name": "python2"
  },
  "language_info": {
   "codemirror_mode": {
    "name": "ipython",
    "version": 2
   },
   "file_extension": ".py",
   "mimetype": "text/x-python",
   "name": "python",
   "nbconvert_exporter": "python",
   "pygments_lexer": "ipython2",
   "version": "2.7.10"
  }
 },
 "nbformat": 4,
 "nbformat_minor": 0
}
