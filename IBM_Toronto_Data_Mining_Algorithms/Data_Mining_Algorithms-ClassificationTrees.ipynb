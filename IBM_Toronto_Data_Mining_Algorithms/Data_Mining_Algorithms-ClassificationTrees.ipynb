{
 "cells": [
  {
   "cell_type": "markdown",
   "metadata": {
    "collapsed": false
   },
   "source": [
    "<img src = \"https://ibm.box.com/shared/static/hhxv35atrvcom7qc1ngn632mkkg5d6l3.png\", width = 200></img>\n",
    "\n",
    "<h2, align=center> Toronto - Big Data University Meetup</h2>\n",
    "<h1, align=center> Data Mining Algorithms</h1>\n",
    "<h3, align=center> October 26, 2015</h3>\n",
    "<h4, align=center><a href = \"linkedin.com/in/polonglin\">Polong Lin</a></h4>\n",
    "<h4, align=center><a href = \"https://ca.linkedin.com/in/saeedaghabozorgi\">Saeed Aghabozorgi</a></h4>\n",
    "\n",
    "<hr>"
   ]
  },
  {
   "cell_type": "markdown",
   "metadata": {},
   "source": [
    "## Welcome to Data Scientist Workbench"
   ]
  },
  {
   "cell_type": "markdown",
   "metadata": {},
   "source": [
    "Data Scientist Workbench is an environment that hosts multiple data science tools:\n",
    "- Python notebooks (PySpark pre-installed)\n",
    "- R notebooks (SparkR pre-installed)\n",
    "- Scala notebooks (Spark pre-installed)\n",
    "- <a href = \"https://datascientistworkbench.com/rstudio\">RStudio</a>\n",
    "- <a href = \"https://datascientistworkbench.com/openrefine\">OpenRefine</a>\n"
   ]
  },
  {
   "cell_type": "markdown",
   "metadata": {},
   "source": [
    "### Initial setup"
   ]
  },
  {
   "cell_type": "code",
   "execution_count": null,
   "metadata": {
    "collapsed": false
   },
   "outputs": [],
   "source": [
    "%%bash\n",
    "pip install rpy2"
   ]
  },
  {
   "cell_type": "code",
   "execution_count": null,
   "metadata": {
    "collapsed": false
   },
   "outputs": [],
   "source": [
    "%load_ext rpy2.ipython"
   ]
  },
  {
   "cell_type": "code",
   "execution_count": null,
   "metadata": {
    "collapsed": false,
    "scrolled": true
   },
   "outputs": [],
   "source": [
    "%%R\n",
    "detach(package:SparkR)\n",
    "R.Version()$version.string"
   ]
  },
  {
   "cell_type": "markdown",
   "metadata": {},
   "source": [
    "<br>\n",
    "<hr>"
   ]
  },
  {
   "cell_type": "markdown",
   "metadata": {},
   "source": [
    "<h1, align= center>Classification Trees in R</h1>"
   ]
  },
  {
   "cell_type": "markdown",
   "metadata": {},
   "source": [
    "### Get the data"
   ]
  },
  {
   "cell_type": "code",
   "execution_count": 2,
   "metadata": {
    "collapsed": false
   },
   "outputs": [
    {
     "name": "stdout",
     "output_type": "stream",
     "text": [
      "/bin/sh: wget: command not found\r\n"
     ]
    }
   ],
   "source": [
    "!wget -O recipes.csv https://ibm.box.com/shared/static/g9l7707576o1pbj9xoozpofyh2fxah6o.csv"
   ]
  },
  {
   "cell_type": "code",
   "execution_count": null,
   "metadata": {
    "collapsed": true
   },
   "outputs": [],
   "source": []
  },
  {
   "cell_type": "markdown",
   "metadata": {
    "collapsed": true
   },
   "source": [
    "## Import data"
   ]
  },
  {
   "cell_type": "code",
   "execution_count": null,
   "metadata": {
    "collapsed": false
   },
   "outputs": [],
   "source": [
    "%%R\n",
    "#May take 10-30 seconds to read\n",
    "recipes <- read.csv(\"recipes.csv\")\n",
    "head(recipes)"
   ]
  },
  {
   "cell_type": "markdown",
   "metadata": {},
   "source": [
    "## Data Cleaning"
   ]
  },
  {
   "cell_type": "code",
   "execution_count": null,
   "metadata": {
    "collapsed": false
   },
   "outputs": [],
   "source": [
    "%%R\n",
    "recipes$country <- tolower(as.character(recipes$country)) \n",
    "recipes$country[recipes$country == \"china\"] <- \"chinese\"\n",
    "recipes$country[recipes$country == \"france\"] <- \"french\"\n",
    "recipes$country[recipes$country == \"germany\"] <- \"german\"\n",
    "recipes$country[recipes$country == \"india\"] <- \"indian\"\n",
    "recipes$country[recipes$country == \"israel\"] <- \"jewish\"\n",
    "recipes$country[recipes$country == \"italy\"] <- \"italian\"\n",
    "recipes$country[recipes$country == \"japan\"] <- \"japanese\"\n",
    "recipes$country[recipes$country == \"korea\"] <- \"korean\"\n",
    "recipes$country[recipes$country == \"mexico\"] <- \"mexican\"\n",
    "recipes$country[recipes$country == \"scandinavia\"] <- \"scandinavian\"\n",
    "recipes$country[recipes$country == \"thailand\"] <- \"thai\"\n",
    "recipes$country[recipes$country == \"vietnam\"] <- \"vietnamese\"\n",
    "recipes[,names(recipes)] <- lapply(recipes[,names(recipes)] , as.factor)\n",
    "str(recipes)"
   ]
  },
  {
   "cell_type": "markdown",
   "metadata": {},
   "source": [
    "## Most Popular Ingredients"
   ]
  },
  {
   "cell_type": "code",
   "execution_count": null,
   "metadata": {
    "collapsed": false
   },
   "outputs": [],
   "source": [
    "%%R\n",
    "## Sum the row count when the value of the row in a column is equal to \"Yes\" (which equals 2)\n",
    "ing_df <- unlist(lapply(recipes[,names(recipes)] , function(x) sum(as.integer(x) == 2)))\n",
    "\n",
    "## Transpose the dataframe so that each row is an ingredient\n",
    "ing_df <- as.data.frame(t(as.data.frame(ing_df)))\n",
    "ing_df <- data.frame(\"ingredient\" = names(ing_df), \"count\" = as.numeric(ing_df[1,]))\n",
    "\n",
    "ing_df[order(ing_df$count, decreasing = TRUE),][-1,]"
   ]
  },
  {
   "cell_type": "code",
   "execution_count": null,
   "metadata": {
    "collapsed": false
   },
   "outputs": [],
   "source": [
    "%%R\n",
    "## Install libraries\n",
    "#install.packages(\"rpart\", repo = \"http://cran.utstat.utoronto.ca/\")\n",
    "#install.packages(\"rpart.plot\", repo = \"http://cran.utstat.utoronto.ca/\")\n",
    "library(rpart) #for classification trees\n",
    "library(rpart.plot) #to plot rpart trees"
   ]
  },
  {
   "cell_type": "markdown",
   "metadata": {},
   "source": [
    "## East Asian Recipes"
   ]
  },
  {
   "cell_type": "code",
   "execution_count": 1,
   "metadata": {
    "collapsed": false
   },
   "outputs": [
    {
     "name": "stderr",
     "output_type": "stream",
     "text": [
      "ERROR: Cell magic `%%R` not found.\n"
     ]
    }
   ],
   "source": [
    "%%R\n",
    "?rpart"
   ]
  },
  {
   "cell_type": "code",
   "execution_count": null,
   "metadata": {
    "collapsed": true
   },
   "outputs": [],
   "source": []
  },
  {
   "cell_type": "code",
   "execution_count": null,
   "metadata": {
    "collapsed": true
   },
   "outputs": [],
   "source": [
    "%%R\n",
    "## Create decision tree on subset of countries (East Asian + Indian)\n",
    "bamboo_tree <- rpart(formula = country ~ ., \n",
    "                     data = recipes[recipes$country %in% c(\"korean\", \n",
    "                                                           \"japanese\", \n",
    "                                                           \"chinese\", \n",
    "                                                           \"thai\",\n",
    "                                                           \"indian\"),], \n",
    "                     method =\"class\")"
   ]
  },
  {
   "cell_type": "code",
   "execution_count": null,
   "metadata": {
    "collapsed": false
   },
   "outputs": [],
   "source": [
    "%%R\n",
    "## Plot the East Asian + Indian model\n",
    "## run \"?rpart.plot\" if you want to see the arguments for rpart.plot\n",
    "rpart.plot(bamboo_tree, type = 3, extra = 2, under = TRUE, cex = 0.75, varlen = 0, faclen = 0)"
   ]
  },
  {
   "cell_type": "code",
   "execution_count": null,
   "metadata": {
    "collapsed": false
   },
   "outputs": [],
   "source": [
    "%%R\n",
    "## Summary of Asian tree\n",
    "summary(bamboo_tree)"
   ]
  },
  {
   "cell_type": "markdown",
   "metadata": {},
   "source": [
    "## Training & Testing a Classification Tree"
   ]
  },
  {
   "cell_type": "code",
   "execution_count": null,
   "metadata": {
    "collapsed": false
   },
   "outputs": [],
   "source": [
    "%%R\n",
    "## Reduce the recipes dataset into East Asian + Indian only\n",
    "bamboo <- recipes[recipes$country %in% c(\"korean\", \"japanese\", \"chinese\", \"thai\", \"indian\"),]\n",
    "\n",
    "print(\"Total recipes per country\")\n",
    "print(table(as.factor(as.character(bamboo$country))))\n",
    "\n",
    "## Set sample size per country for testing set\n",
    "sample_n <- 30\n",
    "\n",
    "\n",
    "## Take n recipes from each country\n",
    "set.seed(4) #Set random seed\n",
    "\n",
    "korean <- bamboo[sample(which(bamboo$country == \"korean\") , sample_n), ]\n",
    "japanese <- bamboo[sample(which(bamboo$country == \"japanese\") , sample_n), ]\n",
    "chinese <- bamboo[sample(which(bamboo$country == \"chinese\") , sample_n), ]\n",
    "indian <- bamboo[sample(which(bamboo$country == \"indian\") , sample_n), ]\n",
    "thai <- bamboo[sample(which(bamboo$country == \"thai\") , sample_n), ]\n",
    "\n",
    "\n",
    "#Create the testing dataframe\n",
    "bamboo_test <- rbind(korean,japanese, chinese, thai, indian)\n",
    "\n",
    "## Create the training dataset (remove test set from original bamboo dataset)\n",
    "bamboo_train <- bamboo[!(rownames(bamboo) %in% rownames(bamboo_test)),]\n",
    "\n",
    "## Check that we have 30 recipes from each cuisine\n",
    "print(\"----------------------------------------\")\n",
    "print(\"Training dataset: (Total-30) recipes per country\")\n",
    "print(table(as.factor(as.character(bamboo_train$country))))\n",
    "print(\"----------------------------------------\")\n",
    "print(\"Testing dataset: 30 Sampled recipes per country\")\n",
    "print(table(as.factor(as.character(bamboo_test$country))))"
   ]
  },
  {
   "cell_type": "markdown",
   "metadata": {},
   "source": [
    "### Train decision tree model on training dataset"
   ]
  },
  {
   "cell_type": "code",
   "execution_count": null,
   "metadata": {
    "collapsed": false
   },
   "outputs": [],
   "source": [
    "%%R\n",
    "\n",
    "#Train on the bamboo_train data\n",
    "bamboo_tree_pred <- rpart(formula = country ~ ., \n",
    "                     data = bamboo_train[bamboo_train$country %in% c(\"korean\", \n",
    "                                                           \"japanese\", \n",
    "                                                           \"chinese\", \n",
    "                                                           \"thai\",\n",
    "                                                           \"indian\"),], \n",
    "                     method =\"class\")\n",
    "#Plot the trained tree\n",
    "rpart.plot(bamboo_tree_pred, type = 3, extra = 2, under = TRUE, cex = 0.75, varlen = 0, faclen = 0)"
   ]
  },
  {
   "cell_type": "markdown",
   "metadata": {},
   "source": [
    "### Fit the trained model to the test dataset"
   ]
  },
  {
   "cell_type": "code",
   "execution_count": null,
   "metadata": {
    "collapsed": false
   },
   "outputs": [],
   "source": [
    "%%R\n",
    "bamboo_fit <- predict(bamboo_tree_pred, subset(bamboo_test, select=-c(country)), type = \"class\")"
   ]
  },
  {
   "cell_type": "markdown",
   "metadata": {},
   "source": [
    "### Check accuracy of model: Confusion Matrix"
   ]
  },
  {
   "cell_type": "code",
   "execution_count": null,
   "metadata": {
    "collapsed": false
   },
   "outputs": [],
   "source": [
    "%%R\n",
    "bamboo_tab <- table(paste(as.character(bamboo_fit),\"_pred\", sep =\"\"), paste(as.character(bamboo_test$country),\"_true\", sep =\"\"))\n",
    "bamboo_tab"
   ]
  },
  {
   "cell_type": "markdown",
   "metadata": {},
   "source": [
    "#### Confusion Matrix (percentages)"
   ]
  },
  {
   "cell_type": "code",
   "execution_count": null,
   "metadata": {
    "collapsed": false,
    "scrolled": true
   },
   "outputs": [],
   "source": [
    "%%R\n",
    "round(prop.table(bamboo_tab,2)*100,1)"
   ]
  },
  {
   "cell_type": "markdown",
   "metadata": {},
   "source": [
    "<hr>\n",
    "## RESOURCES:\n",
    "\n",
    "\n",
    "### Useful Links:\n",
    "\n",
    "- **Data Science** http://bigdatauniversity.com\n",
    "- **Clustering** http://bigdatauniversity.com/bdu-wp/bdu-course/machine-learning-cluster-analysis/\n",
    "- **R-Code** http://www.statmethods.net/advstats/factor.html\n",
    "- **Visualize** http://www.r-bloggers.com/computing-and-visualizing-pca-in-r/\n",
    "- **Rpart:** [How the rpart package in R uses recursive partitioning](http://cran.r-project.org/web/packages/rpart/vignettes/longintro.pdf)\n",
    "- **Scikit-learn:** [Classification trees using scikit-learn in Python](http://scikit-learn.org/stable/modules/tree.html)\n",
    "- **Videos:** [“Machine learning – decision trees” by Professor Nando de Freitas](https://www.youtube.com/watch?v=-dCtJjlEEgM)\n",
    "- **Datacamp’s** [Kaggle R tutorial on Titanic survivorship](https://www.datacamp.com/courses/kaggle-tutorial-on-machine-learing-the-sinking-of-the-titanic)\n"
   ]
  }
 ],
 "metadata": {
  "kernelspec": {
   "display_name": "Python 3",
   "language": "python",
   "name": "python3"
  },
  "language_info": {
   "codemirror_mode": {
    "name": "ipython",
    "version": 3
   },
   "file_extension": ".py",
   "mimetype": "text/x-python",
   "name": "python",
   "nbconvert_exporter": "python",
   "pygments_lexer": "ipython3",
   "version": "3.5.1"
  }
 },
 "nbformat": 4,
 "nbformat_minor": 0
}
