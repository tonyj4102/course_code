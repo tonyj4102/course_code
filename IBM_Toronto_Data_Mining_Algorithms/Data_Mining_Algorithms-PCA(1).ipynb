{
 "cells": [
  {
   "cell_type": "markdown",
   "metadata": {
    "collapsed": false
   },
   "source": [
    "<img src = \"https://ibm.box.com/shared/static/hhxv35atrvcom7qc1ngn632mkkg5d6l3.png\", width = 200></img>\n",
    "\n",
    "<h2, align=center> Toronto - Big Data University Meetup</h2>\n",
    "<h1, align=center> Data Mining Algorithms</h1>\n",
    "<h3, align=center> October 26, 2015</h3>\n",
    "<h4, align=center><a href = \"https://linkedin.com/in/polonglin\">Polong Lin</a></h4>\n",
    "<h4, align=center><a href = \"https://ca.linkedin.com/in/saeedaghabozorgi\">Saeed Aghabozorgi</a></h4>\n",
    "<h4, align=center>R code by: <a href = \"https://ca.linkedin.com/pub/konstantin-tskhay/b2/556/562\">Konstantin Tskhay</a></h4>\n",
    "<hr>"
   ]
  },
  {
   "cell_type": "markdown",
   "metadata": {},
   "source": [
    "## Welcome to Data Scientist Workbench"
   ]
  },
  {
   "cell_type": "markdown",
   "metadata": {},
   "source": [
    "Data Scientist Workbench is an environment that hosts multiple data science tools:\n",
    "- Python notebooks (PySpark pre-installed)\n",
    "- R notebooks (SparkR pre-installed)\n",
    "- Scala notebooks (Spark pre-installed)\n",
    "- <a href = \"https://datascientistworkbench.com/rstudio\">RStudio</a>\n",
    "- <a href = \"https://datascientistworkbench.com/openrefine\">OpenRefine</a>\n"
   ]
  },
  {
   "cell_type": "markdown",
   "metadata": {},
   "source": [
    "### Initial setup"
   ]
  },
  {
   "cell_type": "code",
   "execution_count": null,
   "metadata": {
    "collapsed": false
   },
   "outputs": [],
   "source": [
    "%%bash\n",
    "pip install rpy2"
   ]
  },
  {
   "cell_type": "code",
   "execution_count": null,
   "metadata": {
    "collapsed": false,
    "scrolled": true
   },
   "outputs": [],
   "source": [
    "%load_ext rpy2.ipython"
   ]
  },
  {
   "cell_type": "code",
   "execution_count": null,
   "metadata": {
    "collapsed": false,
    "scrolled": true
   },
   "outputs": [],
   "source": [
    "%%R\n",
    "detach(package:SparkR)\n",
    "R.Version()$version.string"
   ]
  },
  {
   "cell_type": "markdown",
   "metadata": {
    "collapsed": true
   },
   "source": [
    "Now we can run R within this Python notebook"
   ]
  },
  {
   "cell_type": "markdown",
   "metadata": {},
   "source": [
    "<br>\n",
    "<hr>"
   ]
  },
  {
   "cell_type": "markdown",
   "metadata": {},
   "source": [
    "<h1, align=center>Principal Component Analysis</h1>"
   ]
  },
  {
   "cell_type": "markdown",
   "metadata": {},
   "source": [
    "### Install packages for R"
   ]
  },
  {
   "cell_type": "code",
   "execution_count": null,
   "metadata": {
    "collapsed": false
   },
   "outputs": [],
   "source": [
    "%%R\n",
    "#Make take a while to install\n",
    "#install.packages(\"psych\")\n",
    "#install.packages(\"ggplot2\")\n",
    "library(psych)\n",
    "library(ggplot2)"
   ]
  },
  {
   "cell_type": "markdown",
   "metadata": {},
   "source": [
    "### Getting the data"
   ]
  },
  {
   "cell_type": "code",
   "execution_count": null,
   "metadata": {
    "collapsed": false
   },
   "outputs": [],
   "source": [
    "!wget -O new_prof_data.csv https://ibm.box.com/shared/static/iiskx4kggmwkt1a7po6vlmvefvoxm08z.csv"
   ]
  },
  {
   "cell_type": "markdown",
   "metadata": {},
   "source": [
    "### Importing the data\n",
    "\n",
    "The data are in .csv format: 'new_prof_data.csv'\n",
    "\n",
    "Here is a brief description of the variables:\n",
    "\n",
    "\n",
    "1. **ID** = Observation ID\n",
    "2. **Prof.Name** = The name of the professor. Here, Name1 to Name213 are used\n",
    "3. **Present** = “Presents the material in an organized, well-planned manner.”\n",
    "4. **Explain** = “Explains concepts clearly and with appropriate use of examples.”\n",
    "5. **Communi** = “Communicates enthusiasm and interest in the course material.”\n",
    "6. **Teach** = “All things considered, performs effectively as a university teacher.”\n",
    "7. **Workload** = “Compared to other courses at the same level, the workload is…”\n",
    "8. **Difficulty** = “Compared to other courses at the same level, the level of difficulty of the material is…”\n",
    "9. **learn.Exp** = “The value of the overall learning experience is…”\n",
    "10. **Retake** = “Considering your experience with this course, and disregarding your need for it to meet program or degree requirements, would you still have taken this course?”\n",
    "11. **Inf.** = The aggregate influence score (Interpersonal Charisma Scale)\n",
    "12. **Kind** = The aggregate kindness score (Interpersonal Charisma Scale)\n",
    "\n",
    "\n",
    "**_Notes._**\n",
    "\n",
    "**Q3-Q6 scale**: 1 = extremely poor; 2 = very poor; 3 = poor; 4 = adequate; 5 = good; 6 = very good; 7 = outstanding\n",
    "\n",
    "**Q7-Q9 scale**: 1 = very low; 2 = low; 3 = below average; 4 = average; 5 = above average; 6 = high; 7 = very high\n",
    "\n",
    "**Q10 scale**: proportion of people out of 100 who would still take the course considering the experience\n",
    "\n",
    "**Q11-Q12 scale**: “I am someone who is…”; 1 = strongly disagree; 2 = moderately disagree; 3 = neither agree nor disagree; 4 = moderately agree; 5 = strongly agree\n",
    "\n"
   ]
  },
  {
   "cell_type": "code",
   "execution_count": null,
   "metadata": {
    "collapsed": false
   },
   "outputs": [],
   "source": [
    "%%R\n",
    "\n",
    "## Read the data into an object named data\n",
    "data <- read.csv('/resources/new_prof_data.csv')\n",
    "\n",
    "## Examine data:\n",
    "names(data)\n",
    "str(data)\n",
    "summary(data)\n",
    "head(data)"
   ]
  },
  {
   "cell_type": "markdown",
   "metadata": {},
   "source": [
    "##Extract necessary data for PCA\n",
    "\n",
    "This step is simple: select relevant columns.\n",
    "We want columns 3 through 8."
   ]
  },
  {
   "cell_type": "code",
   "execution_count": null,
   "metadata": {
    "collapsed": false
   },
   "outputs": [],
   "source": [
    "%%R\n",
    "names(data) ## look up index\n",
    "comp.data <- data[,3:8] ## extract data\n",
    "names(comp.data) ## check"
   ]
  },
  {
   "cell_type": "markdown",
   "metadata": {},
   "source": [
    "## Set up all of the preconditions\n",
    "\n",
    "**Question**: Can we reduce the number of variables?\n",
    "**Answer**: Yes. Let's do it.\n",
    "\n",
    "  \n",
    "\n",
    "To do so, we need to see interrelationships between the variables.\n",
    "From before, we know that there may be 2 types of variables emerging.\n",
    "\n",
    "1. The variables that specify how good the professors are at communication\n",
    "2. The variables that track the course difficulty\n",
    "\n",
    "Let us examine whether this may be the case"
   ]
  },
  {
   "cell_type": "code",
   "execution_count": null,
   "metadata": {
    "collapsed": false
   },
   "outputs": [],
   "source": [
    "%%R\n",
    "round(cor(comp.data), digits = 3) ## produces correlation matrix"
   ]
  },
  {
   "cell_type": "markdown",
   "metadata": {},
   "source": [
    "You can see immediately that all communication variables are highly correlated. The difficulty variable correlates quite highly with the workload variable. However, there appears to be little overlap between communication and workload/difficulty variables.\n",
    "\n",
    "**This suggests that there are probably 2 components/factors in our data.**\n"
   ]
  },
  {
   "cell_type": "markdown",
   "metadata": {},
   "source": [
    "### Decision Rules:\n",
    "1. Probably 2 components (Communication, Workload)\n",
    "2. The components are probably orthogonal\n",
    "3. Check it empirically"
   ]
  },
  {
   "cell_type": "markdown",
   "metadata": {},
   "source": [
    "## Run PCA/Visualizations & Interpret the output"
   ]
  },
  {
   "cell_type": "code",
   "execution_count": null,
   "metadata": {
    "collapsed": false
   },
   "outputs": [],
   "source": [
    "%%R\n",
    "pcaSolution <- prcomp(comp.data, center = TRUE, scale. = TRUE) \n",
    "\n",
    "## Produced the object with standard deviatons of all variables\n",
    "## and Rotation -- or the loadings on the principal components\n",
    "\n",
    "print(pcaSolution) ## prints PCA solution\n",
    "\n",
    "pcaSolution$sdev^2"
   ]
  },
  {
   "cell_type": "markdown",
   "metadata": {},
   "source": [
    "### Let's create the Scree plot: Variance explained versus components"
   ]
  },
  {
   "cell_type": "code",
   "execution_count": null,
   "metadata": {
    "collapsed": false
   },
   "outputs": [],
   "source": [
    "%%R\n",
    "plot(pcaSolution, type = \"l\", pch = 16, lwd = 2) ## generates a scree plot"
   ]
  },
  {
   "cell_type": "markdown",
   "metadata": {},
   "source": [
    "This figure will help us to decide how many components we should extract.\n",
    "The first two PC explain most of the variability in the data--so, probably 2 components to extract."
   ]
  },
  {
   "cell_type": "markdown",
   "metadata": {},
   "source": [
    "###How many components to keep?\n",
    "\n",
    "####Kaiser-Guttman Rule\n",
    "The number of factors extracted equals the number of factors with eigenvalues greater than 1\n",
    "\n",
    "####Percentage of Common Variance\n",
    "The number of factors retained should have a cumulative variance explained should be at least 50% of the variance, but most people go for 75% and the ideal is 90%\n",
    "\n",
    "####Scree Test\n",
    "The number of factors retained should be the last number before the rate of change in eigenvalues levels off\n"
   ]
  },
  {
   "cell_type": "markdown",
   "metadata": {},
   "source": [
    "<br>"
   ]
  },
  {
   "cell_type": "markdown",
   "metadata": {},
   "source": [
    "<hr>\n",
    "## RESOURCES:\n",
    "\n",
    "\n",
    "### Useful Links:\n",
    "\n",
    "- **Data Science** http://bigdatauniversity.com\n",
    "- **Clustering** http://bigdatauniversity.com/bdu-wp/bdu-course/machine-learning-cluster-analysis/\n",
    "- **R-Code** http://www.statmethods.net/advstats/factor.html\n",
    "- **Visualize** http://www.r-bloggers.com/computing-and-visualizing-pca-in-r/\n",
    "\n",
    "### Books:\n",
    "- **Principal Component Analysis** http://www.amazon.ca/Principal-Components-Analysis-George-Dunteman/dp/0803931042/ref=sr_1_2?ie=UTF8&qid=1444011812&sr=8-2&keywords=principal+component+analysis\n",
    "\n",
    "### Uses in Measurement:\n",
    "- http://scholarship.sha.cornell.edu/cgi/viewcontent.cgi?article=1618&context=articles\n",
    "- http://personal.stevens.edu/~ysakamot/719/week4/scaledevelopment.pdf\n",
    "- http://scholarship.sha.cornell.edu/cgi/viewcontent.cgi?article=1515&context=articles"
   ]
  }
 ],
 "metadata": {
  "kernelspec": {
   "display_name": "Python 2",
   "language": "python",
   "name": "python2"
  },
  "language_info": {
   "codemirror_mode": {
    "name": "ipython",
    "version": 2
   },
   "file_extension": ".py",
   "mimetype": "text/x-python",
   "name": "python",
   "nbconvert_exporter": "python",
   "pygments_lexer": "ipython2",
   "version": "2.7.10"
  }
 },
 "nbformat": 4,
 "nbformat_minor": 0
}
