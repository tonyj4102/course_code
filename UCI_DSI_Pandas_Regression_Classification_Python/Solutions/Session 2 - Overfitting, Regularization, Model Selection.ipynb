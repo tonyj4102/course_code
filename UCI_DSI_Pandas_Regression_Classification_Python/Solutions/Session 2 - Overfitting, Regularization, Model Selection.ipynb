{
 "cells": [
  {
   "cell_type": "code",
   "execution_count": null,
   "metadata": {
    "collapsed": false
   },
   "outputs": [],
   "source": [
    "import numpy as np\n",
    "import pandas as pd\n",
    "from IPython.display import Image\n",
    "Image(url='http://datascience.uci.edu/wp-content/uploads/sites/2/2014/09/data_science_logo_with_image1.png')"
   ]
  },
  {
   "cell_type": "markdown",
   "metadata": {},
   "source": [
    "## Predictive Modeling with Python - Overfitting, Regularization, Model Selection\n",
    "#### Author: Kevin Bache"
   ]
  },
  {
   "cell_type": "markdown",
   "metadata": {},
   "source": [
    "## Before Lunch:\n",
    "We created a linear model and saw that it performed well on already seen data but poorly on unseen data."
   ]
  },
  {
   "cell_type": "markdown",
   "metadata": {},
   "source": [
    "## Predictive Modeling\n",
    "What we saw above is a common setup.  We have $\\mathbf{X}$ and $\\mathbf{y}$ data from the past and $\\mathbf{X}$ data for the present for which we want to **predict** the future $\\mathbf{y}$ values.\n",
    "\n",
    "We can generalize this notion of past / present data into what's generally called **train** and **test** data.\n",
    "\n",
    "* **Training Data** -- A dataset that we use to train our model.  We have both $\\mathbf{X}$ and $\\mathbf{y}$\n",
    "* **Testing Data** -- A dataset which only has $\\mathbf{X}$ values and for which we need to predict $\\mathbf{y}$ values.  We might also have access to the real $\\mathbf{y}$ values so that we can test how well our model will perform on data it hasn't seen before.\n",
    "\n",
    "### <span style=\"color:red\">Model Fitting Exercise</span>\n",
    "1. Partner up.  On one computer:\n",
    "  1. Write a function with the call signature `predict_test_values(model, x_train, y_train, x_test)` where `model` is a scikit learn model\n",
    "    1. Fit the model on `x_train` and `y_train`\n",
    "    1. Predict the y values for `X_test`\n",
    "    1. Return a vector of predicted y values\n",
    "  1. Write a second function with the call signature `calc_train_and_test_error(model, x_train, y_train, x_test, y_test)`\n",
    "    1. Fit the model on `x_train` and `y_train`\n",
    "    1. Predict the y values for `x_test`\n",
    "    1. Predict the y values for `x_train`\n",
    "    1. Calculate the `mean_squared_error` on both the train and test data.\n",
    "    1. Return the train error and test error\n",
    "  1. Describe to your partner the situations in which you might use each function"
   ]
  },
  {
   "cell_type": "code",
   "execution_count": null,
   "metadata": {
    "collapsed": true
   },
   "outputs": [],
   "source": [
    "def mean_squared_error(y_true, y_pred):\n",
    "    \"\"\"\n",
    "    calculate the mean_squared_error given a vector of true ys and a vector of predicted ys\n",
    "    \"\"\"\n",
    "    diff = y_true - y_pred\n",
    "    return np.dot(diff, diff) / len(diff)\n",
    "\n",
    "def predict_test_values(model, X_train, y_train, X_test):\n",
    "    ########## TODO REMOVE ME\n",
    "    ########## TODO REMOVE ME\n",
    "    ########## TODO REMOVE ME\n",
    "    ########## TODO REMOVE ME\n",
    "    ########## TODO REMOVE ME\n",
    "    ########## TODO REMOVE ME\n",
    "    ########## TODO REMOVE ME\n",
    "\n",
    "    model.fit(X_train, y_train)\n",
    "    return model.predict(X_test)\n",
    "\n",
    "    ########## TODO REMOVE ME\n",
    "    ########## TODO REMOVE ME\n",
    "    ########## TODO REMOVE ME\n",
    "    ########## TODO REMOVE ME\n",
    "    ########## TODO REMOVE ME\n",
    "    ########## TODO REMOVE ME\n",
    "    ########## TODO REMOVE ME\n",
    "\n",
    "def calc_train_and_test_error(model, X_train, y_train, X_test, y_test):\n",
    "\n",
    "    ########## TODO REMOVE ME\n",
    "    ########## TODO REMOVE ME\n",
    "    ########## TODO REMOVE ME\n",
    "    ########## TODO REMOVE ME\n",
    "    ########## TODO REMOVE ME\n",
    "    ########## TODO REMOVE ME\n",
    "    ########## TODO REMOVE ME\n",
    "\n",
    "    model.fit(X_train, y_train)\n",
    "    y_pred_train = model.predict(X_train)\n",
    "    y_pred_test = model.predict(X_test)\n",
    "    error_train = mean_squared_error(y_train, y_pred_train)\n",
    "    error_test = mean_squared_error(y_test, y_pred_test)\n",
    "\n",
    "    return error_train, error_test\n",
    "\n",
    "    ########## TODO REMOVE ME\n",
    "    ########## TODO REMOVE ME\n",
    "    ########## TODO REMOVE ME\n",
    "    ########## TODO REMOVE ME\n",
    "    ########## TODO REMOVE ME\n",
    "    ########## TODO REMOVE ME\n",
    "    ########## TODO REMOVE ME\n"
   ]
  },
  {
   "cell_type": "markdown",
   "metadata": {
    "collapsed": true
   },
   "source": [
    "## The Central Theses of Machine Learning\n",
    "### <span style=\"color:green\">**1) A predictive model is only as good as its predictions on unseen data **</span>\n",
    "\n",
    "### <span style=\"color:green\">**2) Error on the dataset we trained on is not a good predictor of error on future data**</span>\n",
    "\n",
    "Why isn't error on the training data a good indicator of future performance?  Overfitting."
   ]
  },
  {
   "cell_type": "markdown",
   "metadata": {},
   "source": [
    "### Overfitting in One Picture"
   ]
  },
  {
   "cell_type": "code",
   "execution_count": null,
   "metadata": {
    "collapsed": false,
    "scrolled": true
   },
   "outputs": [],
   "source": [
    "Image(url='http://radimrehurek.com/data_science_python/plot_bias_variance_examples_2.png')"
   ]
  },
  {
   "cell_type": "markdown",
   "metadata": {},
   "source": [
    "## How to Fight Overfitting?\n",
    "Ultimately we don't want to build a model which performs well on data we've already seen, we want to build a model which will perform well on data we haven't seen.\n",
    "\n",
    "There are two linked strategies for to accomplish this: **regularization** and **model selection**."
   ]
  },
  {
   "cell_type": "markdown",
   "metadata": {},
   "source": [
    "## Regularization\n",
    "The idea in regularization is that we're going to modify our loss function to penalize it for being too complex. Simple models are better.\n",
    "\n",
    "One way to do this is to try to keep our regression coefficients small. Why would we want to do this? One intuitive explanation is that if we have big regression coefficients we'll get large changes in the predicted values from small changes in input value.  That's bad. Intuitively, our predictions should vary smoothly with the data.\n",
    "\n",
    "So a model with smaller coefficients makes smoother predictions.  It is simpler, which means it will have a harder time overfitting. \n",
    "\n",
    "We can change our linear regression loss function to help us reduce overfitting:\n",
    "\n",
    "###Linear Regression Loss Function\n",
    "\\begin{eqnarray*}\n",
    "    Loss(\\beta) = MSE &=& \\frac{1}{N} \\sum_{i=1}^{N} (y_i - \\hat y_i)^2 \\\\\n",
    "    &=& \\frac{1}{N} \\sum_{i=1}^{N} (y_i - x_i^T\\beta)^2 \\\\   \n",
    "\\end{eqnarray*}\n",
    "\n",
    "###L2 Regularized Linear Regression Loss Function -- \"Ridge\"\n",
    "\\begin{eqnarray*}\n",
    "    Loss(\\beta) &=& \\frac{1}{N} \\sum_{i=1}^{N} (y_i - x_i^T\\beta)^2 + \\alpha ||\\beta||_2^2\\\\\n",
    "    &=& \\frac{1}{N} \\sum_{i=1}^{N} (y_i - x_i^T\\beta)^2 + \\alpha \\beta^T \\beta\\\\\n",
    "    &=& \\frac{1}{N} \\sum_{i=1}^{N} (y_i - x_i^T\\beta)^2 + \\alpha \\sum_{d=1}^D \\beta_d^2\\\\\n",
    "\\end{eqnarray*}"
   ]
  },
  {
   "cell_type": "markdown",
   "metadata": {},
   "source": [
    "We won't get into details, but a ridge regression model can be optimized in much the same way as an unregularized linear regression: either with using some form of gradient descent or matrix-based solutions. "
   ]
  },
  {
   "cell_type": "code",
   "execution_count": null,
   "metadata": {
    "collapsed": false
   },
   "outputs": [],
   "source": [
    "# Ridge Regression in scikit-learn\n",
    "from sklearn import linear_model\n",
    "model_ridge = linear_model.Ridge(alpha = .5)\n",
    "\n",
    "# once it's been fit, you can look at the learned beta values of the model with: model_ridge.coef_"
   ]
  },
  {
   "cell_type": "markdown",
   "metadata": {},
   "source": [
    "### <span style=\"color:red\">Ridge Regression Errors</span>\n",
    "1. Partner up.  On one computer:\n",
    "  1. Using your `calc_train_and_test_error` function from the previous exercise:\n",
    "    1. Calculate the training and testing error for a LinearRegression model on the dataset below\n",
    "    1. Calculate the training and testing error for a Ridge regression model with `alpha=1` on the dataset below\n",
    "  1. Add up the absolute values of the coefficients of each model. Which is bigger?\n",
    "\n",
    "     **Note:** If you have a fit model called `m`, then you can access a vector holding its learned coefficients with `m.coef_`.  \n",
    "      \n",
    "     **Note:** Check out the functions `np.sum()` and `np.abs()`\n",
    "\n",
    "  1. Discuss with your partner what's happening here"
   ]
  },
  {
   "cell_type": "code",
   "execution_count": null,
   "metadata": {
    "collapsed": false
   },
   "outputs": [],
   "source": [
    "# load overfitting data\n",
    "with np.load('data/overfitting_data.npz') as data:\n",
    "    x_train = data['x_train']\n",
    "    y_train = data['y_train']\n",
    "    x_test = data['x_test']\n",
    "    y_test = data['y_test']\n",
    "\n",
    "\n",
    "########## TODO REMOVE ME\n",
    "########## TODO REMOVE ME\n",
    "########## TODO REMOVE ME\n",
    "########## TODO REMOVE ME\n",
    "########## TODO REMOVE ME\n",
    "########## TODO REMOVE ME\n",
    "########## TODO REMOVE ME\n",
    "\n",
    "model_lr = linear_model.LinearRegression()\n",
    "model_ridge = linear_model.Ridge(alpha = 1)\n",
    "\n",
    "print \"Linear Regression Training and Test Errors:\"\n",
    "print calc_train_and_test_error(model_lr, x_train, y_train, x_test, y_test)\n",
    "print\n",
    "\n",
    "print \"Ridge Regression Training and Test Errors:\"\n",
    "print calc_train_and_test_error(model_ridge, x_train, y_train, x_test, y_test)\n",
    "print\n",
    "\n",
    "print \"Sum of Linear Regression Coefficients:\"\n",
    "print np.sum(np.abs(model_lr.coef_))\n",
    "print\n",
    "\n",
    "print \"Sum of Ridge Regression Coefficients:\"\n",
    "print np.sum(np.abs(model_ridge.coef_))\n",
    "print\n",
    "\n",
    "########## TODO REMOVE ME\n",
    "########## TODO REMOVE ME\n",
    "########## TODO REMOVE ME\n",
    "########## TODO REMOVE ME\n",
    "########## TODO REMOVE ME\n",
    "########## TODO REMOVE ME\n",
    "########## TODO REMOVE ME\n"
   ]
  },
  {
   "cell_type": "markdown",
   "metadata": {},
   "source": [
    "###L1 Regularized Linear Regression Loss Function -- \"LASSO\"\n",
    "LASSO is another regularization method.  It penalizes not with the square of the regression coefficients (the $\\beta$s) but with their absolute values.\n",
    "\n",
    "LASSO has the additional property that it tends to push beta values of unimportant dimensions all the way to exactly 0.  This has the beneficial property of enforcing sparsity in our model.  If having lots of small coefficients leads to a simpler model, having lots of 0-valued coefficients lead to even simpler models.\n",
    "\n",
    "\\begin{eqnarray*}\n",
    "    Loss(\\beta) &=& \\frac{1}{N} \\sum_{i=1}^{N} (y_i - x_i^T\\beta)^2 + \\alpha ||\\beta||_1\\\\\n",
    "    &=& \\frac{1}{N} \\sum_{i=1}^{N} (y_i - x_i^T\\beta)^2 + \\alpha \\sum_{d=1}^D |\\beta_d|\\\\\n",
    "\\end{eqnarray*}"
   ]
  },
  {
   "cell_type": "code",
   "execution_count": null,
   "metadata": {
    "collapsed": true
   },
   "outputs": [],
   "source": [
    "# LASSO in scikit-learn\n",
    "from sklearn import linear_model\n",
    "model_lasso = linear_model.Lasso(alpha = 0.5)"
   ]
  },
  {
   "cell_type": "markdown",
   "metadata": {},
   "source": [
    "### <span style=\"color:red\">LASSO Coefficients and Errors</span>\n",
    "1. Partner up.  On one computer:\n",
    "  1. Using your `calc_train_and_test_error` again, calculate the training and testing error for a LASSO model with `alpha=1` on the dataset from the previous exercise\n",
    "  1. Add up the absolute values of the coefficients of the LASSO model. Compare it to the coefficient sums from the `LinearRegression` and `Ridge` models.\n",
    "  1. Look at the first 10 coefficients of the `LinearRegression`, `Ridge`, and `LASSO` models.  \n",
    "  1. Discuss with your partner what's happening here"
   ]
  },
  {
   "cell_type": "code",
   "execution_count": null,
   "metadata": {
    "collapsed": false
   },
   "outputs": [],
   "source": [
    "# Write your code here\n",
    "\n",
    "########## TODO REMOVE ME\n",
    "########## TODO REMOVE ME\n",
    "########## TODO REMOVE ME\n",
    "########## TODO REMOVE ME\n",
    "########## TODO REMOVE ME\n",
    "########## TODO REMOVE ME\n",
    "########## TODO REMOVE ME\n",
    "\n",
    "model_lasso = linear_model.Lasso(alpha = 1)\n",
    "\n",
    "print 'LASSO Errors:'\n",
    "print calc_train_and_test_error(model_lasso, x_train, y_train, x_test, y_test)\n",
    "print \n",
    "\n",
    "print 'Sum of LASSO Coefficients'\n",
    "print np.sum(np.abs(model_lasso.coef_))\n",
    "print \n",
    "\n",
    "n_disp_coefs = 10\n",
    "\n",
    "print 'Linear Regression Coefficients:'\n",
    "print model_lr.coef_[:n_disp_coefs]\n",
    "print\n",
    "\n",
    "print 'Ridge Regression Coefficients:'\n",
    "print model_ridge.coef_[:n_disp_coefs]\n",
    "print\n",
    "\n",
    "print 'LASSO Coefficients:'\n",
    "print model_lasso.coef_[:n_disp_coefs]\n",
    "print\n",
    "\n",
    "########## TODO REMOVE ME\n",
    "########## TODO REMOVE ME\n",
    "########## TODO REMOVE ME\n",
    "########## TODO REMOVE ME\n",
    "########## TODO REMOVE ME\n",
    "########## TODO REMOVE ME\n",
    "########## TODO REMOVE ME\n"
   ]
  },
  {
   "cell_type": "markdown",
   "metadata": {
    "collapsed": true
   },
   "source": [
    "###L1 + L2 Regularized Linear Regression Loss Function -- \"ElasticNet\"\n",
    "\\begin{eqnarray*}\n",
    "    Loss(\\beta) &=& \\frac{1}{2N} \\sum_{i=1}^{N} (y_i - x_i^T\\beta)^2 + \\alpha \\rho ||\\beta||_1 + \\frac{\\alpha (1 - \\rho)}{2} ||\\beta||_2^2\\\\\\\\\n",
    "    &=& \\frac{1}{2N} \\sum_{i=1}^{N} (y_i - x_i^T\\beta)^2 + \\alpha \\rho \\sum_{d=1}^D |\\beta_d| + \\frac{\\alpha (1 - \\rho)}{2} \\sum_{d=1}^D \\beta_d^2\\\\\n",
    "\\end{eqnarray*}"
   ]
  },
  {
   "cell_type": "code",
   "execution_count": null,
   "metadata": {
    "collapsed": true
   },
   "outputs": [],
   "source": [
    "from sklearn import linear_model\n",
    "model_en = linear_model.ElasticNet(alpha=0.5, l1_ratio=0.1)\n",
    "\n",
    "# note: scikit learn's current implementation of ElasticNet isn't stable with l1_ratio <= 0.01"
   ]
  },
  {
   "cell_type": "markdown",
   "metadata": {},
   "source": [
    "### <span style=\"color:red\">ElasticNet Coefficients and Errors</span>\n",
    "1. Partner up.  On one computer:\n",
    "  1. Using your `calc_train_and_test_error` again, calculate the training and testing error for an `ElasticNet` model with `alpha=1` and `l1_ratio=0.5` on the dataset from the previous exercises\n",
    "  1. Add up the absolute values of the first 10 coefficients of the `ElasticNet` model. Compare it to the sums from the `LinearRegression`, `Ridge`, and `LASSO` models.\n",
    "  1. Look at the first 10 coefficients of the `ElasticNet` model.  \n",
    "  1. Discuss with your partner what's happening here"
   ]
  },
  {
   "cell_type": "code",
   "execution_count": null,
   "metadata": {
    "collapsed": false
   },
   "outputs": [],
   "source": [
    "# Write your code here\n",
    "\n",
    "########## TODO REMOVE ME\n",
    "########## TODO REMOVE ME\n",
    "########## TODO REMOVE ME\n",
    "########## TODO REMOVE ME\n",
    "########## TODO REMOVE ME\n",
    "########## TODO REMOVE ME\n",
    "########## TODO REMOVE ME\n",
    "\n",
    "model_en = linear_model.ElasticNet(alpha=1, l1_ratio=0.5)\n",
    "\n",
    "print 'ElasticNet Errors:'\n",
    "print calc_train_and_test_error(model_en, x_train, y_train, x_test, y_test)\n",
    "print \n",
    "\n",
    "print 'Sum of ElasticNet Coefficients'\n",
    "print np.sum(np.abs(model_en.coef_))\n",
    "print \n",
    "\n",
    "n_disp_coefs = 10\n",
    "\n",
    "print 'ElasticNet Coefficients:'\n",
    "print model_en.coef_[:n_disp_coefs]\n",
    "print\n",
    "\n",
    "########## TODO REMOVE ME\n",
    "########## TODO REMOVE ME\n",
    "########## TODO REMOVE ME\n",
    "########## TODO REMOVE ME\n",
    "########## TODO REMOVE ME\n",
    "########## TODO REMOVE ME\n",
    "########## TODO REMOVE ME\n"
   ]
  },
  {
   "cell_type": "markdown",
   "metadata": {},
   "source": [
    "## Cross Validation\n",
    "Now we know three types of regularization for linear regression: ridge regression, LASSO, and elastic net.  \n",
    "\n",
    "All of our regularized models had better test error that simple linear regression.  But how should we choose which model to ultimatley use or which parameters to use?  The answer is through careful use of **cross validation**.\n",
    "\n",
    "There are many forms of cross validation, but the basic idea of each is to _train_ your model on some data and _estimate it's future performance_ on other data."
   ]
  },
  {
   "cell_type": "markdown",
   "metadata": {},
   "source": [
    "## Types of Cross Validation\n",
    "### Validation Set Cross Validation\n",
    "1. Pick an amount of training data to be in your validation data set (e.g. 10%)\n",
    "2. Randomly split datapoints into training points (90%) and validation points (10%)\n",
    "3. Train your model on the training data\n",
    "4. Test your model on the validation data, record the validation error\n",
    "5. Estimated future errors is the validation error\n",
    "\n",
    "\n",
    "* **Good:** Easy and computationally cheap\n",
    "* **Bad:** Statistically noisy and wastes data\n",
    "\n",
    "\n",
    "**Aside:** So far we've been calculating error on out test dataset.  This is conceptually almost identical to using a validation set, but with two significant differences:\n",
    "1. We don't have to peek at our test data set.  This is good because if we do that too much, we can actually still overfit to our test data and still perform poorly on future unseen data.\n",
    "1. We don't have to be given the $\\mathbf{y}$ vector for our test dataset. Validation set cross validation only requires a training dataset."
   ]
  },
  {
   "cell_type": "code",
   "execution_count": null,
   "metadata": {
    "collapsed": false
   },
   "outputs": [],
   "source": [
    "# a helper function for performing validation set cross validation\n",
    "from sklearn.cross_validation import train_test_split\n",
    "validation_portion = 0.1\n",
    "seed = 1234\n",
    "x_train_small, x_valid, y_train_small, y_valid = \\\n",
    "    train_test_split(x_train, y_train, test_size=validation_portion, random_state=seed)\n",
    "\n",
    "print 'Original Training Set Size:'\n",
    "print x_train.shape, y_train.shape\n",
    "print\n",
    "\n",
    "print 'Reducted Training Set Size:'\n",
    "print x_train_small.shape, y_train_small.shape\n",
    "print\n",
    "\n",
    "print 'Validation Set Size:'\n",
    "print x_valid.shape, y_valid.shape\n",
    "print\n"
   ]
  },
  {
   "cell_type": "markdown",
   "metadata": {},
   "source": [
    "#### <span style=\"color:red\">Validation Set Cross Validation Exercise</span>\n",
    "1. Partner up.  On one computer:\n",
    "  1. Write a function with the call signature `validation_set_error(model, x_train, y_train, validation_portion=0.1, seed=1234)` which returns the validation set estimate of the future error for the given `model`. This function should:\n",
    "    1. Split the data into a reduced training set and a validation set\n",
    "    1. Train on the reduced training set\n",
    "    1. Estimate the mean squared error on the validation set\n",
    "    1. Return that estimate\n",
    "  1. Use your `calc_train_and_test_error(model, x_train, y_train, x_test, y_test)` function to calculate training and test set errors for these \n",
    "  1. Use this your `validation_set_error` function to estimate the future error on the overfitting data for:\n",
    "    1. A linear regression model\n",
    "    1. A ridge regression models with `alpha` = 10\n",
    "  1. Do this for multiple random seeds\n",
    "  1. Does validation error do a good job of predicting test error?\n",
    "  1. If you have time: How does changing the validation_portion affect the similarity between the validation and test error?\n"
   ]
  },
  {
   "cell_type": "code",
   "execution_count": null,
   "metadata": {
    "collapsed": false
   },
   "outputs": [],
   "source": [
    "def validation_set_error(model, x_train, y_train, validation_portion=0.1, seed=1234):\n",
    "    ########## TODO REMOVE ME\n",
    "    ########## TODO REMOVE ME\n",
    "    ########## TODO REMOVE ME\n",
    "    ########## TODO REMOVE ME\n",
    "    ########## TODO REMOVE ME\n",
    "    ########## TODO REMOVE ME\n",
    "    ########## TODO REMOVE ME\n",
    "\n",
    "    x_train_small, x_valid, y_train_small, y_valid = \\\n",
    "        train_test_split(x_train, y_train, test_size=validation_portion, random_state=seed)\n",
    "    model.fit(x_train_small, y_train_small)\n",
    "    y_pred_valid = model.predict(x_valid)\n",
    "    return mean_squared_error(y_valid, y_pred_valid)\n",
    "\n",
    "# set up models\n",
    "model_lr_valid = linear_model.LinearRegression()\n",
    "model_ridge_valid = linear_model.Ridge(alpha=10)\n",
    "\n",
    "# calculate errors\n",
    "valid_portion = .1\n",
    "n_seeds = 5\n",
    "print \"Linear Regression Training and Test Errors:\"\n",
    "print calc_train_and_test_error(model_lr_valid, x_train, y_train, x_test, y_test)\n",
    "print\n",
    "print \"Linear Regression Validation Errors:\"\n",
    "for seed in range(n_seeds):\n",
    "    print validation_set_error(model_lr_valid, x_train, y_train, validation_portion=valid_portion, seed=seed)\n",
    "    print\n",
    "\n",
    "print \"Ridge Regression Training and Test Errors:\"\n",
    "print calc_train_and_test_error(model_ridge_valid, x_train, y_train, x_test, y_test)\n",
    "print\n",
    "print \"Ridge Regression Validation Errors:\"\n",
    "for seed in range(n_seeds):\n",
    "    print validation_set_error(model_ridge_valid, x_train, y_train, validation_portion=valid_portion, seed=seed)\n",
    "    print\n",
    "\n",
    "########## TODO REMOVE ME\n",
    "########## TODO REMOVE ME\n",
    "########## TODO REMOVE ME\n",
    "########## TODO REMOVE ME\n",
    "########## TODO REMOVE ME\n",
    "########## TODO REMOVE ME\n",
    "########## TODO REMOVE ME"
   ]
  },
  {
   "cell_type": "markdown",
   "metadata": {},
   "source": [
    "### K-Fold Cross Validation\n",
    "K-Fold cross validation is another cross validation method for estimating the out-of-sample error of a model.  It works like this:\n",
    "\n",
    "1. Partition the training data into K folds\n",
    "2. For each fold k in 1 to K:\n",
    "  1. Train the model on all your data except the data in fold k\n",
    "  2. Record the error on the the data in fold k\n",
    "3. Estimate future error as average error across all folds"
   ]
  },
  {
   "cell_type": "code",
   "execution_count": null,
   "metadata": {
    "collapsed": false
   },
   "outputs": [],
   "source": [
    "Image(url='https://chrisjmccormick.files.wordpress.com/2013/07/10_fold_cv.png')"
   ]
  },
  {
   "cell_type": "markdown",
   "metadata": {},
   "source": [
    "* **Good:** Only wastes 100/k% of the data at a time\n",
    "* **Bad:** Takes k times long as just training one model, still wastes 100/k% of the data"
   ]
  },
  {
   "cell_type": "code",
   "execution_count": null,
   "metadata": {
    "collapsed": false
   },
   "outputs": [],
   "source": [
    "# scikit learn provides a useful object to help you perform kfold cross validation\n",
    "from sklearn.cross_validation import KFold\n",
    "\n",
    "n_data = len(y_train)\n",
    "fold_count = 0\n",
    "for train_reduced_row_ids, valid_row_ids in KFold(n_data, n_folds=4):\n",
    "    print\n",
    "    print \n",
    "    print \"FOLD %d:\" % fold_count\n",
    "    print \"-------\"\n",
    "    print(\"train_ids:\\n%s\\n\\nvalid_ids\\n%s\" % (train_reduced_row_ids, valid_row_ids))\n",
    "    x_train_reduced = x_train[train_reduced_row_ids]\n",
    "    y_train_reduced = y_train[train_reduced_row_ids]\n",
    "    x_valid = x_train[valid_row_ids]\n",
    "    y_valid = y_train[valid_row_ids]\n",
    "    fold_count += 1"
   ]
  },
  {
   "cell_type": "code",
   "execution_count": null,
   "metadata": {
    "collapsed": false
   },
   "outputs": [],
   "source": [
    "# NOTE: KFolds isn't random at all.  It's important to shuffle your data first before using it. \n",
    "from sklearn.utils import shuffle\n",
    "x_train_shuffled, y_train_shuffled = shuffle(x_train, y_train)"
   ]
  },
  {
   "cell_type": "markdown",
   "metadata": {},
   "source": [
    "#### <span style=\"color:red\">K-Fold Cross Validation Exercise</span>\n",
    "1. Partner up.  On one computer:\n",
    "  1. Write a function with the call signature `kfold_error(model, x_train, y_train, k=4, seed=1234)` which returns the k-fold cross validation estimate of the future error for the given `model`. This function should:\n",
    "    1. Shuffle the training data set (both $\\mathbf{x}$ and  $\\mathbf{y}$ in unison)\n",
    "    1. For each fold:\n",
    "        1. Split the data into a reduced training set and a validation set\n",
    "        1. Train on the reduced training set\n",
    "        1. Estimate the mean squared error on the validation set\n",
    "        1. Add the estimated error to a running sum of the estimated total error\n",
    "    1. Return the average error across folds: i.e.: the estimated total error divided by the number of folds\n",
    "  1. Use your `calc_train_and_test_error(model, x_train, y_train, x_test, y_test)` function to calculate training and test set errors for these \n",
    "  1. Use your `kfold_error` function with k=5 to estimate the future error on the overfitting data for:\n",
    "    1. A linear regression model\n",
    "    1. A ridge regression models with `alpha` = 10\n",
    "  1. Do this for multiple random seeds\n",
    "  1. Does k-fold error do a good job of predicting test error?"
   ]
  },
  {
   "cell_type": "code",
   "execution_count": null,
   "metadata": {
    "collapsed": false
   },
   "outputs": [],
   "source": [
    "def kfold_error(model, x_train, y_train, k=4, seed=1234):\n",
    "    ########## TODO REMOVE ME\n",
    "    ########## TODO REMOVE ME\n",
    "    ########## TODO REMOVE ME\n",
    "    ########## TODO REMOVE ME\n",
    "    ########## TODO REMOVE ME\n",
    "    ########## TODO REMOVE ME\n",
    "    ########## TODO REMOVE ME\n",
    "\n",
    "    # shuffle training data\n",
    "    x_train_shuffled, y_train_shuffled = shuffle(x_train, y_train, random_state=seed)\n",
    "\n",
    "    total_error = 0\n",
    "    \n",
    "    n_data = len(y_train)\n",
    "    for train_reduced_row_ids, valid_row_ids in KFold(n_data, n_folds=k):\n",
    "        x_train_reduced = x_train_shuffled[train_reduced_row_ids]\n",
    "        y_train_reduced = y_train_shuffled[train_reduced_row_ids]\n",
    "        x_valid = x_train_shuffled[valid_row_ids]\n",
    "        y_valid = y_train_shuffled[valid_row_ids]\n",
    "    \n",
    "        model.fit(x_train_reduced, y_train_reduced)\n",
    "        y_pred_valid = model.predict(x_valid)\n",
    "        total_error += mean_squared_error(y_valid, y_pred_valid)\n",
    "\n",
    "    return total_error / k\n",
    "        \n",
    "# set up models\n",
    "model_lr_valid = linear_model.LinearRegression()\n",
    "model_ridge_valid = linear_model.Ridge(alpha=10)\n",
    "\n",
    "# calculate errors\n",
    "n_seeds = 3\n",
    "k = 5\n",
    "print \"Linear Regression Training and Test Errors:\"\n",
    "print calc_train_and_test_error(model_lr_valid, x_train, y_train, x_test, y_test)\n",
    "print\n",
    "print \"Linear Regression K-Fold Errors:\"\n",
    "for seed in range(n_seeds):\n",
    "    print kfold_error(model_lr_valid, x_train, y_train, k=k, seed=seed)\n",
    "    print\n",
    "\n",
    "print \"Ridge Regression Training and Test Errors:\"\n",
    "print calc_train_and_test_error(model_ridge_valid, x_train, y_train, x_test, y_test)\n",
    "print\n",
    "print \"Ridge Regression K-Fold Errors:\"\n",
    "for seed in range(n_seeds):\n",
    "    print kfold_error(model_ridge_valid, x_train, y_train, k=k, seed=seed)\n",
    "    print\n",
    "    \n",
    "########## TODO REMOVE ME\n",
    "########## TODO REMOVE ME\n",
    "########## TODO REMOVE ME\n",
    "########## TODO REMOVE ME\n",
    "########## TODO REMOVE ME\n",
    "########## TODO REMOVE ME\n",
    "########## TODO REMOVE ME"
   ]
  },
  {
   "cell_type": "markdown",
   "metadata": {},
   "source": [
    "## Putting It All Together: Model and Hyperparameter Selection with Cross Validation\n",
    "1. For each model and hyperparameter combo you're willing to consider:\n",
    "  1. Estimate the model's performance on future data using cross validation\n",
    "2. Pick the model with the best estimated future performance\n",
    "3. Train the best model from scratch on the full dataset.  This is your final model"
   ]
  },
  {
   "cell_type": "code",
   "execution_count": null,
   "metadata": {
    "collapsed": false
   },
   "outputs": [],
   "source": [
    "def model_name(model):\n",
    "    s = model.__str__().lower()\n",
    "    if \"linearregression\" in s:\n",
    "        return 'LinearRegression'\n",
    "    elif \"lasso\" in s:\n",
    "        return 'Lasso(a=%g)' % model.alpha\n",
    "    elif \"ridge\" in s:\n",
    "        return 'Ridge(a=%g)' % model.alpha\n",
    "    elif \"elastic\" in s:\n",
    "        return 'ElasticNet(a=%g, r=%g)' % (model.alpha, model.l1_ratio)\n",
    "    else:\n",
    "        raise ValueError(\"Unknown Model Type\")\n",
    "\n",
    "def create_models(alphas=(.01, .03, .1, .3, 1, 3), l1_ratios=(.7, .5, .3)):\n",
    "    models = [linear_model.LinearRegression()]\n",
    "    models.extend([linear_model.Ridge(a) for a in alphas])\n",
    "    models.extend([linear_model.Lasso(a) for a in alphas])\n",
    "    models.extend([linear_model.ElasticNet(a, l1_ratio=l) for a in alphas for l in l1_ratios])\n",
    "    return models\n",
    "\n",
    "def results_df(models, betas_true, x_train, y_train, x_test, y_test, k=4):\n",
    "    n_data, n_dim = x_train.shape\n",
    "\n",
    "    n_zeros = n_dim - len(betas_true)\n",
    "    \n",
    "    betas_true = np.concatenate([betas_true, np.zeros(n_zeros)])\n",
    "    \n",
    "    # fit models to training data\n",
    "    [m.fit(x_train, y_train) for m in models]\n",
    "    \n",
    "    betas = np.vstack([betas_true] + [m.coef_ for m in models])\n",
    "    beta_names = ['Beta ' + str(i) for i in range(n_dim)]\n",
    "\n",
    "    # set up model names\n",
    "    model_names =  [\"True Coefs\"] + [model_name(m) for m in models]\n",
    "    df = pd.DataFrame(data=betas, columns=beta_names, index=model_names)\n",
    "\n",
    "    # calculate training errors\n",
    "    y_preds = [m.predict(x_train) for m in models]\n",
    "    errors = [np.nan] + [mean_squared_error(y_train, y_pred) for y_pred in y_preds]\n",
    "    df['Train Error'] = errors\n",
    "\n",
    "    # calculate validation errors\n",
    "    errors = [np.nan] + [kfold_error(m, x_train, y_train, k=k) for m in models]\n",
    "    df['Cross Validation Error'] = errors\n",
    "\n",
    "    # calculate test errors\n",
    "    y_preds = [m.predict(x_test) for m in models]\n",
    "    errors = [np.nan] + [mean_squared_error(y_test, y_pred) for y_pred in y_preds]\n",
    "    df['Test Error'] = errors\n",
    "\n",
    "    return df\n",
    "\n",
    "\n",
    "# these are some of the magic parameters that I used to actually \n",
    "# generate the overfitting dataset\n",
    "n_dim = 598\n",
    "n_dim_meaningful = 3\n",
    "n_dim_disp_extra = 2\n",
    "\n",
    "# the actual betas used to generate the y values.  the rest were 0.\n",
    "betas_true = np.arange(n_dim_meaningful) + 1\n",
    "\n",
    "# create a whole bunch of untrained models\n",
    "models = create_models(alphas=(.01, .03, .1, .3, 1), l1_ratios=(.9, .7, .5))\n",
    "\n",
    "# \n",
    "all_results = results_df(models, betas_true, x_train, y_train, x_test, y_test, k=4)\n",
    "\n",
    "# decide which columns we want to display\n",
    "disp_cols = [\"Beta \" + str(i) for i in range(n_dim_meaningful + n_dim_disp_extra)] \n",
    "disp_cols += ['Train Error', 'Cross Validation Error', 'Test Error']\n",
    "\n",
    "# display the results\n",
    "all_results[disp_cols]"
   ]
  },
  {
   "cell_type": "code",
   "execution_count": null,
   "metadata": {
    "collapsed": false
   },
   "outputs": [],
   "source": [
    "%matplotlib inline\n",
    "import matplotlib.pyplot as plt\n",
    "f = plt.figure()\n",
    "plt.scatter(all_results['Cross Validation Error'], all_results['Test Error'])\n",
    "plt.xlabel('Cross Validation Error')\n",
    "plt.ylabel('Test Error')\n",
    "f.set_size_inches(8, 8)\n",
    "plt.show()"
   ]
  },
  {
   "cell_type": "code",
   "execution_count": null,
   "metadata": {
    "collapsed": false
   },
   "outputs": [],
   "source": [
    "# scikit learn includes some functions for making cross validation easier \n",
    "# and computationally faster for a some models\n",
    "from sklearn import linear_model\n",
    "model_ridge_cv = linear_model.RidgeCV(alphas=[0.1, 1.0, 10.0])\n",
    "model_lasso_cv = linear_model.LassoCV(alphas=[0.1, 1.0, 10.0])\n",
    "model_en_cv = linear_model.ElasticNetCV(l1_ratio=[.9], n_alphas=100)"
   ]
  },
  {
   "cell_type": "markdown",
   "metadata": {},
   "source": [
    "## Caveats:\n",
    "* You can still overfit with intensive cross validation based model selection!\n",
    "* But it's much better than without"
   ]
  },
  {
   "cell_type": "markdown",
   "metadata": {},
   "source": [
    "## Summary:\n",
    "* **The Central Theses of Machine Learning:** \n",
    "  * We're only interested in predictive performance on unseen data, not on seen data.\n",
    "  * **Training error** estimates error on **seen** data\n",
    "  * **Cross validation error** estimates error on **unseen** data\n",
    "* **Regularization** strategies change how to train a model so that it will perform better on unseen data\n",
    "* We talked about three forms of regularization for linear regression:\n",
    "  * **Ridge Regression** (L2 Penalty)\n",
    "  * **LASSO** (L1 Penalty)\n",
    "  * **ElasticNet** (L1 + L2 Penalties)\n",
    "* We talked about two kinds of cross validation error:\n",
    "  * **Validation Error** -- split your training set into a reduced training set and a validation set\n",
    "  * **K-Fold Error** -- Split your training data into k reduced training sets and a validation sets\n",
    "* Regularization introduces new hyperparameters\n",
    "* Use a cross validated estimate of future performance to choose your model and hyperparameter settings"
   ]
  }
 ],
 "metadata": {
  "kernelspec": {
   "display_name": "Python 2",
   "language": "python",
   "name": "python2"
  },
  "language_info": {
   "codemirror_mode": {
    "name": "ipython",
    "version": 2
   },
   "file_extension": ".py",
   "mimetype": "text/x-python",
   "name": "python",
   "nbconvert_exporter": "python",
   "pygments_lexer": "ipython2",
   "version": "2.7.10"
  }
 },
 "nbformat": 4,
 "nbformat_minor": 0
}
