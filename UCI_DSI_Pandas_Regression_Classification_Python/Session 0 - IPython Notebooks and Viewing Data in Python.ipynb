{
 "cells": [
  {
   "cell_type": "code",
   "execution_count": 1,
   "metadata": {
    "collapsed": false
   },
   "outputs": [
    {
     "data": {
      "text/html": [
       "<img src=\"http://datascience.uci.edu/wp-content/uploads/sites/2/2014/09/data_science_logo_with_image1.png\"/>"
      ],
      "text/plain": [
       "<IPython.core.display.Image object>"
      ]
     },
     "execution_count": 1,
     "metadata": {},
     "output_type": "execute_result"
    }
   ],
   "source": [
    "from IPython.display import Image\n",
    "Image(url='http://datascience.uci.edu/wp-content/uploads/sites/2/2014/09/data_science_logo_with_image1.png')"
   ]
  },
  {
   "cell_type": "markdown",
   "metadata": {},
   "source": [
    "## Preliminaries\n",
    "\n",
    "1.  If you haven't do so already, download and **install the [Anaconda Scientific Python Distribution](https://store.continuum.io/cshop/anaconda/)**.  If it offers to make itself your default Python distribution, allow it.\n",
    "1. Whether you've just installed Anaconda, or you have done so previously, you should now **update Anaconda** to the latest version of the distribution.  It changes a lot so do this today even if you did recently.\n",
    " 1. Open a terminal or command prompt.\n",
    " 1. Type ```conda update conda``` and press enter or return.  Confirm that you'd like it to make any changes that it offers.\n",
    " 1. Type ```conda update anaconda``` and press enter or return.  Confirm that you'd like it to make any changes that it offers.\n",
    "1. **Download the code repository**.  \n",
    " 1. Go to [bit.ly/uci_predictive](http://bit.ly/uci_predictive) and click the \"download zip\" button on the right to download a zip file containing this entire repository.\n",
    " 1. Unzip that file into a directory you know how to find; you'll need it several times throughout the day.  \n",
    "1. **Start an ipython notebook server**.\n",
    " 1. Open a terminal and type ```ipython notebook```.  Navigate to the directory where you unzipped this repository.\n",
    " 1. Open \"Test Notebook.ipynb\".\n",
    " 1. Click \"Cell\" at the top of the opened notebook, followed by \"Run All\" and ensure that 1) there are no errors and that 2) the output from the first cell is the same as that in the second.  If it doesn't match, raise your hand.\n",
    " 1. If everything looks good, close the browser tab containing the test notebook but keep open the tab listing all the other notebooks."
   ]
  },
  {
   "cell_type": "markdown",
   "metadata": {},
   "source": [
    "### Schedule for Today\n",
    "\n",
    "|Start Time | Session |\n",
    "|-----------|---------|\n",
    "|8:30am     | Check In|\n",
    "|9:00am     | **The IPython Notebook and Pandas** |\n",
    "|10:30am    | Coffee & Bagels|\n",
    "|10:45am    | **Linear Regression and Predictive Modeling** |\n",
    "|12:30pm    | Lunch|\n",
    "|1:00pm     | **Out of Sample Prediction** |\n",
    "|2:45pm     | Afternoon break|\n",
    "|3:00pm     | **Logistic Regression** |"
   ]
  },
  {
   "cell_type": "code",
   "execution_count": null,
   "metadata": {
    "collapsed": true
   },
   "outputs": [],
   "source": []
  },
  {
   "cell_type": "code",
   "execution_count": null,
   "metadata": {
    "collapsed": true
   },
   "outputs": [],
   "source": []
  },
  {
   "cell_type": "markdown",
   "metadata": {
    "collapsed": true
   },
   "source": [
    "## Predictive Modeling with Python - _IPython Notebooks and Viewing Data in Python_\n",
    "#### Author: Kevin Bache"
   ]
  },
  {
   "cell_type": "markdown",
   "metadata": {},
   "source": [
    "## Outline\n",
    "1. IPython and IPython Notebooks\n",
    "1. Numpy\n",
    "1. Pandas"
   ]
  },
  {
   "cell_type": "markdown",
   "metadata": {},
   "source": [
    "## Python and IPython\n",
    "* `python` is a programming language and also the name of the program that runs scripts written in that language.\n",
    "* If you're running scripts from the command line you can use either `ipython` with something like `ipython my_script.py` or `python` with something like `python my_script.py`\n",
    "* If you're using the command line interpreter interactively to load and explore data, try out a new package, etc. always use `ipython` over `python`.  This is because `ipython` has a bunch of features like tab completion, inline help, and easy access to shell commands which are just plain great (more on these in a bit)."
   ]
  },
  {
   "cell_type": "markdown",
   "metadata": {},
   "source": [
    "## IPython Notebook\n",
    "* IPython notebook is an interactive front-end to ipython which lets you combine snippets of python code with explanations, images, videos, whatever.  \n",
    "* It's also really convenient for conveying experimental results.\n",
    "* http://nbviewer.ipython.org\n",
    "\n",
    "### <span style=\"color:red\">IPython Notebook Exercise #1</span>\n",
    "1. Start a terminal window and cd to the directory where you stored the course files\n",
    "1. Start the IPython Notebook server with the command `ipython notebook`.  The IPython notebook server runs your python code behind the scenes and renders the output into the notebook\n",
    "1. Create a new notebook by clicking New (top right) >> Python 2 Notebook"
   ]
  },
  {
   "cell_type": "markdown",
   "metadata": {},
   "source": [
    "### Notebook Concepts\n",
    "* **Cells** -- That grey box is called a cell.  An IPython notebook is nothing but a series of cells.  \n",
    "* **Selecting** -- You can tell if you have a cell selected because it will have a thin, black box around it.\n",
    "* **Running a Cell** -- Running a cell displays its output.  You can run a cell by pressing **`shift + enter`** while it's selected (or click the play button toward the top of the screen). \n",
    "* **Modes** -- There are two different ways of having a cell selected:\n",
    "  * **Command Mode** -- Lets you delete a cell and change its type (more on this in a second).\n",
    "  * **Edit Mode** -- Lets you change the contents of a cell.\n",
    "\n",
    "### Aside: Keyboard Shortcuts That I Use A Lot\n",
    "* (When describing keyboard shortcuts, `+` means 'press at the same time', `,` means 'press after'\n",
    "* **`Enter`** -- Run this cell and make a new one after it\n",
    "* **`Esc`** -- Stop editing this cell\n",
    "* **`Option + Enter`** -- Run this cell and make a new cell after it (Note: this is OSX specific.  Check help >> keyboard shortcuts to find your operating system's version)\n",
    "* **`Shift + Enter`** -- Run this cell and don't make a new one after it\n",
    "* **`Up Arrow`** and **`Down Arrow`**  -- Navigate between cells (must be in command mode)\n",
    "* **`Esc, m, Enter`** -- Convert the current cell to markdown and start editing it again\n",
    "* **`Esc, y, Enter`** -- Convert the current cell to a code cell and start editing it again\n",
    "* **`Esc, d, d`** -- Delete the current cell\n",
    "* **`Esc, a`** -- Create a new cell above the current one\n",
    "* **`Esc, b`** -- Create a new cell below the current one\n",
    "* **`Command + /`** -- Toggle comments in Python code (OSX)\n",
    "* **`Ctrl + /`** -- Toggle comments in Python code (Linux / Windows)\n",
    "\n",
    "### <span style=\"color:red\">IPython Notebook Exercise #2</span>\n",
    "1. Click Help >> User Interface Tour and take the tour\n",
    "1. Click Help >> Keyboard Shortcuts.  Mice are for suckers."
   ]
  },
  {
   "cell_type": "markdown",
   "metadata": {},
   "source": [
    "### More Notebook Concepts\n",
    "* **Cell Types** -- There are 3 types of cells: python, markdown, and raw.\n",
    "  * **Python Cells** -- Contain python code. Running a python cell displays its output. Press **`y`** in command mode convert any selected cell into a python cell. All cells start their lives as python cells.\n",
    "  * **Markdown Cells** -- Contain formatted text, lists, links, etc. Press **`m`** in command mode to convert the selected cell into a markdown cell.\n",
    "  * **Raw Cells** -- Useful for a few advanced corner cases.  We won't deal with these at all today.\n",
    "  \n",
    "### <span style=\"color:red\">IPython Notebook Exercise #3</span>:\n",
    "1. Partner up with someone next to you\n",
    "  1. Create a code cell\n",
    "    1. IPython notebooks offer tab completion.  Try typing: ```a<tab>``` \n",
    "    1. IPython notebooks offer inline help.  Try typing: ```?abs``` and then running the cell\n",
    "  1. Create and render a markdown cell which contains \n",
    "    1. Bold text\n",
    "    1. A nested numbered list\n",
    "    1. A working link to UCI's website\n",
    "    1. An image\n",
    "    1. Some rendered LaTex. \n",
    "  1. **Hint**: The following websites might be useful:\n",
    "    1. Check out this [Markdown Cheat Sheet](https://github.com/adam-p/markdown-here/wiki/Markdown-Cheatsheet).  Markdown is a set of simple commands for formatting text to make it pretty.  It isn't specific to IPython Notebooks; it's used all over (for example, a lot of blogging platforms let you write your content in markdown because it's easy and HTML is a pain in the butt).\n",
    "    1. Check out this [stackoverflow post](http://stackoverflow.com/questions/13208286/how-to-write-latex-in-ipython-notebook) about using LaTex in IPython Notebooks."
   ]
  },
  {
   "cell_type": "markdown",
   "metadata": {},
   "source": [
    "## Numpy\n",
    "Numpy is the main package that you'll use for doing scientific computing in Python.  Numpy provides a multidimensional array datatype called `ndarray` which can do things like vector and matrix computations.\n",
    "\n",
    "### Resources:\n",
    "* [Official Numpy Tutorial](http://wiki.scipy.org/Tentative_NumPy_Tutorial)\n",
    "* [Numpy, R, Matlab Cheat Sheet](http://mathesaurus.sourceforge.net/matlab-python-xref.pdf)\n",
    "* [Another Numpy, R, Matlab Cheat Sheet](http://sebastianraschka.com/Articles/2014_matrix_cheatsheet_table.html)"
   ]
  },
  {
   "cell_type": "code",
   "execution_count": 1,
   "metadata": {
    "collapsed": false
   },
   "outputs": [
    {
     "name": "stdout",
     "output_type": "stream",
     "text": [
      "a:\n",
      "[1 4 6]\n",
      "a.shape: (3,)\n",
      "\n",
      "b:\n",
      "[[6 7]\n",
      " [3 1]\n",
      " [4 0]]\n",
      "b.shape: (3, 2)\n",
      "\n"
     ]
    }
   ],
   "source": [
    "# you don't have to rename numpy to np but it's customary to do so\n",
    "import numpy as np\n",
    "\n",
    "# you can create a 1-d array with a list of numbers\n",
    "a = np.array([1, 4, 6])\n",
    "print 'a:'\n",
    "print a\n",
    "print 'a.shape:', a.shape\n",
    "print \n",
    "\n",
    "# you can create a 2-d array with a list of lists of numbers\n",
    "b = np.array([[6, 7], [3, 1], [4, 0]])\n",
    "print 'b:'\n",
    "print b\n",
    "print 'b.shape:', b.shape\n",
    "print\n"
   ]
  },
  {
   "cell_type": "code",
   "execution_count": null,
   "metadata": {
    "collapsed": true
   },
   "outputs": [],
   "source": []
  },
  {
   "cell_type": "code",
   "execution_count": 2,
   "metadata": {
    "collapsed": false
   },
   "outputs": [
    {
     "name": "stdout",
     "output_type": "stream",
     "text": [
      "np.ones(3, 4):\n",
      "[[ 1.  1.  1.  1.]\n",
      " [ 1.  1.  1.  1.]\n",
      " [ 1.  1.  1.  1.]]\n",
      "\n",
      "np.zeros(2, 5):\n",
      "[[ 0.  0.  0.  0.  0.]\n",
      " [ 0.  0.  0.  0.  0.]]\n",
      "\n",
      "np.arange(6):\n",
      "[0 1 2 3 4 5]\n",
      "\n",
      "np.arange(6).reshape(2, 3):\n",
      "[[0 1 2]\n",
      " [3 4 5]]\n",
      "\n",
      "b and b.T:\n",
      "[[6 7]\n",
      " [3 1]\n",
      " [4 0]]\n",
      "\n",
      "[[6 3 4]\n",
      " [7 1 0]]\n",
      "\n"
     ]
    }
   ],
   "source": [
    "# you can create an array of ones\n",
    "print 'np.ones(3, 4):'\n",
    "print np.ones((3, 4))\n",
    "print\n",
    "\n",
    "# you can create an array of zeros\n",
    "print 'np.zeros(2, 5):'\n",
    "print np.zeros((2, 5))\n",
    "print\n",
    "\n",
    "# you can create an array which of a range of numbers and reshape it\n",
    "print 'np.arange(6):'\n",
    "print np.arange(6)\n",
    "print \n",
    "print 'np.arange(6).reshape(2, 3):'\n",
    "print np.arange(6).reshape(2, 3)\n",
    "print\n",
    "\n",
    "# you can take the transpose of a matrix with .transpose or .T\n",
    "print 'b and b.T:'\n",
    "print b\n",
    "print \n",
    "print b.T\n",
    "print "
   ]
  },
  {
   "cell_type": "code",
   "execution_count": null,
   "metadata": {
    "collapsed": true
   },
   "outputs": [],
   "source": []
  },
  {
   "cell_type": "code",
   "execution_count": 3,
   "metadata": {
    "collapsed": false
   },
   "outputs": [
    {
     "name": "stdout",
     "output_type": "stream",
     "text": [
      "row 0 :  [6 7]\n",
      "row 1 :  [3 1]\n",
      "row 2 :  [4 0]\n",
      "\n",
      "first two rows of the first column of b:\n",
      "[6 3]\n",
      "\n"
     ]
    }
   ],
   "source": [
    "# you can iterate over rows\n",
    "i = 0\n",
    "for this_row in b:\n",
    "    print 'row', i, ': ', this_row\n",
    "    i += 1 \n",
    "print \n",
    "    \n",
    "# you can access sections of an array with slices\n",
    "print 'first two rows of the first column of b:'\n",
    "print b[:2, 0]\n",
    "print"
   ]
  },
  {
   "cell_type": "code",
   "execution_count": null,
   "metadata": {
    "collapsed": true
   },
   "outputs": [],
   "source": []
  },
  {
   "cell_type": "code",
   "execution_count": 4,
   "metadata": {
    "collapsed": false
   },
   "outputs": [
    {
     "name": "stdout",
     "output_type": "stream",
     "text": [
      "np.hstack([b, b]):\n",
      "[[6 7 6 7]\n",
      " [3 1 3 1]\n",
      " [4 0 4 0]]\n",
      "\n",
      "np.vstack([b, b]):\n",
      "[[6 7]\n",
      " [3 1]\n",
      " [4 0]\n",
      " [6 7]\n",
      " [3 1]\n",
      " [4 0]]\n",
      "\n"
     ]
    }
   ],
   "source": []
  },
  {
   "cell_type": "code",
   "execution_count": null,
   "metadata": {
    "collapsed": true
   },
   "outputs": [],
   "source": []
  },
  {
   "cell_type": "code",
   "execution_count": 5,
   "metadata": {
    "collapsed": false
   },
   "outputs": [
    {
     "name": "stdout",
     "output_type": "stream",
     "text": [
      "[[6 7 6 7]\n",
      " [3 1 3 1]\n",
      " [4 0 4 0]]\n",
      "\n"
     ]
    }
   ],
   "source": [
    "# note that you get an error if you pass in print 'np.hstack(b, b):'\n",
    "print np.hstack([b, b])\n",
    "print\n"
   ]
  },
  {
   "cell_type": "code",
   "execution_count": null,
   "metadata": {
    "collapsed": true
   },
   "outputs": [],
   "source": []
  },
  {
   "cell_type": "code",
   "execution_count": 39,
   "metadata": {
    "collapsed": false
   },
   "outputs": [
    {
     "name": "stdout",
     "output_type": "stream",
     "text": [
      "[1 4 6]\n",
      "[[6 7]\n",
      " [3 1]\n",
      " [4 0]]\n",
      "c = np.dot(a, b):\n",
      "[42 11]\n",
      "d = b * b:\n",
      "[[36 49]\n",
      " [ 9  1]\n",
      " [16  0]]\n"
     ]
    },
    {
     "data": {
      "text/plain": [
       "<function print>"
      ]
     },
     "execution_count": 39,
     "metadata": {},
     "output_type": "execute_result"
    }
   ],
   "source": [
    "# you can perform matrix multiplication with np.dot()\n",
    "a = np.array([1, 4, 6])\n",
    "b = np.array([[6, 7], [3, 1], [4, 0]])\n",
    "print (a)\n",
    "print (b)\n",
    "c = np.dot(a, b)\n",
    "print ('c = np.dot(a, b):')\n",
    "print (c)\n",
    "print\n",
    "\n",
    "# you can perform element-wise multiplication with * \n",
    "d = b * b\n",
    "print ('d = b * b:')\n",
    "print (d)\n",
    "print\n"
   ]
  },
  {
   "cell_type": "code",
   "execution_count": null,
   "metadata": {
    "collapsed": true
   },
   "outputs": [],
   "source": []
  },
  {
   "cell_type": "code",
   "execution_count": null,
   "metadata": {
    "collapsed": true
   },
   "outputs": [],
   "source": []
  },
  {
   "cell_type": "code",
   "execution_count": null,
   "metadata": {
    "collapsed": true
   },
   "outputs": [],
   "source": []
  },
  {
   "cell_type": "code",
   "execution_count": null,
   "metadata": {
    "collapsed": true
   },
   "outputs": [],
   "source": []
  },
  {
   "cell_type": "code",
   "execution_count": null,
   "metadata": {
    "collapsed": true
   },
   "outputs": [],
   "source": []
  },
  {
   "cell_type": "code",
   "execution_count": null,
   "metadata": {
    "collapsed": true
   },
   "outputs": [],
   "source": []
  },
  {
   "cell_type": "markdown",
   "metadata": {},
   "source": [
    "### Arrays and Matrices\n",
    "In addition to arrays which can have any number of dimensions, Numpy also has a `matrix` data type which always has exactly 2.  **DO NOT USE `matrix`**.  \n",
    "\n",
    "The original intention behind this data type was to make Numpy feel a bit more like Matlab, mainly by making the `*` operator perform matrix multiplication so you don't have to use `np.dot`.  But `matrix` isn't as well developed by the Numpy people as `array` is.  `matrix` is slower and using it will sometimes throw errors in other people's code because everyone expects you to use `array`."
   ]
  },
  {
   "cell_type": "code",
   "execution_count": 7,
   "metadata": {
    "collapsed": false
   },
   "outputs": [
    {
     "name": "stdout",
     "output_type": "stream",
     "text": [
      "a:\n",
      "[1 4 6]\n",
      "a.shape: (3,)\n",
      "\n",
      "a[np.newaxis] is a 2-d row vector:\n",
      "[[1 4 6]]\n",
      "a[np.newaxis].shape: (1, 3)\n",
      "\n",
      "a[np.newaxis].T: is a 2-d column vector:\n",
      "[[1]\n",
      " [4]\n",
      " [6]]\n",
      "a[np.newaxis].T.shape: (3, 1)\n",
      "\n"
     ]
    }
   ],
   "source": [
    "# you can convert a 1-d array to a 2-d array with np.newaxis\n",
    "print 'a:'\n",
    "print a\n",
    "print 'a.shape:', a.shape\n",
    "print \n",
    "print 'a[np.newaxis] is a 2-d row vector:'\n",
    "print a[np.newaxis]\n",
    "print 'a[np.newaxis].shape:', a[np.newaxis].shape\n",
    "print\n",
    "\n",
    "print 'a[np.newaxis].T: is a 2-d column vector:'\n",
    "print a[np.newaxis].T\n",
    "print 'a[np.newaxis].T.shape:', a[np.newaxis].T.shape\n",
    "print\n"
   ]
  },
  {
   "cell_type": "code",
   "execution_count": null,
   "metadata": {
    "collapsed": true
   },
   "outputs": [],
   "source": []
  },
  {
   "cell_type": "code",
   "execution_count": 8,
   "metadata": {
    "collapsed": false
   },
   "outputs": [
    {
     "name": "stdout",
     "output_type": "stream",
     "text": [
      "inverse of [[1, 2],[3, 4]]:\n",
      "[[-2.   1. ]\n",
      " [ 1.5 -0.5]]\n",
      "\n",
      "m.dot(m_inverse):\n",
      "[[  1.00000000e+00   1.11022302e-16]\n",
      " [  0.00000000e+00   1.00000000e+00]]\n"
     ]
    }
   ],
   "source": [
    "# numpy provides a ton of other functions for working with matrices\n",
    "m = np.array([[1, 2],[3, 4]])\n",
    "m_inverse = np.linalg.inv(m)\n",
    "print 'inverse of [[1, 2],[3, 4]]:'\n",
    "print m_inverse\n",
    "print\n",
    "\n",
    "print 'm.dot(m_inverse):'\n",
    "print m.dot(m_inverse)"
   ]
  },
  {
   "cell_type": "code",
   "execution_count": null,
   "metadata": {
    "collapsed": true
   },
   "outputs": [],
   "source": []
  },
  {
   "cell_type": "code",
   "execution_count": 9,
   "metadata": {
    "collapsed": false
   },
   "outputs": [
    {
     "name": "stdout",
     "output_type": "stream",
     "text": [
      "a matrix with random entries drawn from a Normal(0, 1) distribution:\n",
      "[[-0.70978938 -0.01719118  0.31941137 -2.26533107]\n",
      " [-1.37745366  1.94998073 -0.56381007 -0.84373759]\n",
      " [ 0.22453858 -0.39137772  0.60550347 -0.68615034]]\n"
     ]
    }
   ],
   "source": [
    "# and for doing all kinds of sciency type stuff.  like generating random numbers:\n",
    "np.random.seed(5678)\n",
    "n = np.random.randn(3, 4)\n",
    "print 'a matrix with random entries drawn from a Normal(0, 1) distribution:'\n",
    "print n"
   ]
  },
  {
   "cell_type": "code",
   "execution_count": null,
   "metadata": {
    "collapsed": true
   },
   "outputs": [],
   "source": []
  },
  {
   "cell_type": "markdown",
   "metadata": {},
   "source": [
    "### <span style=\"color:red\">Numpy Exercise</span>\n",
    "1. In the cell below, add a column of ones to the matrix `X_no_constant`.  This is a common task in linear regression and general linear modeling and something that you'll have to be able to do later today.  \n",
    "1. Multiply your new matrix by the `betas` vector below to make a vector called `y`\n",
    "1. You'll know you've got it when the cell prints '\\*\\*\\*\\*\\*\\* Tests passed! \\*\\*\\*\\*\\*\\*' at the bottom.\n",
    "\n",
    "Specificically, given a matrix:\n",
    "\n",
    "\\begin{equation*}\n",
    "\\qquad\n",
    "\\mathbf{X_{NoConstant}} = \n",
    "\\left( \\begin{array}{ccc}\n",
    "x_{1,1} & x_{1,2} & \\dots & x_{1,D} \\\\\n",
    "x_{2,1} & x_{2,2} & \\dots & x_{2,D} \\\\\n",
    "\\vdots & \\vdots & \\ddots & \\vdots \\\\\n",
    "x_{i,1} & x_{i,2} & \\dots & x_{i,D} \\\\\n",
    "\\vdots & \\vdots & \\ddots & \\vdots \\\\\n",
    "x_{N,1} & x_{N,2} & \\dots & x_{N,D} \\\\\n",
    "\\end{array} \\right)\n",
    "\\qquad\n",
    "\\end{equation*}\n",
    "\n",
    "We want to convert it to:\n",
    "\\begin{equation*}\n",
    "\\qquad\n",
    "\\mathbf{X} = \n",
    "\\left( \\begin{array}{ccc}\n",
    "1 & x_{1,1} & x_{1,2} & \\dots & x_{1,D} \\\\\n",
    "1 & x_{2,1} & x_{2,2} & \\dots & x_{2,D} \\\\\n",
    "\\vdots & \\vdots & \\vdots & \\ddots & \\vdots \\\\\n",
    "1 & x_{i,1} & x_{i,2} & \\dots & x_{i,D} \\\\\n",
    "\\vdots & \\vdots & \\ddots & \\vdots \\\\\n",
    "1 & x_{N,1} & x_{N,2} & \\dots & x_{N,D} \\\\\n",
    "\\end{array} \\right)\n",
    "\\qquad\n",
    "\\end{equation*}\n",
    "\n",
    "So that if we have a vector of regression coefficients like this:\n",
    "\n",
    "\\begin{equation*}\n",
    "\\qquad\n",
    "\\beta = \\left( \\begin{array}{ccc}\n",
    "\\beta_0 \\\\\n",
    "\\beta_1 \\\\\n",
    "\\vdots \\\\\n",
    "\\beta_j \\\\\n",
    "\\vdots \\\\\n",
    "\\beta_D\n",
    "\\end{array} \\right)\n",
    "\\end{equation*}\n",
    "\n",
    "We can do this:\n",
    "\n",
    "\\begin{equation*}\n",
    "\\mathbf{y} \\equiv \\mathbf{X}^T \\mathbf{\\beta} \n",
    "\\end{equation*}\n"
   ]
  },
  {
   "cell_type": "code",
   "execution_count": 54,
   "metadata": {
    "collapsed": false
   },
   "outputs": [
    {
     "name": "stdout",
     "output_type": "stream",
     "text": [
      "[-0.45481164  0.29282121 -0.04605458 -3.78610463 -1.19921111  0.71335536]\n",
      "X_no_constant:\n",
      "[[-0.92232935  0.27352359 -0.86339625  1.43766044 -1.71379871]\n",
      " [ 0.179322   -0.89138595  2.13005603  0.51898975 -0.41875106]\n",
      " [ 0.34010119 -1.07736609 -1.02314142 -1.02518535  0.40972072]\n",
      " [ 1.18883814  1.01044759  0.3108216  -1.17868611 -0.49526331]\n",
      " [-1.50248369 -0.196458    0.34752922 -0.79200465 -0.31534705]\n",
      " [ 1.73245191 -1.42793626 -0.94376587  0.86823495 -0.95946769]\n",
      " [-1.07074604 -0.06555247 -2.17689578  1.58538804  1.81492637]\n",
      " [-0.73706088  0.77546031  0.42653908 -0.51853723 -0.53045538]\n",
      " [ 1.09620536 -0.69557321  0.03080082  0.25219596 -0.35304303]\n",
      " [-0.93971165  0.04448078  0.04273069  0.4961477  -1.7673568 ]]\n",
      "(10, 5)\n",
      "[[ 1.]\n",
      " [ 1.]\n",
      " [ 1.]\n",
      " [ 1.]\n",
      " [ 1.]\n",
      " [ 1.]\n",
      " [ 1.]\n",
      " [ 1.]\n",
      " [ 1.]\n",
      " [ 1.]]\n",
      "[[-0.92232935  0.179322    0.34010119  1.18883814 -1.50248369  1.73245191\n",
      "  -1.07074604 -0.73706088  1.09620536 -0.93971165]\n",
      " [ 0.27352359 -0.89138595 -1.07736609  1.01044759 -0.196458   -1.42793626\n",
      "  -0.06555247  0.77546031 -0.69557321  0.04448078]\n",
      " [-0.86339625  2.13005603 -1.02314142  0.3108216   0.34752922 -0.94376587\n",
      "  -2.17689578  0.42653908  0.03080082  0.04273069]\n",
      " [ 1.43766044  0.51898975 -1.02518535 -1.17868611 -0.79200465  0.86823495\n",
      "   1.58538804 -0.51853723  0.25219596  0.4961477 ]\n",
      " [-1.71379871 -0.41875106  0.40972072 -0.49526331 -0.31534705 -0.95946769\n",
      "   1.81492637 -0.53045538 -0.35304303 -1.7673568 ]\n",
      " [ 1.          1.          1.          1.          1.          1.          1.\n",
      "   1.          1.          1.        ]]\n"
     ]
    },
    {
     "ename": "AssertionError",
     "evalue": "\nNot equal to tolerance rtol=1e-07, atol=0\n\n(shapes (1, 10), (10,) mismatch)\n x: array([[-2.135228, -1.190096,  3.680435,  5.510778,  4.69995 , -2.585873,\n        -6.897521,  3.855371, -0.521776,  1.392771]])\n y: array([-0.415184, -9.346962,  5.089805, -0.269839, -1.476679,  1.965808,\n        6.870098, -2.077841, -0.772682, -2.74955 ])",
     "output_type": "error",
     "traceback": [
      "\u001b[0;31m---------------------------------------------------------------------------\u001b[0m",
      "\u001b[0;31mAssertionError\u001b[0m                            Traceback (most recent call last)",
      "\u001b[0;32m<ipython-input-54-eb14ab67e6bc>\u001b[0m in \u001b[0;36m<module>\u001b[0;34m()\u001b[0m\n\u001b[1;32m     42\u001b[0m                        \u001b[0;36m6.87009791\u001b[0m\u001b[0;34m,\u001b[0m \u001b[0;34m-\u001b[0m\u001b[0;36m2.07784135\u001b[0m\u001b[0;34m,\u001b[0m \u001b[0;34m-\u001b[0m\u001b[0;36m0.7726816\u001b[0m\u001b[0;34m,\u001b[0m\u001b[0;34m\u001b[0m\u001b[0m\n\u001b[1;32m     43\u001b[0m                        -2.74954984])\n\u001b[0;32m---> 44\u001b[0;31m \u001b[0mnp\u001b[0m\u001b[0;34m.\u001b[0m\u001b[0mtesting\u001b[0m\u001b[0;34m.\u001b[0m\u001b[0massert_allclose\u001b[0m\u001b[0;34m(\u001b[0m\u001b[0my\u001b[0m\u001b[0;34m,\u001b[0m \u001b[0my_expected\u001b[0m\u001b[0;34m)\u001b[0m\u001b[0;34m\u001b[0m\u001b[0m\n\u001b[0m\u001b[1;32m     45\u001b[0m \u001b[0mprint\u001b[0m \u001b[0;34m(\u001b[0m\u001b[0;34m'****** Tests passed! ******'\u001b[0m\u001b[0;34m)\u001b[0m\u001b[0;34m\u001b[0m\u001b[0m\n",
      "\u001b[0;32m/Users/aj/anaconda/lib/python3.5/site-packages/numpy/testing/utils.py\u001b[0m in \u001b[0;36massert_allclose\u001b[0;34m(actual, desired, rtol, atol, equal_nan, err_msg, verbose)\u001b[0m\n\u001b[1;32m   1357\u001b[0m     \u001b[0mheader\u001b[0m \u001b[0;34m=\u001b[0m \u001b[0;34m'Not equal to tolerance rtol=%g, atol=%g'\u001b[0m \u001b[0;34m%\u001b[0m \u001b[0;34m(\u001b[0m\u001b[0mrtol\u001b[0m\u001b[0;34m,\u001b[0m \u001b[0matol\u001b[0m\u001b[0;34m)\u001b[0m\u001b[0;34m\u001b[0m\u001b[0m\n\u001b[1;32m   1358\u001b[0m     assert_array_compare(compare, actual, desired, err_msg=str(err_msg),\n\u001b[0;32m-> 1359\u001b[0;31m                          verbose=verbose, header=header)\n\u001b[0m\u001b[1;32m   1360\u001b[0m \u001b[0;34m\u001b[0m\u001b[0m\n\u001b[1;32m   1361\u001b[0m \u001b[0;32mdef\u001b[0m \u001b[0massert_array_almost_equal_nulp\u001b[0m\u001b[0;34m(\u001b[0m\u001b[0mx\u001b[0m\u001b[0;34m,\u001b[0m \u001b[0my\u001b[0m\u001b[0;34m,\u001b[0m \u001b[0mnulp\u001b[0m\u001b[0;34m=\u001b[0m\u001b[0;36m1\u001b[0m\u001b[0;34m)\u001b[0m\u001b[0;34m:\u001b[0m\u001b[0;34m\u001b[0m\u001b[0m\n",
      "\u001b[0;32m/Users/aj/anaconda/lib/python3.5/site-packages/numpy/testing/utils.py\u001b[0m in \u001b[0;36massert_array_compare\u001b[0;34m(comparison, x, y, err_msg, verbose, header, precision)\u001b[0m\n\u001b[1;32m    666\u001b[0m                                 names=('x', 'y'), precision=precision)\n\u001b[1;32m    667\u001b[0m             \u001b[0;32mif\u001b[0m \u001b[0;32mnot\u001b[0m \u001b[0mcond\u001b[0m\u001b[0;34m:\u001b[0m\u001b[0;34m\u001b[0m\u001b[0m\n\u001b[0;32m--> 668\u001b[0;31m                 \u001b[0;32mraise\u001b[0m \u001b[0mAssertionError\u001b[0m\u001b[0;34m(\u001b[0m\u001b[0mmsg\u001b[0m\u001b[0;34m)\u001b[0m\u001b[0;34m\u001b[0m\u001b[0m\n\u001b[0m\u001b[1;32m    669\u001b[0m \u001b[0;34m\u001b[0m\u001b[0m\n\u001b[1;32m    670\u001b[0m         \u001b[0;32mif\u001b[0m \u001b[0misnumber\u001b[0m\u001b[0;34m(\u001b[0m\u001b[0mx\u001b[0m\u001b[0;34m)\u001b[0m \u001b[0;32mand\u001b[0m \u001b[0misnumber\u001b[0m\u001b[0;34m(\u001b[0m\u001b[0my\u001b[0m\u001b[0;34m)\u001b[0m\u001b[0;34m:\u001b[0m\u001b[0;34m\u001b[0m\u001b[0m\n",
      "\u001b[0;31mAssertionError\u001b[0m: \nNot equal to tolerance rtol=1e-07, atol=0\n\n(shapes (1, 10), (10,) mismatch)\n x: array([[-2.135228, -1.190096,  3.680435,  5.510778,  4.69995 , -2.585873,\n        -6.897521,  3.855371, -0.521776,  1.392771]])\n y: array([-0.415184, -9.346962,  5.089805, -0.269839, -1.476679,  1.965808,\n        6.870098, -2.077841, -0.772682, -2.74955 ])"
     ]
    }
   ],
   "source": [
    "np.random.seed(3333)\n",
    "n_data = 10 # number of data points. i.e. N\n",
    "n_dim = 5   # number of dimensions of each datapoint.  i.e. D\n",
    "\n",
    "betas = np.random.randn(n_dim + 1)\n",
    "\n",
    "print (betas)\n",
    "\n",
    "X_no_constant = np.random.randn(n_data, n_dim)\n",
    "print ('X_no_constant:')\n",
    "print (X_no_constant)\n",
    "print \n",
    "\n",
    "print (X_no_constant.shape)\n",
    "\n",
    "# INSERT YOUR CODE HERE!\n",
    "\n",
    "onesv=np.ones((10, 1))\n",
    "print (onesv)\n",
    "\n",
    "#[[ 1.  1.  1.  1.]\n",
    "# [ 1.  1.  1.  1.]\n",
    "# [ 1.  1.  1.  1.]]\n",
    "\n",
    "baseX=np.hstack([X_no_constant, onesv])\n",
    "\n",
    "#Transpose matrix\n",
    "baseX.T\n",
    "print (baseX.T)\n",
    "\n",
    "baseX.T.shape\n",
    "betas.shape\n",
    "\n",
    "\n",
    "#matrix multiplication\n",
    "# you can perform matrix multiplication with np.dot()\n",
    "y = np.dot(betas.reshape(1,6),baseX.T)\n",
    "\n",
    "# Tests:\n",
    "y_expected = np.array([-0.41518357, -9.34696153, 5.08980544, \n",
    "                       -0.26983873, -1.47667864, 1.96580794, \n",
    "                       6.87009791, -2.07784135, -0.7726816, \n",
    "                       -2.74954984])\n",
    "np.testing.assert_allclose(y, y_expected)\n",
    "print ('****** Tests passed! ******')"
   ]
  },
  {
   "cell_type": "code",
   "execution_count": 88,
   "metadata": {
    "collapsed": false
   },
   "outputs": [
    {
     "name": "stdout",
     "output_type": "stream",
     "text": [
      "[-0.45481164  0.29282121 -0.04605458 -3.78610463 -1.19921111  0.71335536]\n"
     ]
    }
   ],
   "source": [
    "np.random.seed(3333)\n",
    "n_data = 10 # number of data points. i.e. N\n",
    "n_dim = 5   # number of dimensions of each datapoint.  i.e. D\n",
    "\n",
    "betas = np.random.randn(n_dim + 1)\n",
    "\n",
    "print (betas)"
   ]
  },
  {
   "cell_type": "code",
   "execution_count": 89,
   "metadata": {
    "collapsed": false
   },
   "outputs": [
    {
     "data": {
      "text/plain": [
       "(6,)"
      ]
     },
     "execution_count": 89,
     "metadata": {},
     "output_type": "execute_result"
    }
   ],
   "source": [
    "betas.shape"
   ]
  },
  {
   "cell_type": "code",
   "execution_count": null,
   "metadata": {
    "collapsed": true
   },
   "outputs": [],
   "source": []
  },
  {
   "cell_type": "code",
   "execution_count": 90,
   "metadata": {
    "collapsed": false
   },
   "outputs": [
    {
     "name": "stdout",
     "output_type": "stream",
     "text": [
      "X_no_constant:\n",
      "[[-0.92232935  0.27352359 -0.86339625  1.43766044 -1.71379871]\n",
      " [ 0.179322   -0.89138595  2.13005603  0.51898975 -0.41875106]\n",
      " [ 0.34010119 -1.07736609 -1.02314142 -1.02518535  0.40972072]\n",
      " [ 1.18883814  1.01044759  0.3108216  -1.17868611 -0.49526331]\n",
      " [-1.50248369 -0.196458    0.34752922 -0.79200465 -0.31534705]\n",
      " [ 1.73245191 -1.42793626 -0.94376587  0.86823495 -0.95946769]\n",
      " [-1.07074604 -0.06555247 -2.17689578  1.58538804  1.81492637]\n",
      " [-0.73706088  0.77546031  0.42653908 -0.51853723 -0.53045538]\n",
      " [ 1.09620536 -0.69557321  0.03080082  0.25219596 -0.35304303]\n",
      " [-0.93971165  0.04448078  0.04273069  0.4961477  -1.7673568 ]]\n",
      "(10, 5)\n"
     ]
    }
   ],
   "source": [
    "X_no_constant = np.random.randn(n_data, n_dim)\n",
    "print ('X_no_constant:')\n",
    "print (X_no_constant)\n",
    "print \n",
    "\n",
    "print (X_no_constant.shape)\n",
    "\n"
   ]
  },
  {
   "cell_type": "code",
   "execution_count": null,
   "metadata": {
    "collapsed": true
   },
   "outputs": [],
   "source": []
  },
  {
   "cell_type": "code",
   "execution_count": 91,
   "metadata": {
    "collapsed": false
   },
   "outputs": [
    {
     "name": "stdout",
     "output_type": "stream",
     "text": [
      "[[ 1.]\n",
      " [ 1.]\n",
      " [ 1.]\n",
      " [ 1.]\n",
      " [ 1.]\n",
      " [ 1.]\n",
      " [ 1.]\n",
      " [ 1.]\n",
      " [ 1.]\n",
      " [ 1.]]\n"
     ]
    }
   ],
   "source": [
    "# INSERT YOUR CODE HERE!\n",
    "\n",
    "onesv=np.ones((10, 1))\n",
    "print (onesv)\n",
    "\n",
    "#[[ 1.  1.  1.  1.]\n",
    "# [ 1.  1.  1.  1.]\n",
    "# [ 1.  1.  1.  1.]]\n",
    "\n"
   ]
  },
  {
   "cell_type": "code",
   "execution_count": 93,
   "metadata": {
    "collapsed": false
   },
   "outputs": [
    {
     "data": {
      "text/plain": [
       "(10, 1)"
      ]
     },
     "execution_count": 93,
     "metadata": {},
     "output_type": "execute_result"
    }
   ],
   "source": [
    "onesv.shape"
   ]
  },
  {
   "cell_type": "code",
   "execution_count": null,
   "metadata": {
    "collapsed": true
   },
   "outputs": [],
   "source": []
  },
  {
   "cell_type": "code",
   "execution_count": null,
   "metadata": {
    "collapsed": true
   },
   "outputs": [],
   "source": []
  },
  {
   "cell_type": "code",
   "execution_count": 94,
   "metadata": {
    "collapsed": true
   },
   "outputs": [],
   "source": [
    "baseX=np.hstack([X_no_constant, onesv])\n",
    "\n"
   ]
  },
  {
   "cell_type": "code",
   "execution_count": 95,
   "metadata": {
    "collapsed": false
   },
   "outputs": [
    {
     "data": {
      "text/plain": [
       "(10, 6)"
      ]
     },
     "execution_count": 95,
     "metadata": {},
     "output_type": "execute_result"
    }
   ],
   "source": [
    "baseX\n",
    "baseX.shape"
   ]
  },
  {
   "cell_type": "code",
   "execution_count": null,
   "metadata": {
    "collapsed": true
   },
   "outputs": [],
   "source": []
  },
  {
   "cell_type": "code",
   "execution_count": null,
   "metadata": {
    "collapsed": true
   },
   "outputs": [],
   "source": [
    "#Transpose matrix\n",
    "baseX.T\n",
    "print (baseX.T)\n",
    "\n",
    "baseX.T.shape\n",
    "betas.shape\n"
   ]
  },
  {
   "cell_type": "code",
   "execution_count": 96,
   "metadata": {
    "collapsed": true
   },
   "outputs": [],
   "source": [
    "\n",
    "\n",
    "#matrix multiplication\n",
    "# you can perform matrix multiplication with np.dot()\n",
    "y = np.dot(baseX,betas)\n",
    "\n",
    "# Tests:\n"
   ]
  },
  {
   "cell_type": "code",
   "execution_count": 97,
   "metadata": {
    "collapsed": false
   },
   "outputs": [
    {
     "name": "stdout",
     "output_type": "stream",
     "text": [
      "[-2.13522804 -1.19009649  3.68043545  5.51077786  4.6999502  -2.58587328\n",
      " -6.89752086  3.85537055 -0.52177587  1.39277092]\n"
     ]
    }
   ],
   "source": [
    "print (y)"
   ]
  },
  {
   "cell_type": "code",
   "execution_count": 98,
   "metadata": {
    "collapsed": false
   },
   "outputs": [
    {
     "data": {
      "text/plain": [
       "(10,)"
      ]
     },
     "execution_count": 98,
     "metadata": {},
     "output_type": "execute_result"
    }
   ],
   "source": [
    "y.shape"
   ]
  },
  {
   "cell_type": "code",
   "execution_count": null,
   "metadata": {
    "collapsed": true
   },
   "outputs": [],
   "source": []
  },
  {
   "cell_type": "code",
   "execution_count": null,
   "metadata": {
    "collapsed": true
   },
   "outputs": [],
   "source": [
    "y_expected = np.array([-0.41518357, -9.34696153, 5.08980544, \n",
    "                       -0.26983873, -1.47667864, 1.96580794, \n",
    "                       6.87009791, -2.07784135, -0.7726816, \n",
    "                       -2.74954984])\n"
   ]
  },
  {
   "cell_type": "code",
   "execution_count": null,
   "metadata": {
    "collapsed": true
   },
   "outputs": [],
   "source": [
    "np.testing.assert_allclose(y, y_expected)\n",
    "print ('****** Tests passed! ******')"
   ]
  },
  {
   "cell_type": "code",
   "execution_count": null,
   "metadata": {
    "collapsed": true
   },
   "outputs": [],
   "source": []
  },
  {
   "cell_type": "code",
   "execution_count": null,
   "metadata": {
    "collapsed": true
   },
   "outputs": [],
   "source": []
  },
  {
   "cell_type": "code",
   "execution_count": 30,
   "metadata": {
    "collapsed": false
   },
   "outputs": [
    {
     "data": {
      "text/plain": [
       "(6, 10)"
      ]
     },
     "execution_count": 30,
     "metadata": {},
     "output_type": "execute_result"
    }
   ],
   "source": [
    "baseX.T.shape\n"
   ]
  },
  {
   "cell_type": "code",
   "execution_count": 31,
   "metadata": {
    "collapsed": true
   },
   "outputs": [],
   "source": [
    "n_data = 10 # number of data points. i.e. N\n",
    "n_dim = 5   # number of dimensions of each datapoint.  i.e. D\n",
    "\n",
    "betas = np.random.randn(n_dim + 1)"
   ]
  },
  {
   "cell_type": "code",
   "execution_count": 52,
   "metadata": {
    "collapsed": false
   },
   "outputs": [
    {
     "data": {
      "text/plain": [
       "array([[-0.45481164,  0.29282121, -0.04605458, -3.78610463, -1.19921111,\n",
       "         0.71335536]])"
      ]
     },
     "execution_count": 52,
     "metadata": {},
     "output_type": "execute_result"
    }
   ],
   "source": [
    "betas.reshape(1,6)"
   ]
  },
  {
   "cell_type": "code",
   "execution_count": null,
   "metadata": {
    "collapsed": true
   },
   "outputs": [],
   "source": []
  },
  {
   "cell_type": "code",
   "execution_count": null,
   "metadata": {
    "collapsed": true
   },
   "outputs": [],
   "source": []
  },
  {
   "cell_type": "code",
   "execution_count": null,
   "metadata": {
    "collapsed": true
   },
   "outputs": [],
   "source": []
  },
  {
   "cell_type": "code",
   "execution_count": null,
   "metadata": {
    "collapsed": true
   },
   "outputs": [],
   "source": []
  },
  {
   "cell_type": "code",
   "execution_count": 48,
   "metadata": {
    "collapsed": false
   },
   "outputs": [
    {
     "data": {
      "text/plain": [
       "(6, 10)"
      ]
     },
     "execution_count": 48,
     "metadata": {},
     "output_type": "execute_result"
    }
   ],
   "source": [
    "baseX.T.shape\n",
    "\n"
   ]
  },
  {
   "cell_type": "code",
   "execution_count": null,
   "metadata": {
    "collapsed": true
   },
   "outputs": [],
   "source": []
  },
  {
   "cell_type": "code",
   "execution_count": null,
   "metadata": {
    "collapsed": true
   },
   "outputs": [],
   "source": [
    "#a-columns = b-rows"
   ]
  },
  {
   "cell_type": "code",
   "execution_count": null,
   "metadata": {
    "collapsed": true
   },
   "outputs": [],
   "source": []
  },
  {
   "cell_type": "code",
   "execution_count": null,
   "metadata": {
    "collapsed": true
   },
   "outputs": [],
   "source": []
  },
  {
   "cell_type": "code",
   "execution_count": 28,
   "metadata": {
    "collapsed": false
   },
   "outputs": [
    {
     "data": {
      "text/plain": [
       "(6,)"
      ]
     },
     "execution_count": 28,
     "metadata": {},
     "output_type": "execute_result"
    }
   ],
   "source": [
    "betas.shape"
   ]
  },
  {
   "cell_type": "code",
   "execution_count": null,
   "metadata": {
    "collapsed": true
   },
   "outputs": [],
   "source": []
  },
  {
   "cell_type": "code",
   "execution_count": null,
   "metadata": {
    "collapsed": true
   },
   "outputs": [],
   "source": []
  },
  {
   "cell_type": "code",
   "execution_count": null,
   "metadata": {
    "collapsed": true
   },
   "outputs": [],
   "source": []
  },
  {
   "cell_type": "code",
   "execution_count": null,
   "metadata": {
    "collapsed": true
   },
   "outputs": [],
   "source": []
  },
  {
   "cell_type": "code",
   "execution_count": null,
   "metadata": {
    "collapsed": true
   },
   "outputs": [],
   "source": []
  },
  {
   "cell_type": "code",
   "execution_count": null,
   "metadata": {
    "collapsed": true
   },
   "outputs": [],
   "source": []
  },
  {
   "cell_type": "code",
   "execution_count": null,
   "metadata": {
    "collapsed": true
   },
   "outputs": [],
   "source": []
  },
  {
   "cell_type": "code",
   "execution_count": null,
   "metadata": {
    "collapsed": true
   },
   "outputs": [],
   "source": []
  },
  {
   "cell_type": "code",
   "execution_count": null,
   "metadata": {
    "collapsed": true
   },
   "outputs": [],
   "source": []
  },
  {
   "cell_type": "code",
   "execution_count": null,
   "metadata": {
    "collapsed": true
   },
   "outputs": [],
   "source": []
  },
  {
   "cell_type": "code",
   "execution_count": null,
   "metadata": {
    "collapsed": true
   },
   "outputs": [],
   "source": []
  },
  {
   "cell_type": "code",
   "execution_count": null,
   "metadata": {
    "collapsed": true
   },
   "outputs": [],
   "source": []
  },
  {
   "cell_type": "code",
   "execution_count": null,
   "metadata": {
    "collapsed": true
   },
   "outputs": [],
   "source": []
  },
  {
   "cell_type": "code",
   "execution_count": null,
   "metadata": {
    "collapsed": true
   },
   "outputs": [],
   "source": []
  },
  {
   "cell_type": "code",
   "execution_count": null,
   "metadata": {
    "collapsed": true
   },
   "outputs": [],
   "source": []
  },
  {
   "cell_type": "code",
   "execution_count": null,
   "metadata": {
    "collapsed": true
   },
   "outputs": [],
   "source": []
  },
  {
   "cell_type": "code",
   "execution_count": null,
   "metadata": {
    "collapsed": true
   },
   "outputs": [],
   "source": []
  },
  {
   "cell_type": "code",
   "execution_count": null,
   "metadata": {
    "collapsed": true
   },
   "outputs": [],
   "source": []
  },
  {
   "cell_type": "code",
   "execution_count": null,
   "metadata": {
    "collapsed": true
   },
   "outputs": [],
   "source": []
  },
  {
   "cell_type": "markdown",
   "metadata": {
    "collapsed": true
   },
   "source": [
    "## Pandas\n",
    "Pandas is a python package which adds some useful data analysis features to numpy arrays.  Most importantly, it contains a `DataFrame` data type like the r `dataframe`: a set of named columns organized into something like a 2d array.  Pandas is great.\n",
    "\n",
    "### Resources:\n",
    "* [10 Minutes to Pandas](http://pandas.pydata.org/pandas-docs/dev/10min.html)\n",
    "* [Pandas Data Structures Tutorial](http://pandas.pydata.org/pandas-docs/stable/dsintro.html)\n",
    "* [Merge, Join, Concatenate Tutorial](http://pandas.pydata.org/pandas-docs/dev/merging.html)\n",
    "* [Another Numpy/Pandas Tutorial](https://www.kaggle.com/c/titanic/details/getting-started-with-python-ii)"
   ]
  },
  {
   "cell_type": "code",
   "execution_count": 5,
   "metadata": {
    "collapsed": false
   },
   "outputs": [
    {
     "name": "stdout",
     "output_type": "stream",
     "text": [
      "b:\n",
      "[[6 7]\n",
      " [3 1]\n",
      " [4 0]]\n",
      "DataFame version of b:\n",
      "   Weight  Height\n",
      "0       6       7\n",
      "1       3       1\n",
      "2       4       0\n"
     ]
    },
    {
     "data": {
      "text/plain": [
       "<function print>"
      ]
     },
     "execution_count": 5,
     "metadata": {},
     "output_type": "execute_result"
    }
   ],
   "source": [
    "# like with numpy, you don't have to rename pandas to pd, but it's customary to do so\n",
    "import numpy as np\n",
    "import pandas as pd\n",
    "\n",
    "b = np.array([[6, 7], [3, 1], [4, 0]])\n",
    "df = pd.DataFrame(data=b,  columns=['Weight', 'Height'])\n",
    "print ('b:')\n",
    "print (b)\n",
    "print \n",
    "print ('DataFame version of b:')\n",
    "print (df)\n",
    "print"
   ]
  },
  {
   "cell_type": "code",
   "execution_count": null,
   "metadata": {
    "collapsed": true
   },
   "outputs": [],
   "source": []
  },
  {
   "cell_type": "code",
   "execution_count": null,
   "metadata": {
    "collapsed": true
   },
   "outputs": [],
   "source": []
  },
  {
   "cell_type": "code",
   "execution_count": null,
   "metadata": {
    "collapsed": true
   },
   "outputs": [],
   "source": []
  },
  {
   "cell_type": "code",
   "execution_count": null,
   "metadata": {
    "collapsed": true
   },
   "outputs": [],
   "source": []
  },
  {
   "cell_type": "code",
   "execution_count": null,
   "metadata": {
    "collapsed": true
   },
   "outputs": [],
   "source": []
  },
  {
   "cell_type": "code",
   "execution_count": 6,
   "metadata": {
    "collapsed": false
   },
   "outputs": [
    {
     "data": {
      "text/html": [
       "<div>\n",
       "<table border=\"1\" class=\"dataframe\">\n",
       "  <thead>\n",
       "    <tr style=\"text-align: right;\">\n",
       "      <th></th>\n",
       "      <th>Salary</th>\n",
       "      <th>AVG</th>\n",
       "      <th>OBP</th>\n",
       "      <th>Runs</th>\n",
       "      <th>Hits</th>\n",
       "      <th>Doubles</th>\n",
       "      <th>Triples</th>\n",
       "      <th>HR</th>\n",
       "      <th>RBI</th>\n",
       "      <th>Walks</th>\n",
       "      <th>SO</th>\n",
       "      <th>SB</th>\n",
       "      <th>Errs</th>\n",
       "      <th>free agency eligibility</th>\n",
       "      <th>free agent in 1991/2</th>\n",
       "      <th>arbitration eligibility</th>\n",
       "      <th>arbitration in 1991/2</th>\n",
       "      <th>Name</th>\n",
       "    </tr>\n",
       "  </thead>\n",
       "  <tbody>\n",
       "    <tr>\n",
       "      <th>0</th>\n",
       "      <td>3300</td>\n",
       "      <td>0.272</td>\n",
       "      <td>0.302</td>\n",
       "      <td>69</td>\n",
       "      <td>153</td>\n",
       "      <td>21</td>\n",
       "      <td>4</td>\n",
       "      <td>31</td>\n",
       "      <td>104</td>\n",
       "      <td>22</td>\n",
       "      <td>80</td>\n",
       "      <td>4</td>\n",
       "      <td>3</td>\n",
       "      <td>1</td>\n",
       "      <td>0</td>\n",
       "      <td>0</td>\n",
       "      <td>0</td>\n",
       "      <td>Andre Dawson</td>\n",
       "    </tr>\n",
       "    <tr>\n",
       "      <th>1</th>\n",
       "      <td>2600</td>\n",
       "      <td>0.269</td>\n",
       "      <td>0.335</td>\n",
       "      <td>58</td>\n",
       "      <td>111</td>\n",
       "      <td>17</td>\n",
       "      <td>2</td>\n",
       "      <td>18</td>\n",
       "      <td>66</td>\n",
       "      <td>39</td>\n",
       "      <td>69</td>\n",
       "      <td>0</td>\n",
       "      <td>3</td>\n",
       "      <td>1</td>\n",
       "      <td>1</td>\n",
       "      <td>0</td>\n",
       "      <td>0</td>\n",
       "      <td>Steve Buchele</td>\n",
       "    </tr>\n",
       "    <tr>\n",
       "      <th>2</th>\n",
       "      <td>2500</td>\n",
       "      <td>0.249</td>\n",
       "      <td>0.337</td>\n",
       "      <td>54</td>\n",
       "      <td>115</td>\n",
       "      <td>15</td>\n",
       "      <td>1</td>\n",
       "      <td>17</td>\n",
       "      <td>73</td>\n",
       "      <td>63</td>\n",
       "      <td>116</td>\n",
       "      <td>6</td>\n",
       "      <td>5</td>\n",
       "      <td>1</td>\n",
       "      <td>0</td>\n",
       "      <td>0</td>\n",
       "      <td>0</td>\n",
       "      <td>Kal Daniels</td>\n",
       "    </tr>\n",
       "    <tr>\n",
       "      <th>3</th>\n",
       "      <td>2475</td>\n",
       "      <td>0.260</td>\n",
       "      <td>0.292</td>\n",
       "      <td>59</td>\n",
       "      <td>128</td>\n",
       "      <td>22</td>\n",
       "      <td>7</td>\n",
       "      <td>12</td>\n",
       "      <td>50</td>\n",
       "      <td>23</td>\n",
       "      <td>64</td>\n",
       "      <td>21</td>\n",
       "      <td>21</td>\n",
       "      <td>0</td>\n",
       "      <td>0</td>\n",
       "      <td>1</td>\n",
       "      <td>0</td>\n",
       "      <td>Shawon Dunston</td>\n",
       "    </tr>\n",
       "    <tr>\n",
       "      <th>4</th>\n",
       "      <td>2313</td>\n",
       "      <td>0.273</td>\n",
       "      <td>0.346</td>\n",
       "      <td>87</td>\n",
       "      <td>169</td>\n",
       "      <td>28</td>\n",
       "      <td>5</td>\n",
       "      <td>8</td>\n",
       "      <td>58</td>\n",
       "      <td>70</td>\n",
       "      <td>53</td>\n",
       "      <td>3</td>\n",
       "      <td>8</td>\n",
       "      <td>0</td>\n",
       "      <td>0</td>\n",
       "      <td>1</td>\n",
       "      <td>0</td>\n",
       "      <td>Mark Grace</td>\n",
       "    </tr>\n",
       "  </tbody>\n",
       "</table>\n",
       "</div>"
      ],
      "text/plain": [
       "   Salary    AVG    OBP  Runs  Hits  Doubles  Triples  HR  RBI  Walks   SO  \\\n",
       "0    3300  0.272  0.302    69   153       21        4  31  104     22   80   \n",
       "1    2600  0.269  0.335    58   111       17        2  18   66     39   69   \n",
       "2    2500  0.249  0.337    54   115       15        1  17   73     63  116   \n",
       "3    2475  0.260  0.292    59   128       22        7  12   50     23   64   \n",
       "4    2313  0.273  0.346    87   169       28        5   8   58     70   53   \n",
       "\n",
       "   SB  Errs  free agency eligibility  free agent in 1991/2  \\\n",
       "0   4     3                        1                     0   \n",
       "1   0     3                        1                     1   \n",
       "2   6     5                        1                     0   \n",
       "3  21    21                        0                     0   \n",
       "4   3     8                        0                     0   \n",
       "\n",
       "   arbitration eligibility  arbitration in 1991/2            Name  \n",
       "0                        0                      0    Andre Dawson  \n",
       "1                        0                      0   Steve Buchele  \n",
       "2                        0                      0     Kal Daniels  \n",
       "3                        1                      0  Shawon Dunston  \n",
       "4                        1                      0      Mark Grace  "
      ]
     },
     "execution_count": 6,
     "metadata": {},
     "output_type": "execute_result"
    }
   ],
   "source": [
    "# Pandas can save and load CSV files.  \n",
    "# Python can do this too, but with Pandas, you get a DataFrame \n",
    "# at the end which understands things like column headings\n",
    "baseball = pd.read_csv('data/baseball.dat.txt')\n",
    "\n",
    "# A Dataframe's .head() method shows its first 5 rows\n",
    "baseball.head()"
   ]
  },
  {
   "cell_type": "code",
   "execution_count": null,
   "metadata": {
    "collapsed": true
   },
   "outputs": [],
   "source": []
  },
  {
   "cell_type": "code",
   "execution_count": 10,
   "metadata": {
    "collapsed": false,
    "scrolled": false
   },
   "outputs": [
    {
     "name": "stdout",
     "output_type": "stream",
     "text": [
      "baseball.keys():\n",
      "baseball.Salary:\n",
      "0      3300\n",
      "1      2600\n",
      "2      2500\n",
      "3      2475\n",
      "4      2313\n",
      "5      2175\n",
      "6       600\n",
      "7       460\n",
      "8       240\n",
      "9       200\n",
      "10      177\n",
      "11      140\n",
      "12      117\n",
      "13      115\n",
      "14     2600\n",
      "15     1907\n",
      "16     1190\n",
      "17      990\n",
      "18      925\n",
      "19      365\n",
      "20      302\n",
      "21      300\n",
      "22      129\n",
      "23      111\n",
      "24     6100\n",
      "25     4125\n",
      "26     3213\n",
      "27     2319\n",
      "28     2000\n",
      "29     1600\n",
      "       ... \n",
      "307     205\n",
      "308     185\n",
      "309     115\n",
      "310    3750\n",
      "311    2188\n",
      "312    2167\n",
      "313    2167\n",
      "314    2050\n",
      "315    1445\n",
      "316     875\n",
      "317     560\n",
      "318     360\n",
      "319     162\n",
      "320     133\n",
      "321     109\n",
      "322    4300\n",
      "323    3850\n",
      "324    2387\n",
      "325     950\n",
      "326     675\n",
      "327     600\n",
      "328     287\n",
      "329     230\n",
      "330     215\n",
      "331     183\n",
      "332     170\n",
      "333     160\n",
      "334     142\n",
      "335     140\n",
      "336     109\n",
      "Name: Salary, dtype: int64\n"
     ]
    }
   ],
   "source": [
    "# you can see all the column names\n",
    "print ('baseball.keys():')\n",
    "baseball.keys()\n",
    "print\n",
    "\n",
    "print ('baseball.Salary:')\n",
    "#print baseball.Salary\n",
    "print \n",
    "#print (\"baseball['Salary']:\")\n",
    "print (baseball['Salary'])"
   ]
  },
  {
   "cell_type": "code",
   "execution_count": null,
   "metadata": {
    "collapsed": true
   },
   "outputs": [],
   "source": []
  },
  {
   "cell_type": "code",
   "execution_count": null,
   "metadata": {
    "collapsed": true
   },
   "outputs": [],
   "source": []
  },
  {
   "cell_type": "code",
   "execution_count": null,
   "metadata": {
    "collapsed": true
   },
   "outputs": [],
   "source": []
  },
  {
   "cell_type": "code",
   "execution_count": null,
   "metadata": {
    "collapsed": true
   },
   "outputs": [],
   "source": []
  },
  {
   "cell_type": "code",
   "execution_count": 11,
   "metadata": {
    "collapsed": false,
    "scrolled": true
   },
   "outputs": [
    {
     "name": "stdout",
     "output_type": "stream",
     "text": [
      "<class 'pandas.core.frame.DataFrame'>\n",
      "Int64Index: 337 entries, 0 to 336\n",
      "Data columns (total 18 columns):\n",
      "Salary                     337 non-null int64\n",
      "AVG                        337 non-null float64\n",
      "OBP                        337 non-null float64\n",
      "Runs                       337 non-null int64\n",
      "Hits                       337 non-null int64\n",
      "Doubles                    337 non-null int64\n",
      "Triples                    337 non-null int64\n",
      "HR                         337 non-null int64\n",
      "RBI                        337 non-null int64\n",
      "Walks                      337 non-null int64\n",
      "SO                         337 non-null int64\n",
      "SB                         337 non-null int64\n",
      "Errs                       337 non-null int64\n",
      "free agency eligibility    337 non-null int64\n",
      "free agent in 1991/2       337 non-null int64\n",
      "arbitration eligibility    337 non-null int64\n",
      "arbitration in 1991/2      337 non-null int64\n",
      "Name                       337 non-null object\n",
      "dtypes: float64(2), int64(15), object(1)\n",
      "memory usage: 50.0+ KB\n"
     ]
    }
   ],
   "source": [
    "baseball.info()"
   ]
  },
  {
   "cell_type": "code",
   "execution_count": null,
   "metadata": {
    "collapsed": true
   },
   "outputs": [],
   "source": []
  },
  {
   "cell_type": "code",
   "execution_count": 12,
   "metadata": {
    "collapsed": false
   },
   "outputs": [
    {
     "data": {
      "text/html": [
       "<div>\n",
       "<table border=\"1\" class=\"dataframe\">\n",
       "  <thead>\n",
       "    <tr style=\"text-align: right;\">\n",
       "      <th></th>\n",
       "      <th>Salary</th>\n",
       "      <th>AVG</th>\n",
       "      <th>OBP</th>\n",
       "      <th>Runs</th>\n",
       "      <th>Hits</th>\n",
       "      <th>Doubles</th>\n",
       "      <th>Triples</th>\n",
       "      <th>HR</th>\n",
       "      <th>RBI</th>\n",
       "      <th>Walks</th>\n",
       "      <th>SO</th>\n",
       "      <th>SB</th>\n",
       "      <th>Errs</th>\n",
       "      <th>free agency eligibility</th>\n",
       "      <th>free agent in 1991/2</th>\n",
       "      <th>arbitration eligibility</th>\n",
       "      <th>arbitration in 1991/2</th>\n",
       "    </tr>\n",
       "  </thead>\n",
       "  <tbody>\n",
       "    <tr>\n",
       "      <th>count</th>\n",
       "      <td>337.000000</td>\n",
       "      <td>337.000000</td>\n",
       "      <td>337.000000</td>\n",
       "      <td>337.000000</td>\n",
       "      <td>337.000000</td>\n",
       "      <td>337.000000</td>\n",
       "      <td>337.000000</td>\n",
       "      <td>337.000000</td>\n",
       "      <td>337.000000</td>\n",
       "      <td>337.000000</td>\n",
       "      <td>337.000000</td>\n",
       "      <td>337.000000</td>\n",
       "      <td>337.000000</td>\n",
       "      <td>337.000000</td>\n",
       "      <td>337.000000</td>\n",
       "      <td>337.000000</td>\n",
       "      <td>337.000000</td>\n",
       "    </tr>\n",
       "    <tr>\n",
       "      <th>mean</th>\n",
       "      <td>1248.528190</td>\n",
       "      <td>0.257825</td>\n",
       "      <td>0.323973</td>\n",
       "      <td>46.697329</td>\n",
       "      <td>92.833828</td>\n",
       "      <td>16.673591</td>\n",
       "      <td>2.338279</td>\n",
       "      <td>9.097923</td>\n",
       "      <td>44.020772</td>\n",
       "      <td>35.017804</td>\n",
       "      <td>56.706231</td>\n",
       "      <td>8.246291</td>\n",
       "      <td>6.771513</td>\n",
       "      <td>0.397626</td>\n",
       "      <td>0.115727</td>\n",
       "      <td>0.192878</td>\n",
       "      <td>0.029674</td>\n",
       "    </tr>\n",
       "    <tr>\n",
       "      <th>std</th>\n",
       "      <td>1240.013309</td>\n",
       "      <td>0.039546</td>\n",
       "      <td>0.047132</td>\n",
       "      <td>29.020166</td>\n",
       "      <td>51.896322</td>\n",
       "      <td>10.452001</td>\n",
       "      <td>2.543336</td>\n",
       "      <td>9.289934</td>\n",
       "      <td>29.559406</td>\n",
       "      <td>24.842474</td>\n",
       "      <td>33.828784</td>\n",
       "      <td>11.664782</td>\n",
       "      <td>5.927490</td>\n",
       "      <td>0.490135</td>\n",
       "      <td>0.320373</td>\n",
       "      <td>0.395145</td>\n",
       "      <td>0.169938</td>\n",
       "    </tr>\n",
       "    <tr>\n",
       "      <th>min</th>\n",
       "      <td>109.000000</td>\n",
       "      <td>0.063000</td>\n",
       "      <td>0.063000</td>\n",
       "      <td>0.000000</td>\n",
       "      <td>1.000000</td>\n",
       "      <td>0.000000</td>\n",
       "      <td>0.000000</td>\n",
       "      <td>0.000000</td>\n",
       "      <td>0.000000</td>\n",
       "      <td>0.000000</td>\n",
       "      <td>1.000000</td>\n",
       "      <td>0.000000</td>\n",
       "      <td>0.000000</td>\n",
       "      <td>0.000000</td>\n",
       "      <td>0.000000</td>\n",
       "      <td>0.000000</td>\n",
       "      <td>0.000000</td>\n",
       "    </tr>\n",
       "    <tr>\n",
       "      <th>25%</th>\n",
       "      <td>230.000000</td>\n",
       "      <td>0.238000</td>\n",
       "      <td>0.297000</td>\n",
       "      <td>22.000000</td>\n",
       "      <td>51.000000</td>\n",
       "      <td>9.000000</td>\n",
       "      <td>0.000000</td>\n",
       "      <td>2.000000</td>\n",
       "      <td>21.000000</td>\n",
       "      <td>15.000000</td>\n",
       "      <td>31.000000</td>\n",
       "      <td>1.000000</td>\n",
       "      <td>3.000000</td>\n",
       "      <td>0.000000</td>\n",
       "      <td>0.000000</td>\n",
       "      <td>0.000000</td>\n",
       "      <td>0.000000</td>\n",
       "    </tr>\n",
       "    <tr>\n",
       "      <th>50%</th>\n",
       "      <td>740.000000</td>\n",
       "      <td>0.260000</td>\n",
       "      <td>0.323000</td>\n",
       "      <td>41.000000</td>\n",
       "      <td>91.000000</td>\n",
       "      <td>15.000000</td>\n",
       "      <td>2.000000</td>\n",
       "      <td>6.000000</td>\n",
       "      <td>39.000000</td>\n",
       "      <td>30.000000</td>\n",
       "      <td>49.000000</td>\n",
       "      <td>4.000000</td>\n",
       "      <td>5.000000</td>\n",
       "      <td>0.000000</td>\n",
       "      <td>0.000000</td>\n",
       "      <td>0.000000</td>\n",
       "      <td>0.000000</td>\n",
       "    </tr>\n",
       "    <tr>\n",
       "      <th>75%</th>\n",
       "      <td>2150.000000</td>\n",
       "      <td>0.281000</td>\n",
       "      <td>0.354000</td>\n",
       "      <td>69.000000</td>\n",
       "      <td>136.000000</td>\n",
       "      <td>23.000000</td>\n",
       "      <td>3.000000</td>\n",
       "      <td>15.000000</td>\n",
       "      <td>66.000000</td>\n",
       "      <td>49.000000</td>\n",
       "      <td>78.000000</td>\n",
       "      <td>11.000000</td>\n",
       "      <td>9.000000</td>\n",
       "      <td>1.000000</td>\n",
       "      <td>0.000000</td>\n",
       "      <td>0.000000</td>\n",
       "      <td>0.000000</td>\n",
       "    </tr>\n",
       "    <tr>\n",
       "      <th>max</th>\n",
       "      <td>6100.000000</td>\n",
       "      <td>0.457000</td>\n",
       "      <td>0.486000</td>\n",
       "      <td>133.000000</td>\n",
       "      <td>216.000000</td>\n",
       "      <td>49.000000</td>\n",
       "      <td>15.000000</td>\n",
       "      <td>44.000000</td>\n",
       "      <td>133.000000</td>\n",
       "      <td>138.000000</td>\n",
       "      <td>175.000000</td>\n",
       "      <td>76.000000</td>\n",
       "      <td>31.000000</td>\n",
       "      <td>1.000000</td>\n",
       "      <td>1.000000</td>\n",
       "      <td>1.000000</td>\n",
       "      <td>1.000000</td>\n",
       "    </tr>\n",
       "  </tbody>\n",
       "</table>\n",
       "</div>"
      ],
      "text/plain": [
       "            Salary         AVG         OBP        Runs        Hits  \\\n",
       "count   337.000000  337.000000  337.000000  337.000000  337.000000   \n",
       "mean   1248.528190    0.257825    0.323973   46.697329   92.833828   \n",
       "std    1240.013309    0.039546    0.047132   29.020166   51.896322   \n",
       "min     109.000000    0.063000    0.063000    0.000000    1.000000   \n",
       "25%     230.000000    0.238000    0.297000   22.000000   51.000000   \n",
       "50%     740.000000    0.260000    0.323000   41.000000   91.000000   \n",
       "75%    2150.000000    0.281000    0.354000   69.000000  136.000000   \n",
       "max    6100.000000    0.457000    0.486000  133.000000  216.000000   \n",
       "\n",
       "          Doubles     Triples          HR         RBI       Walks          SO  \\\n",
       "count  337.000000  337.000000  337.000000  337.000000  337.000000  337.000000   \n",
       "mean    16.673591    2.338279    9.097923   44.020772   35.017804   56.706231   \n",
       "std     10.452001    2.543336    9.289934   29.559406   24.842474   33.828784   \n",
       "min      0.000000    0.000000    0.000000    0.000000    0.000000    1.000000   \n",
       "25%      9.000000    0.000000    2.000000   21.000000   15.000000   31.000000   \n",
       "50%     15.000000    2.000000    6.000000   39.000000   30.000000   49.000000   \n",
       "75%     23.000000    3.000000   15.000000   66.000000   49.000000   78.000000   \n",
       "max     49.000000   15.000000   44.000000  133.000000  138.000000  175.000000   \n",
       "\n",
       "               SB        Errs  free agency eligibility  free agent in 1991/2  \\\n",
       "count  337.000000  337.000000               337.000000            337.000000   \n",
       "mean     8.246291    6.771513                 0.397626              0.115727   \n",
       "std     11.664782    5.927490                 0.490135              0.320373   \n",
       "min      0.000000    0.000000                 0.000000              0.000000   \n",
       "25%      1.000000    3.000000                 0.000000              0.000000   \n",
       "50%      4.000000    5.000000                 0.000000              0.000000   \n",
       "75%     11.000000    9.000000                 1.000000              0.000000   \n",
       "max     76.000000   31.000000                 1.000000              1.000000   \n",
       "\n",
       "       arbitration eligibility  arbitration in 1991/2  \n",
       "count               337.000000             337.000000  \n",
       "mean                  0.192878               0.029674  \n",
       "std                   0.395145               0.169938  \n",
       "min                   0.000000               0.000000  \n",
       "25%                   0.000000               0.000000  \n",
       "50%                   0.000000               0.000000  \n",
       "75%                   0.000000               0.000000  \n",
       "max                   1.000000               1.000000  "
      ]
     },
     "execution_count": 12,
     "metadata": {},
     "output_type": "execute_result"
    }
   ],
   "source": [
    "baseball.describe()"
   ]
  },
  {
   "cell_type": "code",
   "execution_count": null,
   "metadata": {
    "collapsed": true
   },
   "outputs": [],
   "source": []
  },
  {
   "cell_type": "code",
   "execution_count": 13,
   "metadata": {
    "collapsed": false
   },
   "outputs": [
    {
     "data": {
      "text/html": [
       "<div>\n",
       "<table border=\"1\" class=\"dataframe\">\n",
       "  <thead>\n",
       "    <tr style=\"text-align: right;\">\n",
       "      <th></th>\n",
       "      <th>Salary</th>\n",
       "      <th>AVG</th>\n",
       "      <th>OBP</th>\n",
       "      <th>Runs</th>\n",
       "      <th>Hits</th>\n",
       "      <th>Doubles</th>\n",
       "      <th>Triples</th>\n",
       "      <th>HR</th>\n",
       "      <th>RBI</th>\n",
       "      <th>Walks</th>\n",
       "      <th>SO</th>\n",
       "      <th>SB</th>\n",
       "      <th>Errs</th>\n",
       "      <th>free agency eligibility</th>\n",
       "      <th>free agent in 1991/2</th>\n",
       "      <th>arbitration eligibility</th>\n",
       "      <th>arbitration in 1991/2</th>\n",
       "      <th>Name</th>\n",
       "    </tr>\n",
       "  </thead>\n",
       "  <tbody>\n",
       "    <tr>\n",
       "      <th>0</th>\n",
       "      <td>3300</td>\n",
       "      <td>0.272</td>\n",
       "      <td>0.302</td>\n",
       "      <td>69</td>\n",
       "      <td>153</td>\n",
       "      <td>21</td>\n",
       "      <td>4</td>\n",
       "      <td>31</td>\n",
       "      <td>104</td>\n",
       "      <td>22</td>\n",
       "      <td>80</td>\n",
       "      <td>4</td>\n",
       "      <td>3</td>\n",
       "      <td>1</td>\n",
       "      <td>0</td>\n",
       "      <td>0</td>\n",
       "      <td>0</td>\n",
       "      <td>Andre Dawson</td>\n",
       "    </tr>\n",
       "    <tr>\n",
       "      <th>1</th>\n",
       "      <td>2600</td>\n",
       "      <td>0.269</td>\n",
       "      <td>0.335</td>\n",
       "      <td>58</td>\n",
       "      <td>111</td>\n",
       "      <td>17</td>\n",
       "      <td>2</td>\n",
       "      <td>18</td>\n",
       "      <td>66</td>\n",
       "      <td>39</td>\n",
       "      <td>69</td>\n",
       "      <td>0</td>\n",
       "      <td>3</td>\n",
       "      <td>1</td>\n",
       "      <td>1</td>\n",
       "      <td>0</td>\n",
       "      <td>0</td>\n",
       "      <td>Steve Buchele</td>\n",
       "    </tr>\n",
       "    <tr>\n",
       "      <th>2</th>\n",
       "      <td>2500</td>\n",
       "      <td>0.249</td>\n",
       "      <td>0.337</td>\n",
       "      <td>54</td>\n",
       "      <td>115</td>\n",
       "      <td>15</td>\n",
       "      <td>1</td>\n",
       "      <td>17</td>\n",
       "      <td>73</td>\n",
       "      <td>63</td>\n",
       "      <td>116</td>\n",
       "      <td>6</td>\n",
       "      <td>5</td>\n",
       "      <td>1</td>\n",
       "      <td>0</td>\n",
       "      <td>0</td>\n",
       "      <td>0</td>\n",
       "      <td>Kal Daniels</td>\n",
       "    </tr>\n",
       "    <tr>\n",
       "      <th>3</th>\n",
       "      <td>2475</td>\n",
       "      <td>0.260</td>\n",
       "      <td>0.292</td>\n",
       "      <td>59</td>\n",
       "      <td>128</td>\n",
       "      <td>22</td>\n",
       "      <td>7</td>\n",
       "      <td>12</td>\n",
       "      <td>50</td>\n",
       "      <td>23</td>\n",
       "      <td>64</td>\n",
       "      <td>21</td>\n",
       "      <td>21</td>\n",
       "      <td>0</td>\n",
       "      <td>0</td>\n",
       "      <td>1</td>\n",
       "      <td>0</td>\n",
       "      <td>Shawon Dunston</td>\n",
       "    </tr>\n",
       "    <tr>\n",
       "      <th>4</th>\n",
       "      <td>2313</td>\n",
       "      <td>0.273</td>\n",
       "      <td>0.346</td>\n",
       "      <td>87</td>\n",
       "      <td>169</td>\n",
       "      <td>28</td>\n",
       "      <td>5</td>\n",
       "      <td>8</td>\n",
       "      <td>58</td>\n",
       "      <td>70</td>\n",
       "      <td>53</td>\n",
       "      <td>3</td>\n",
       "      <td>8</td>\n",
       "      <td>0</td>\n",
       "      <td>0</td>\n",
       "      <td>1</td>\n",
       "      <td>0</td>\n",
       "      <td>Mark Grace</td>\n",
       "    </tr>\n",
       "    <tr>\n",
       "      <th>5</th>\n",
       "      <td>2175</td>\n",
       "      <td>0.291</td>\n",
       "      <td>0.379</td>\n",
       "      <td>104</td>\n",
       "      <td>170</td>\n",
       "      <td>32</td>\n",
       "      <td>2</td>\n",
       "      <td>26</td>\n",
       "      <td>100</td>\n",
       "      <td>87</td>\n",
       "      <td>89</td>\n",
       "      <td>22</td>\n",
       "      <td>4</td>\n",
       "      <td>1</td>\n",
       "      <td>0</td>\n",
       "      <td>0</td>\n",
       "      <td>0</td>\n",
       "      <td>Ryne Sandberg</td>\n",
       "    </tr>\n",
       "    <tr>\n",
       "      <th>6</th>\n",
       "      <td>600</td>\n",
       "      <td>0.258</td>\n",
       "      <td>0.370</td>\n",
       "      <td>34</td>\n",
       "      <td>86</td>\n",
       "      <td>14</td>\n",
       "      <td>1</td>\n",
       "      <td>14</td>\n",
       "      <td>38</td>\n",
       "      <td>15</td>\n",
       "      <td>45</td>\n",
       "      <td>0</td>\n",
       "      <td>10</td>\n",
       "      <td>1</td>\n",
       "      <td>0</td>\n",
       "      <td>0</td>\n",
       "      <td>0</td>\n",
       "      <td>Luis Salazar</td>\n",
       "    </tr>\n",
       "    <tr>\n",
       "      <th>7</th>\n",
       "      <td>460</td>\n",
       "      <td>0.228</td>\n",
       "      <td>0.279</td>\n",
       "      <td>16</td>\n",
       "      <td>38</td>\n",
       "      <td>7</td>\n",
       "      <td>2</td>\n",
       "      <td>3</td>\n",
       "      <td>21</td>\n",
       "      <td>11</td>\n",
       "      <td>32</td>\n",
       "      <td>2</td>\n",
       "      <td>3</td>\n",
       "      <td>0</td>\n",
       "      <td>0</td>\n",
       "      <td>0</td>\n",
       "      <td>0</td>\n",
       "      <td>Dwight Smith</td>\n",
       "    </tr>\n",
       "    <tr>\n",
       "      <th>8</th>\n",
       "      <td>240</td>\n",
       "      <td>0.250</td>\n",
       "      <td>0.327</td>\n",
       "      <td>40</td>\n",
       "      <td>61</td>\n",
       "      <td>11</td>\n",
       "      <td>0</td>\n",
       "      <td>1</td>\n",
       "      <td>18</td>\n",
       "      <td>24</td>\n",
       "      <td>26</td>\n",
       "      <td>14</td>\n",
       "      <td>2</td>\n",
       "      <td>0</td>\n",
       "      <td>0</td>\n",
       "      <td>0</td>\n",
       "      <td>0</td>\n",
       "      <td>Doug Dascenzo</td>\n",
       "    </tr>\n",
       "    <tr>\n",
       "      <th>9</th>\n",
       "      <td>200</td>\n",
       "      <td>0.203</td>\n",
       "      <td>0.240</td>\n",
       "      <td>39</td>\n",
       "      <td>64</td>\n",
       "      <td>10</td>\n",
       "      <td>1</td>\n",
       "      <td>10</td>\n",
       "      <td>33</td>\n",
       "      <td>14</td>\n",
       "      <td>96</td>\n",
       "      <td>13</td>\n",
       "      <td>6</td>\n",
       "      <td>0</td>\n",
       "      <td>0</td>\n",
       "      <td>0</td>\n",
       "      <td>0</td>\n",
       "      <td>Sammy Sosa</td>\n",
       "    </tr>\n",
       "    <tr>\n",
       "      <th>10</th>\n",
       "      <td>177</td>\n",
       "      <td>0.262</td>\n",
       "      <td>0.283</td>\n",
       "      <td>7</td>\n",
       "      <td>38</td>\n",
       "      <td>5</td>\n",
       "      <td>0</td>\n",
       "      <td>0</td>\n",
       "      <td>10</td>\n",
       "      <td>5</td>\n",
       "      <td>18</td>\n",
       "      <td>2</td>\n",
       "      <td>7</td>\n",
       "      <td>0</td>\n",
       "      <td>0</td>\n",
       "      <td>0</td>\n",
       "      <td>0</td>\n",
       "      <td>Jose Vizcaino</td>\n",
       "    </tr>\n",
       "    <tr>\n",
       "      <th>11</th>\n",
       "      <td>140</td>\n",
       "      <td>0.222</td>\n",
       "      <td>0.307</td>\n",
       "      <td>21</td>\n",
       "      <td>45</td>\n",
       "      <td>9</td>\n",
       "      <td>0</td>\n",
       "      <td>6</td>\n",
       "      <td>22</td>\n",
       "      <td>19</td>\n",
       "      <td>56</td>\n",
       "      <td>3</td>\n",
       "      <td>3</td>\n",
       "      <td>0</td>\n",
       "      <td>0</td>\n",
       "      <td>0</td>\n",
       "      <td>0</td>\n",
       "      <td>Rick Wilkins</td>\n",
       "    </tr>\n",
       "    <tr>\n",
       "      <th>12</th>\n",
       "      <td>117</td>\n",
       "      <td>0.227</td>\n",
       "      <td>0.280</td>\n",
       "      <td>4</td>\n",
       "      <td>5</td>\n",
       "      <td>2</td>\n",
       "      <td>0</td>\n",
       "      <td>1</td>\n",
       "      <td>3</td>\n",
       "      <td>2</td>\n",
       "      <td>1</td>\n",
       "      <td>0</td>\n",
       "      <td>0</td>\n",
       "      <td>0</td>\n",
       "      <td>0</td>\n",
       "      <td>0</td>\n",
       "      <td>0</td>\n",
       "      <td>Derrick May</td>\n",
       "    </tr>\n",
       "    <tr>\n",
       "      <th>13</th>\n",
       "      <td>115</td>\n",
       "      <td>0.261</td>\n",
       "      <td>0.370</td>\n",
       "      <td>1</td>\n",
       "      <td>6</td>\n",
       "      <td>0</td>\n",
       "      <td>0</td>\n",
       "      <td>0</td>\n",
       "      <td>2</td>\n",
       "      <td>4</td>\n",
       "      <td>3</td>\n",
       "      <td>0</td>\n",
       "      <td>0</td>\n",
       "      <td>0</td>\n",
       "      <td>0</td>\n",
       "      <td>0</td>\n",
       "      <td>0</td>\n",
       "      <td>Rey Sanchez</td>\n",
       "    </tr>\n",
       "    <tr>\n",
       "      <th>14</th>\n",
       "      <td>2600</td>\n",
       "      <td>0.300</td>\n",
       "      <td>0.368</td>\n",
       "      <td>69</td>\n",
       "      <td>141</td>\n",
       "      <td>22</td>\n",
       "      <td>3</td>\n",
       "      <td>19</td>\n",
       "      <td>75</td>\n",
       "      <td>53</td>\n",
       "      <td>64</td>\n",
       "      <td>31</td>\n",
       "      <td>7</td>\n",
       "      <td>1</td>\n",
       "      <td>0</td>\n",
       "      <td>0</td>\n",
       "      <td>0</td>\n",
       "      <td>Ivan Calderon</td>\n",
       "    </tr>\n",
       "    <tr>\n",
       "      <th>15</th>\n",
       "      <td>1907</td>\n",
       "      <td>0.225</td>\n",
       "      <td>0.292</td>\n",
       "      <td>60</td>\n",
       "      <td>130</td>\n",
       "      <td>22</td>\n",
       "      <td>1</td>\n",
       "      <td>13</td>\n",
       "      <td>73</td>\n",
       "      <td>50</td>\n",
       "      <td>100</td>\n",
       "      <td>2</td>\n",
       "      <td>14</td>\n",
       "      <td>1</td>\n",
       "      <td>0</td>\n",
       "      <td>0</td>\n",
       "      <td>0</td>\n",
       "      <td>Tim Wallach</td>\n",
       "    </tr>\n",
       "    <tr>\n",
       "      <th>16</th>\n",
       "      <td>1190</td>\n",
       "      <td>0.255</td>\n",
       "      <td>0.321</td>\n",
       "      <td>39</td>\n",
       "      <td>108</td>\n",
       "      <td>22</td>\n",
       "      <td>8</td>\n",
       "      <td>3</td>\n",
       "      <td>26</td>\n",
       "      <td>42</td>\n",
       "      <td>61</td>\n",
       "      <td>2</td>\n",
       "      <td>8</td>\n",
       "      <td>0</td>\n",
       "      <td>0</td>\n",
       "      <td>1</td>\n",
       "      <td>0</td>\n",
       "      <td>Spike Owen</td>\n",
       "    </tr>\n",
       "    <tr>\n",
       "      <th>17</th>\n",
       "      <td>990</td>\n",
       "      <td>0.290</td>\n",
       "      <td>0.349</td>\n",
       "      <td>59</td>\n",
       "      <td>141</td>\n",
       "      <td>30</td>\n",
       "      <td>2</td>\n",
       "      <td>16</td>\n",
       "      <td>64</td>\n",
       "      <td>42</td>\n",
       "      <td>102</td>\n",
       "      <td>14</td>\n",
       "      <td>6</td>\n",
       "      <td>1</td>\n",
       "      <td>0</td>\n",
       "      <td>0</td>\n",
       "      <td>0</td>\n",
       "      <td>Larry Walker</td>\n",
       "    </tr>\n",
       "    <tr>\n",
       "      <th>18</th>\n",
       "      <td>925</td>\n",
       "      <td>0.246</td>\n",
       "      <td>0.323</td>\n",
       "      <td>22</td>\n",
       "      <td>81</td>\n",
       "      <td>14</td>\n",
       "      <td>0</td>\n",
       "      <td>6</td>\n",
       "      <td>26</td>\n",
       "      <td>22</td>\n",
       "      <td>26</td>\n",
       "      <td>2</td>\n",
       "      <td>5</td>\n",
       "      <td>1</td>\n",
       "      <td>0</td>\n",
       "      <td>0</td>\n",
       "      <td>0</td>\n",
       "      <td>Gary Carter</td>\n",
       "    </tr>\n",
       "    <tr>\n",
       "      <th>19</th>\n",
       "      <td>365</td>\n",
       "      <td>0.208</td>\n",
       "      <td>0.265</td>\n",
       "      <td>12</td>\n",
       "      <td>35</td>\n",
       "      <td>11</td>\n",
       "      <td>1</td>\n",
       "      <td>0</td>\n",
       "      <td>15</td>\n",
       "      <td>14</td>\n",
       "      <td>30</td>\n",
       "      <td>2</td>\n",
       "      <td>6</td>\n",
       "      <td>0</td>\n",
       "      <td>0</td>\n",
       "      <td>0</td>\n",
       "      <td>0</td>\n",
       "      <td>Tom Foley</td>\n",
       "    </tr>\n",
       "    <tr>\n",
       "      <th>20</th>\n",
       "      <td>302</td>\n",
       "      <td>0.238</td>\n",
       "      <td>0.347</td>\n",
       "      <td>83</td>\n",
       "      <td>134</td>\n",
       "      <td>15</td>\n",
       "      <td>4</td>\n",
       "      <td>10</td>\n",
       "      <td>51</td>\n",
       "      <td>95</td>\n",
       "      <td>151</td>\n",
       "      <td>56</td>\n",
       "      <td>27</td>\n",
       "      <td>0</td>\n",
       "      <td>0</td>\n",
       "      <td>0</td>\n",
       "      <td>0</td>\n",
       "      <td>Delino DeShields</td>\n",
       "    </tr>\n",
       "    <tr>\n",
       "      <th>21</th>\n",
       "      <td>300</td>\n",
       "      <td>0.267</td>\n",
       "      <td>0.310</td>\n",
       "      <td>73</td>\n",
       "      <td>149</td>\n",
       "      <td>23</td>\n",
       "      <td>9</td>\n",
       "      <td>6</td>\n",
       "      <td>39</td>\n",
       "      <td>34</td>\n",
       "      <td>89</td>\n",
       "      <td>76</td>\n",
       "      <td>6</td>\n",
       "      <td>0</td>\n",
       "      <td>0</td>\n",
       "      <td>0</td>\n",
       "      <td>0</td>\n",
       "      <td>Marquis Grissom</td>\n",
       "    </tr>\n",
       "    <tr>\n",
       "      <th>22</th>\n",
       "      <td>129</td>\n",
       "      <td>0.353</td>\n",
       "      <td>0.435</td>\n",
       "      <td>16</td>\n",
       "      <td>48</td>\n",
       "      <td>12</td>\n",
       "      <td>2</td>\n",
       "      <td>2</td>\n",
       "      <td>18</td>\n",
       "      <td>20</td>\n",
       "      <td>22</td>\n",
       "      <td>0</td>\n",
       "      <td>5</td>\n",
       "      <td>0</td>\n",
       "      <td>0</td>\n",
       "      <td>0</td>\n",
       "      <td>0</td>\n",
       "      <td>Bret Barberie</td>\n",
       "    </tr>\n",
       "    <tr>\n",
       "      <th>23</th>\n",
       "      <td>111</td>\n",
       "      <td>0.213</td>\n",
       "      <td>0.222</td>\n",
       "      <td>4</td>\n",
       "      <td>13</td>\n",
       "      <td>4</td>\n",
       "      <td>1</td>\n",
       "      <td>1</td>\n",
       "      <td>8</td>\n",
       "      <td>1</td>\n",
       "      <td>18</td>\n",
       "      <td>0</td>\n",
       "      <td>0</td>\n",
       "      <td>0</td>\n",
       "      <td>0</td>\n",
       "      <td>0</td>\n",
       "      <td>0</td>\n",
       "      <td>John VanderWal</td>\n",
       "    </tr>\n",
       "    <tr>\n",
       "      <th>24</th>\n",
       "      <td>6100</td>\n",
       "      <td>0.302</td>\n",
       "      <td>0.391</td>\n",
       "      <td>102</td>\n",
       "      <td>174</td>\n",
       "      <td>44</td>\n",
       "      <td>6</td>\n",
       "      <td>18</td>\n",
       "      <td>100</td>\n",
       "      <td>90</td>\n",
       "      <td>67</td>\n",
       "      <td>2</td>\n",
       "      <td>15</td>\n",
       "      <td>1</td>\n",
       "      <td>1</td>\n",
       "      <td>0</td>\n",
       "      <td>0</td>\n",
       "      <td>Bobby Bonilla</td>\n",
       "    </tr>\n",
       "    <tr>\n",
       "      <th>25</th>\n",
       "      <td>4125</td>\n",
       "      <td>0.260</td>\n",
       "      <td>0.321</td>\n",
       "      <td>69</td>\n",
       "      <td>150</td>\n",
       "      <td>23</td>\n",
       "      <td>1</td>\n",
       "      <td>19</td>\n",
       "      <td>96</td>\n",
       "      <td>55</td>\n",
       "      <td>74</td>\n",
       "      <td>10</td>\n",
       "      <td>7</td>\n",
       "      <td>1</td>\n",
       "      <td>1</td>\n",
       "      <td>0</td>\n",
       "      <td>0</td>\n",
       "      <td>Eddie Murray</td>\n",
       "    </tr>\n",
       "    <tr>\n",
       "      <th>26</th>\n",
       "      <td>3213</td>\n",
       "      <td>0.255</td>\n",
       "      <td>0.347</td>\n",
       "      <td>45</td>\n",
       "      <td>71</td>\n",
       "      <td>7</td>\n",
       "      <td>5</td>\n",
       "      <td>1</td>\n",
       "      <td>17</td>\n",
       "      <td>39</td>\n",
       "      <td>47</td>\n",
       "      <td>37</td>\n",
       "      <td>3</td>\n",
       "      <td>1</td>\n",
       "      <td>0</td>\n",
       "      <td>0</td>\n",
       "      <td>0</td>\n",
       "      <td>Vince Coleman</td>\n",
       "    </tr>\n",
       "    <tr>\n",
       "      <th>27</th>\n",
       "      <td>2319</td>\n",
       "      <td>0.259</td>\n",
       "      <td>0.349</td>\n",
       "      <td>108</td>\n",
       "      <td>146</td>\n",
       "      <td>34</td>\n",
       "      <td>4</td>\n",
       "      <td>38</td>\n",
       "      <td>117</td>\n",
       "      <td>78</td>\n",
       "      <td>120</td>\n",
       "      <td>30</td>\n",
       "      <td>31</td>\n",
       "      <td>1</td>\n",
       "      <td>0</td>\n",
       "      <td>0</td>\n",
       "      <td>0</td>\n",
       "      <td>Howard Johnson</td>\n",
       "    </tr>\n",
       "    <tr>\n",
       "      <th>28</th>\n",
       "      <td>2000</td>\n",
       "      <td>0.223</td>\n",
       "      <td>0.307</td>\n",
       "      <td>43</td>\n",
       "      <td>84</td>\n",
       "      <td>10</td>\n",
       "      <td>4</td>\n",
       "      <td>10</td>\n",
       "      <td>40</td>\n",
       "      <td>36</td>\n",
       "      <td>56</td>\n",
       "      <td>7</td>\n",
       "      <td>4</td>\n",
       "      <td>1</td>\n",
       "      <td>0</td>\n",
       "      <td>0</td>\n",
       "      <td>0</td>\n",
       "      <td>Kevin Bass</td>\n",
       "    </tr>\n",
       "    <tr>\n",
       "      <th>29</th>\n",
       "      <td>1600</td>\n",
       "      <td>0.225</td>\n",
       "      <td>0.310</td>\n",
       "      <td>44</td>\n",
       "      <td>96</td>\n",
       "      <td>9</td>\n",
       "      <td>3</td>\n",
       "      <td>0</td>\n",
       "      <td>31</td>\n",
       "      <td>50</td>\n",
       "      <td>69</td>\n",
       "      <td>8</td>\n",
       "      <td>15</td>\n",
       "      <td>1</td>\n",
       "      <td>1</td>\n",
       "      <td>0</td>\n",
       "      <td>0</td>\n",
       "      <td>Dick Schofield</td>\n",
       "    </tr>\n",
       "    <tr>\n",
       "      <th>...</th>\n",
       "      <td>...</td>\n",
       "      <td>...</td>\n",
       "      <td>...</td>\n",
       "      <td>...</td>\n",
       "      <td>...</td>\n",
       "      <td>...</td>\n",
       "      <td>...</td>\n",
       "      <td>...</td>\n",
       "      <td>...</td>\n",
       "      <td>...</td>\n",
       "      <td>...</td>\n",
       "      <td>...</td>\n",
       "      <td>...</td>\n",
       "      <td>...</td>\n",
       "      <td>...</td>\n",
       "      <td>...</td>\n",
       "      <td>...</td>\n",
       "      <td>...</td>\n",
       "    </tr>\n",
       "    <tr>\n",
       "      <th>307</th>\n",
       "      <td>205</td>\n",
       "      <td>0.249</td>\n",
       "      <td>0.336</td>\n",
       "      <td>33</td>\n",
       "      <td>46</td>\n",
       "      <td>8</td>\n",
       "      <td>0</td>\n",
       "      <td>3</td>\n",
       "      <td>21</td>\n",
       "      <td>23</td>\n",
       "      <td>42</td>\n",
       "      <td>12</td>\n",
       "      <td>3</td>\n",
       "      <td>0</td>\n",
       "      <td>0</td>\n",
       "      <td>0</td>\n",
       "      <td>0</td>\n",
       "      <td>Lance Blankenship</td>\n",
       "    </tr>\n",
       "    <tr>\n",
       "      <th>308</th>\n",
       "      <td>185</td>\n",
       "      <td>0.238</td>\n",
       "      <td>0.289</td>\n",
       "      <td>21</td>\n",
       "      <td>56</td>\n",
       "      <td>5</td>\n",
       "      <td>1</td>\n",
       "      <td>0</td>\n",
       "      <td>21</td>\n",
       "      <td>14</td>\n",
       "      <td>37</td>\n",
       "      <td>3</td>\n",
       "      <td>11</td>\n",
       "      <td>0</td>\n",
       "      <td>0</td>\n",
       "      <td>0</td>\n",
       "      <td>0</td>\n",
       "      <td>Mike Bordick</td>\n",
       "    </tr>\n",
       "    <tr>\n",
       "      <th>309</th>\n",
       "      <td>115</td>\n",
       "      <td>0.235</td>\n",
       "      <td>0.268</td>\n",
       "      <td>9</td>\n",
       "      <td>16</td>\n",
       "      <td>5</td>\n",
       "      <td>0</td>\n",
       "      <td>2</td>\n",
       "      <td>4</td>\n",
       "      <td>3</td>\n",
       "      <td>11</td>\n",
       "      <td>3</td>\n",
       "      <td>1</td>\n",
       "      <td>0</td>\n",
       "      <td>0</td>\n",
       "      <td>0</td>\n",
       "      <td>0</td>\n",
       "      <td>Scott Brosius</td>\n",
       "    </tr>\n",
       "    <tr>\n",
       "      <th>310</th>\n",
       "      <td>3750</td>\n",
       "      <td>0.256</td>\n",
       "      <td>0.338</td>\n",
       "      <td>52</td>\n",
       "      <td>95</td>\n",
       "      <td>13</td>\n",
       "      <td>1</td>\n",
       "      <td>27</td>\n",
       "      <td>69</td>\n",
       "      <td>43</td>\n",
       "      <td>57</td>\n",
       "      <td>2</td>\n",
       "      <td>6</td>\n",
       "      <td>1</td>\n",
       "      <td>0</td>\n",
       "      <td>0</td>\n",
       "      <td>0</td>\n",
       "      <td>Kevin Mitchell</td>\n",
       "    </tr>\n",
       "    <tr>\n",
       "      <th>311</th>\n",
       "      <td>2188</td>\n",
       "      <td>0.248</td>\n",
       "      <td>0.300</td>\n",
       "      <td>58</td>\n",
       "      <td>139</td>\n",
       "      <td>29</td>\n",
       "      <td>3</td>\n",
       "      <td>17</td>\n",
       "      <td>88</td>\n",
       "      <td>44</td>\n",
       "      <td>61</td>\n",
       "      <td>0</td>\n",
       "      <td>5</td>\n",
       "      <td>1</td>\n",
       "      <td>0</td>\n",
       "      <td>0</td>\n",
       "      <td>0</td>\n",
       "      <td>Pete O'Brien</td>\n",
       "    </tr>\n",
       "    <tr>\n",
       "      <th>312</th>\n",
       "      <td>2167</td>\n",
       "      <td>0.254</td>\n",
       "      <td>0.332</td>\n",
       "      <td>95</td>\n",
       "      <td>160</td>\n",
       "      <td>34</td>\n",
       "      <td>6</td>\n",
       "      <td>3</td>\n",
       "      <td>57</td>\n",
       "      <td>72</td>\n",
       "      <td>63</td>\n",
       "      <td>28</td>\n",
       "      <td>18</td>\n",
       "      <td>0</td>\n",
       "      <td>0</td>\n",
       "      <td>1</td>\n",
       "      <td>0</td>\n",
       "      <td>Harold Reynolds</td>\n",
       "    </tr>\n",
       "    <tr>\n",
       "      <th>313</th>\n",
       "      <td>2167</td>\n",
       "      <td>0.194</td>\n",
       "      <td>0.286</td>\n",
       "      <td>38</td>\n",
       "      <td>63</td>\n",
       "      <td>8</td>\n",
       "      <td>1</td>\n",
       "      <td>8</td>\n",
       "      <td>32</td>\n",
       "      <td>34</td>\n",
       "      <td>49</td>\n",
       "      <td>0</td>\n",
       "      <td>6</td>\n",
       "      <td>1</td>\n",
       "      <td>0</td>\n",
       "      <td>0</td>\n",
       "      <td>0</td>\n",
       "      <td>Dave Valle</td>\n",
       "    </tr>\n",
       "    <tr>\n",
       "      <th>314</th>\n",
       "      <td>2050</td>\n",
       "      <td>0.327</td>\n",
       "      <td>0.399</td>\n",
       "      <td>76</td>\n",
       "      <td>179</td>\n",
       "      <td>42</td>\n",
       "      <td>1</td>\n",
       "      <td>22</td>\n",
       "      <td>100</td>\n",
       "      <td>71</td>\n",
       "      <td>82</td>\n",
       "      <td>18</td>\n",
       "      <td>4</td>\n",
       "      <td>0</td>\n",
       "      <td>0</td>\n",
       "      <td>1</td>\n",
       "      <td>0</td>\n",
       "      <td>Ken Griffey</td>\n",
       "    </tr>\n",
       "    <tr>\n",
       "      <th>315</th>\n",
       "      <td>1445</td>\n",
       "      <td>0.244</td>\n",
       "      <td>0.337</td>\n",
       "      <td>64</td>\n",
       "      <td>99</td>\n",
       "      <td>14</td>\n",
       "      <td>4</td>\n",
       "      <td>27</td>\n",
       "      <td>77</td>\n",
       "      <td>53</td>\n",
       "      <td>117</td>\n",
       "      <td>0</td>\n",
       "      <td>5</td>\n",
       "      <td>0</td>\n",
       "      <td>0</td>\n",
       "      <td>1</td>\n",
       "      <td>0</td>\n",
       "      <td>Jay Buhner</td>\n",
       "    </tr>\n",
       "    <tr>\n",
       "      <th>316</th>\n",
       "      <td>875</td>\n",
       "      <td>0.305</td>\n",
       "      <td>0.347</td>\n",
       "      <td>35</td>\n",
       "      <td>54</td>\n",
       "      <td>6</td>\n",
       "      <td>2</td>\n",
       "      <td>6</td>\n",
       "      <td>23</td>\n",
       "      <td>10</td>\n",
       "      <td>27</td>\n",
       "      <td>16</td>\n",
       "      <td>2</td>\n",
       "      <td>0</td>\n",
       "      <td>0</td>\n",
       "      <td>1</td>\n",
       "      <td>0</td>\n",
       "      <td>Henry Cotto</td>\n",
       "    </tr>\n",
       "    <tr>\n",
       "      <th>317</th>\n",
       "      <td>560</td>\n",
       "      <td>0.307</td>\n",
       "      <td>0.405</td>\n",
       "      <td>98</td>\n",
       "      <td>167</td>\n",
       "      <td>35</td>\n",
       "      <td>1</td>\n",
       "      <td>14</td>\n",
       "      <td>52</td>\n",
       "      <td>84</td>\n",
       "      <td>72</td>\n",
       "      <td>0</td>\n",
       "      <td>15</td>\n",
       "      <td>0</td>\n",
       "      <td>0</td>\n",
       "      <td>0</td>\n",
       "      <td>0</td>\n",
       "      <td>Edgar Martinez</td>\n",
       "    </tr>\n",
       "    <tr>\n",
       "      <th>318</th>\n",
       "      <td>360</td>\n",
       "      <td>0.230</td>\n",
       "      <td>0.302</td>\n",
       "      <td>42</td>\n",
       "      <td>98</td>\n",
       "      <td>16</td>\n",
       "      <td>4</td>\n",
       "      <td>1</td>\n",
       "      <td>41</td>\n",
       "      <td>45</td>\n",
       "      <td>37</td>\n",
       "      <td>7</td>\n",
       "      <td>13</td>\n",
       "      <td>0</td>\n",
       "      <td>0</td>\n",
       "      <td>0</td>\n",
       "      <td>0</td>\n",
       "      <td>Omar Vizquel</td>\n",
       "    </tr>\n",
       "    <tr>\n",
       "      <th>319</th>\n",
       "      <td>162</td>\n",
       "      <td>0.247</td>\n",
       "      <td>0.286</td>\n",
       "      <td>16</td>\n",
       "      <td>44</td>\n",
       "      <td>13</td>\n",
       "      <td>0</td>\n",
       "      <td>2</td>\n",
       "      <td>22</td>\n",
       "      <td>9</td>\n",
       "      <td>38</td>\n",
       "      <td>0</td>\n",
       "      <td>7</td>\n",
       "      <td>0</td>\n",
       "      <td>0</td>\n",
       "      <td>0</td>\n",
       "      <td>0</td>\n",
       "      <td>Dave Cochrane</td>\n",
       "    </tr>\n",
       "    <tr>\n",
       "      <th>320</th>\n",
       "      <td>133</td>\n",
       "      <td>0.205</td>\n",
       "      <td>0.272</td>\n",
       "      <td>11</td>\n",
       "      <td>23</td>\n",
       "      <td>2</td>\n",
       "      <td>0</td>\n",
       "      <td>4</td>\n",
       "      <td>9</td>\n",
       "      <td>11</td>\n",
       "      <td>24</td>\n",
       "      <td>0</td>\n",
       "      <td>2</td>\n",
       "      <td>0</td>\n",
       "      <td>0</td>\n",
       "      <td>0</td>\n",
       "      <td>0</td>\n",
       "      <td>Tino Martinez</td>\n",
       "    </tr>\n",
       "    <tr>\n",
       "      <th>321</th>\n",
       "      <td>109</td>\n",
       "      <td>0.216</td>\n",
       "      <td>0.285</td>\n",
       "      <td>38</td>\n",
       "      <td>87</td>\n",
       "      <td>12</td>\n",
       "      <td>0</td>\n",
       "      <td>19</td>\n",
       "      <td>51</td>\n",
       "      <td>35</td>\n",
       "      <td>117</td>\n",
       "      <td>0</td>\n",
       "      <td>2</td>\n",
       "      <td>1</td>\n",
       "      <td>0</td>\n",
       "      <td>0</td>\n",
       "      <td>0</td>\n",
       "      <td>Lance Parrish</td>\n",
       "    </tr>\n",
       "    <tr>\n",
       "      <th>322</th>\n",
       "      <td>4300</td>\n",
       "      <td>0.266</td>\n",
       "      <td>0.359</td>\n",
       "      <td>115</td>\n",
       "      <td>152</td>\n",
       "      <td>32</td>\n",
       "      <td>1</td>\n",
       "      <td>44</td>\n",
       "      <td>122</td>\n",
       "      <td>78</td>\n",
       "      <td>152</td>\n",
       "      <td>26</td>\n",
       "      <td>9</td>\n",
       "      <td>1</td>\n",
       "      <td>0</td>\n",
       "      <td>0</td>\n",
       "      <td>0</td>\n",
       "      <td>Jose Canseco</td>\n",
       "    </tr>\n",
       "    <tr>\n",
       "      <th>323</th>\n",
       "      <td>3850</td>\n",
       "      <td>0.322</td>\n",
       "      <td>0.389</td>\n",
       "      <td>115</td>\n",
       "      <td>203</td>\n",
       "      <td>49</td>\n",
       "      <td>3</td>\n",
       "      <td>26</td>\n",
       "      <td>88</td>\n",
       "      <td>68</td>\n",
       "      <td>72</td>\n",
       "      <td>4</td>\n",
       "      <td>12</td>\n",
       "      <td>0</td>\n",
       "      <td>0</td>\n",
       "      <td>1</td>\n",
       "      <td>1</td>\n",
       "      <td>Rafael Palmeiro</td>\n",
       "    </tr>\n",
       "    <tr>\n",
       "      <th>324</th>\n",
       "      <td>2387</td>\n",
       "      <td>0.341</td>\n",
       "      <td>0.408</td>\n",
       "      <td>108</td>\n",
       "      <td>201</td>\n",
       "      <td>27</td>\n",
       "      <td>3</td>\n",
       "      <td>15</td>\n",
       "      <td>78</td>\n",
       "      <td>65</td>\n",
       "      <td>78</td>\n",
       "      <td>36</td>\n",
       "      <td>14</td>\n",
       "      <td>1</td>\n",
       "      <td>0</td>\n",
       "      <td>0</td>\n",
       "      <td>0</td>\n",
       "      <td>Julio Franco</td>\n",
       "    </tr>\n",
       "    <tr>\n",
       "      <th>325</th>\n",
       "      <td>950</td>\n",
       "      <td>0.278</td>\n",
       "      <td>0.377</td>\n",
       "      <td>76</td>\n",
       "      <td>113</td>\n",
       "      <td>17</td>\n",
       "      <td>2</td>\n",
       "      <td>17</td>\n",
       "      <td>49</td>\n",
       "      <td>58</td>\n",
       "      <td>70</td>\n",
       "      <td>1</td>\n",
       "      <td>0</td>\n",
       "      <td>1</td>\n",
       "      <td>1</td>\n",
       "      <td>0</td>\n",
       "      <td>0</td>\n",
       "      <td>Brian Downing</td>\n",
       "    </tr>\n",
       "    <tr>\n",
       "      <th>326</th>\n",
       "      <td>675</td>\n",
       "      <td>0.271</td>\n",
       "      <td>0.339</td>\n",
       "      <td>21</td>\n",
       "      <td>54</td>\n",
       "      <td>8</td>\n",
       "      <td>1</td>\n",
       "      <td>2</td>\n",
       "      <td>20</td>\n",
       "      <td>21</td>\n",
       "      <td>25</td>\n",
       "      <td>2</td>\n",
       "      <td>11</td>\n",
       "      <td>1</td>\n",
       "      <td>1</td>\n",
       "      <td>0</td>\n",
       "      <td>0</td>\n",
       "      <td>Geno Petralli</td>\n",
       "    </tr>\n",
       "    <tr>\n",
       "      <th>327</th>\n",
       "      <td>600</td>\n",
       "      <td>0.252</td>\n",
       "      <td>0.283</td>\n",
       "      <td>44</td>\n",
       "      <td>136</td>\n",
       "      <td>18</td>\n",
       "      <td>4</td>\n",
       "      <td>9</td>\n",
       "      <td>44</td>\n",
       "      <td>25</td>\n",
       "      <td>84</td>\n",
       "      <td>11</td>\n",
       "      <td>21</td>\n",
       "      <td>1</td>\n",
       "      <td>1</td>\n",
       "      <td>0</td>\n",
       "      <td>0</td>\n",
       "      <td>Dickie Thon</td>\n",
       "    </tr>\n",
       "    <tr>\n",
       "      <th>328</th>\n",
       "      <td>287</td>\n",
       "      <td>0.264</td>\n",
       "      <td>0.321</td>\n",
       "      <td>78</td>\n",
       "      <td>144</td>\n",
       "      <td>34</td>\n",
       "      <td>1</td>\n",
       "      <td>27</td>\n",
       "      <td>102</td>\n",
       "      <td>42</td>\n",
       "      <td>118</td>\n",
       "      <td>4</td>\n",
       "      <td>6</td>\n",
       "      <td>0</td>\n",
       "      <td>0</td>\n",
       "      <td>0</td>\n",
       "      <td>0</td>\n",
       "      <td>Juan Gonzalez</td>\n",
       "    </tr>\n",
       "    <tr>\n",
       "      <th>329</th>\n",
       "      <td>230</td>\n",
       "      <td>0.269</td>\n",
       "      <td>0.332</td>\n",
       "      <td>46</td>\n",
       "      <td>106</td>\n",
       "      <td>22</td>\n",
       "      <td>0</td>\n",
       "      <td>20</td>\n",
       "      <td>69</td>\n",
       "      <td>33</td>\n",
       "      <td>93</td>\n",
       "      <td>0</td>\n",
       "      <td>6</td>\n",
       "      <td>0</td>\n",
       "      <td>0</td>\n",
       "      <td>0</td>\n",
       "      <td>0</td>\n",
       "      <td>Kevin Reimer</td>\n",
       "    </tr>\n",
       "    <tr>\n",
       "      <th>330</th>\n",
       "      <td>215</td>\n",
       "      <td>0.194</td>\n",
       "      <td>0.270</td>\n",
       "      <td>8</td>\n",
       "      <td>28</td>\n",
       "      <td>3</td>\n",
       "      <td>2</td>\n",
       "      <td>1</td>\n",
       "      <td>11</td>\n",
       "      <td>16</td>\n",
       "      <td>23</td>\n",
       "      <td>1</td>\n",
       "      <td>1</td>\n",
       "      <td>0</td>\n",
       "      <td>0</td>\n",
       "      <td>0</td>\n",
       "      <td>0</td>\n",
       "      <td>Jack Daugherty</td>\n",
       "    </tr>\n",
       "    <tr>\n",
       "      <th>331</th>\n",
       "      <td>183</td>\n",
       "      <td>0.213</td>\n",
       "      <td>0.312</td>\n",
       "      <td>36</td>\n",
       "      <td>57</td>\n",
       "      <td>8</td>\n",
       "      <td>3</td>\n",
       "      <td>2</td>\n",
       "      <td>26</td>\n",
       "      <td>39</td>\n",
       "      <td>32</td>\n",
       "      <td>8</td>\n",
       "      <td>15</td>\n",
       "      <td>0</td>\n",
       "      <td>0</td>\n",
       "      <td>0</td>\n",
       "      <td>0</td>\n",
       "      <td>Jeff Huson</td>\n",
       "    </tr>\n",
       "    <tr>\n",
       "      <th>332</th>\n",
       "      <td>170</td>\n",
       "      <td>0.111</td>\n",
       "      <td>0.138</td>\n",
       "      <td>3</td>\n",
       "      <td>3</td>\n",
       "      <td>0</td>\n",
       "      <td>0</td>\n",
       "      <td>0</td>\n",
       "      <td>1</td>\n",
       "      <td>1</td>\n",
       "      <td>7</td>\n",
       "      <td>0</td>\n",
       "      <td>0</td>\n",
       "      <td>0</td>\n",
       "      <td>0</td>\n",
       "      <td>0</td>\n",
       "      <td>0</td>\n",
       "      <td>John Russell</td>\n",
       "    </tr>\n",
       "    <tr>\n",
       "      <th>333</th>\n",
       "      <td>160</td>\n",
       "      <td>0.264</td>\n",
       "      <td>0.318</td>\n",
       "      <td>24</td>\n",
       "      <td>48</td>\n",
       "      <td>7</td>\n",
       "      <td>0</td>\n",
       "      <td>1</td>\n",
       "      <td>22</td>\n",
       "      <td>15</td>\n",
       "      <td>18</td>\n",
       "      <td>0</td>\n",
       "      <td>7</td>\n",
       "      <td>0</td>\n",
       "      <td>0</td>\n",
       "      <td>0</td>\n",
       "      <td>0</td>\n",
       "      <td>Mario Diaz</td>\n",
       "    </tr>\n",
       "    <tr>\n",
       "      <th>334</th>\n",
       "      <td>142</td>\n",
       "      <td>0.187</td>\n",
       "      <td>0.281</td>\n",
       "      <td>38</td>\n",
       "      <td>50</td>\n",
       "      <td>9</td>\n",
       "      <td>2</td>\n",
       "      <td>15</td>\n",
       "      <td>37</td>\n",
       "      <td>32</td>\n",
       "      <td>98</td>\n",
       "      <td>0</td>\n",
       "      <td>9</td>\n",
       "      <td>0</td>\n",
       "      <td>0</td>\n",
       "      <td>0</td>\n",
       "      <td>0</td>\n",
       "      <td>Dean Palmer</td>\n",
       "    </tr>\n",
       "    <tr>\n",
       "      <th>335</th>\n",
       "      <td>140</td>\n",
       "      <td>0.264</td>\n",
       "      <td>0.270</td>\n",
       "      <td>24</td>\n",
       "      <td>74</td>\n",
       "      <td>16</td>\n",
       "      <td>0</td>\n",
       "      <td>3</td>\n",
       "      <td>27</td>\n",
       "      <td>5</td>\n",
       "      <td>42</td>\n",
       "      <td>0</td>\n",
       "      <td>10</td>\n",
       "      <td>0</td>\n",
       "      <td>0</td>\n",
       "      <td>0</td>\n",
       "      <td>0</td>\n",
       "      <td>Ivan Rodriguez</td>\n",
       "    </tr>\n",
       "    <tr>\n",
       "      <th>336</th>\n",
       "      <td>109</td>\n",
       "      <td>0.258</td>\n",
       "      <td>0.395</td>\n",
       "      <td>6</td>\n",
       "      <td>8</td>\n",
       "      <td>1</td>\n",
       "      <td>0</td>\n",
       "      <td>1</td>\n",
       "      <td>6</td>\n",
       "      <td>7</td>\n",
       "      <td>11</td>\n",
       "      <td>0</td>\n",
       "      <td>0</td>\n",
       "      <td>0</td>\n",
       "      <td>0</td>\n",
       "      <td>0</td>\n",
       "      <td>0</td>\n",
       "      <td>Monty Fariss</td>\n",
       "    </tr>\n",
       "  </tbody>\n",
       "</table>\n",
       "<p>337 rows × 18 columns</p>\n",
       "</div>"
      ],
      "text/plain": [
       "     Salary    AVG    OBP  Runs  Hits  Doubles  Triples  HR  RBI  Walks   SO  \\\n",
       "0      3300  0.272  0.302    69   153       21        4  31  104     22   80   \n",
       "1      2600  0.269  0.335    58   111       17        2  18   66     39   69   \n",
       "2      2500  0.249  0.337    54   115       15        1  17   73     63  116   \n",
       "3      2475  0.260  0.292    59   128       22        7  12   50     23   64   \n",
       "4      2313  0.273  0.346    87   169       28        5   8   58     70   53   \n",
       "5      2175  0.291  0.379   104   170       32        2  26  100     87   89   \n",
       "6       600  0.258  0.370    34    86       14        1  14   38     15   45   \n",
       "7       460  0.228  0.279    16    38        7        2   3   21     11   32   \n",
       "8       240  0.250  0.327    40    61       11        0   1   18     24   26   \n",
       "9       200  0.203  0.240    39    64       10        1  10   33     14   96   \n",
       "10      177  0.262  0.283     7    38        5        0   0   10      5   18   \n",
       "11      140  0.222  0.307    21    45        9        0   6   22     19   56   \n",
       "12      117  0.227  0.280     4     5        2        0   1    3      2    1   \n",
       "13      115  0.261  0.370     1     6        0        0   0    2      4    3   \n",
       "14     2600  0.300  0.368    69   141       22        3  19   75     53   64   \n",
       "15     1907  0.225  0.292    60   130       22        1  13   73     50  100   \n",
       "16     1190  0.255  0.321    39   108       22        8   3   26     42   61   \n",
       "17      990  0.290  0.349    59   141       30        2  16   64     42  102   \n",
       "18      925  0.246  0.323    22    81       14        0   6   26     22   26   \n",
       "19      365  0.208  0.265    12    35       11        1   0   15     14   30   \n",
       "20      302  0.238  0.347    83   134       15        4  10   51     95  151   \n",
       "21      300  0.267  0.310    73   149       23        9   6   39     34   89   \n",
       "22      129  0.353  0.435    16    48       12        2   2   18     20   22   \n",
       "23      111  0.213  0.222     4    13        4        1   1    8      1   18   \n",
       "24     6100  0.302  0.391   102   174       44        6  18  100     90   67   \n",
       "25     4125  0.260  0.321    69   150       23        1  19   96     55   74   \n",
       "26     3213  0.255  0.347    45    71        7        5   1   17     39   47   \n",
       "27     2319  0.259  0.349   108   146       34        4  38  117     78  120   \n",
       "28     2000  0.223  0.307    43    84       10        4  10   40     36   56   \n",
       "29     1600  0.225  0.310    44    96        9        3   0   31     50   69   \n",
       "..      ...    ...    ...   ...   ...      ...      ...  ..  ...    ...  ...   \n",
       "307     205  0.249  0.336    33    46        8        0   3   21     23   42   \n",
       "308     185  0.238  0.289    21    56        5        1   0   21     14   37   \n",
       "309     115  0.235  0.268     9    16        5        0   2    4      3   11   \n",
       "310    3750  0.256  0.338    52    95       13        1  27   69     43   57   \n",
       "311    2188  0.248  0.300    58   139       29        3  17   88     44   61   \n",
       "312    2167  0.254  0.332    95   160       34        6   3   57     72   63   \n",
       "313    2167  0.194  0.286    38    63        8        1   8   32     34   49   \n",
       "314    2050  0.327  0.399    76   179       42        1  22  100     71   82   \n",
       "315    1445  0.244  0.337    64    99       14        4  27   77     53  117   \n",
       "316     875  0.305  0.347    35    54        6        2   6   23     10   27   \n",
       "317     560  0.307  0.405    98   167       35        1  14   52     84   72   \n",
       "318     360  0.230  0.302    42    98       16        4   1   41     45   37   \n",
       "319     162  0.247  0.286    16    44       13        0   2   22      9   38   \n",
       "320     133  0.205  0.272    11    23        2        0   4    9     11   24   \n",
       "321     109  0.216  0.285    38    87       12        0  19   51     35  117   \n",
       "322    4300  0.266  0.359   115   152       32        1  44  122     78  152   \n",
       "323    3850  0.322  0.389   115   203       49        3  26   88     68   72   \n",
       "324    2387  0.341  0.408   108   201       27        3  15   78     65   78   \n",
       "325     950  0.278  0.377    76   113       17        2  17   49     58   70   \n",
       "326     675  0.271  0.339    21    54        8        1   2   20     21   25   \n",
       "327     600  0.252  0.283    44   136       18        4   9   44     25   84   \n",
       "328     287  0.264  0.321    78   144       34        1  27  102     42  118   \n",
       "329     230  0.269  0.332    46   106       22        0  20   69     33   93   \n",
       "330     215  0.194  0.270     8    28        3        2   1   11     16   23   \n",
       "331     183  0.213  0.312    36    57        8        3   2   26     39   32   \n",
       "332     170  0.111  0.138     3     3        0        0   0    1      1    7   \n",
       "333     160  0.264  0.318    24    48        7        0   1   22     15   18   \n",
       "334     142  0.187  0.281    38    50        9        2  15   37     32   98   \n",
       "335     140  0.264  0.270    24    74       16        0   3   27      5   42   \n",
       "336     109  0.258  0.395     6     8        1        0   1    6      7   11   \n",
       "\n",
       "     SB  Errs  free agency eligibility  free agent in 1991/2  \\\n",
       "0     4     3                        1                     0   \n",
       "1     0     3                        1                     1   \n",
       "2     6     5                        1                     0   \n",
       "3    21    21                        0                     0   \n",
       "4     3     8                        0                     0   \n",
       "5    22     4                        1                     0   \n",
       "6     0    10                        1                     0   \n",
       "7     2     3                        0                     0   \n",
       "8    14     2                        0                     0   \n",
       "9    13     6                        0                     0   \n",
       "10    2     7                        0                     0   \n",
       "11    3     3                        0                     0   \n",
       "12    0     0                        0                     0   \n",
       "13    0     0                        0                     0   \n",
       "14   31     7                        1                     0   \n",
       "15    2    14                        1                     0   \n",
       "16    2     8                        0                     0   \n",
       "17   14     6                        1                     0   \n",
       "18    2     5                        1                     0   \n",
       "19    2     6                        0                     0   \n",
       "20   56    27                        0                     0   \n",
       "21   76     6                        0                     0   \n",
       "22    0     5                        0                     0   \n",
       "23    0     0                        0                     0   \n",
       "24    2    15                        1                     1   \n",
       "25   10     7                        1                     1   \n",
       "26   37     3                        1                     0   \n",
       "27   30    31                        1                     0   \n",
       "28    7     4                        1                     0   \n",
       "29    8    15                        1                     1   \n",
       "..   ..   ...                      ...                   ...   \n",
       "307  12     3                        0                     0   \n",
       "308   3    11                        0                     0   \n",
       "309   3     1                        0                     0   \n",
       "310   2     6                        1                     0   \n",
       "311   0     5                        1                     0   \n",
       "312  28    18                        0                     0   \n",
       "313   0     6                        1                     0   \n",
       "314  18     4                        0                     0   \n",
       "315   0     5                        0                     0   \n",
       "316  16     2                        0                     0   \n",
       "317   0    15                        0                     0   \n",
       "318   7    13                        0                     0   \n",
       "319   0     7                        0                     0   \n",
       "320   0     2                        0                     0   \n",
       "321   0     2                        1                     0   \n",
       "322  26     9                        1                     0   \n",
       "323   4    12                        0                     0   \n",
       "324  36    14                        1                     0   \n",
       "325   1     0                        1                     1   \n",
       "326   2    11                        1                     1   \n",
       "327  11    21                        1                     1   \n",
       "328   4     6                        0                     0   \n",
       "329   0     6                        0                     0   \n",
       "330   1     1                        0                     0   \n",
       "331   8    15                        0                     0   \n",
       "332   0     0                        0                     0   \n",
       "333   0     7                        0                     0   \n",
       "334   0     9                        0                     0   \n",
       "335   0    10                        0                     0   \n",
       "336   0     0                        0                     0   \n",
       "\n",
       "     arbitration eligibility  arbitration in 1991/2               Name  \n",
       "0                          0                      0       Andre Dawson  \n",
       "1                          0                      0      Steve Buchele  \n",
       "2                          0                      0        Kal Daniels  \n",
       "3                          1                      0     Shawon Dunston  \n",
       "4                          1                      0         Mark Grace  \n",
       "5                          0                      0      Ryne Sandberg  \n",
       "6                          0                      0       Luis Salazar  \n",
       "7                          0                      0       Dwight Smith  \n",
       "8                          0                      0      Doug Dascenzo  \n",
       "9                          0                      0         Sammy Sosa  \n",
       "10                         0                      0      Jose Vizcaino  \n",
       "11                         0                      0       Rick Wilkins  \n",
       "12                         0                      0        Derrick May  \n",
       "13                         0                      0        Rey Sanchez  \n",
       "14                         0                      0      Ivan Calderon  \n",
       "15                         0                      0        Tim Wallach  \n",
       "16                         1                      0         Spike Owen  \n",
       "17                         0                      0       Larry Walker  \n",
       "18                         0                      0        Gary Carter  \n",
       "19                         0                      0          Tom Foley  \n",
       "20                         0                      0   Delino DeShields  \n",
       "21                         0                      0    Marquis Grissom  \n",
       "22                         0                      0      Bret Barberie  \n",
       "23                         0                      0     John VanderWal  \n",
       "24                         0                      0      Bobby Bonilla  \n",
       "25                         0                      0       Eddie Murray  \n",
       "26                         0                      0      Vince Coleman  \n",
       "27                         0                      0     Howard Johnson  \n",
       "28                         0                      0         Kevin Bass  \n",
       "29                         0                      0     Dick Schofield  \n",
       "..                       ...                    ...                ...  \n",
       "307                        0                      0  Lance Blankenship  \n",
       "308                        0                      0       Mike Bordick  \n",
       "309                        0                      0      Scott Brosius  \n",
       "310                        0                      0     Kevin Mitchell  \n",
       "311                        0                      0       Pete O'Brien  \n",
       "312                        1                      0    Harold Reynolds  \n",
       "313                        0                      0         Dave Valle  \n",
       "314                        1                      0        Ken Griffey  \n",
       "315                        1                      0         Jay Buhner  \n",
       "316                        1                      0        Henry Cotto  \n",
       "317                        0                      0     Edgar Martinez  \n",
       "318                        0                      0       Omar Vizquel  \n",
       "319                        0                      0      Dave Cochrane  \n",
       "320                        0                      0      Tino Martinez  \n",
       "321                        0                      0      Lance Parrish  \n",
       "322                        0                      0       Jose Canseco  \n",
       "323                        1                      1    Rafael Palmeiro  \n",
       "324                        0                      0       Julio Franco  \n",
       "325                        0                      0      Brian Downing  \n",
       "326                        0                      0      Geno Petralli  \n",
       "327                        0                      0        Dickie Thon  \n",
       "328                        0                      0      Juan Gonzalez  \n",
       "329                        0                      0       Kevin Reimer  \n",
       "330                        0                      0     Jack Daugherty  \n",
       "331                        0                      0         Jeff Huson  \n",
       "332                        0                      0       John Russell  \n",
       "333                        0                      0         Mario Diaz  \n",
       "334                        0                      0        Dean Palmer  \n",
       "335                        0                      0     Ivan Rodriguez  \n",
       "336                        0                      0       Monty Fariss  \n",
       "\n",
       "[337 rows x 18 columns]"
      ]
     },
     "execution_count": 13,
     "metadata": {},
     "output_type": "execute_result"
    }
   ],
   "source": [
    "baseball"
   ]
  },
  {
   "cell_type": "code",
   "execution_count": null,
   "metadata": {
    "collapsed": true
   },
   "outputs": [],
   "source": []
  },
  {
   "cell_type": "code",
   "execution_count": 15,
   "metadata": {
    "collapsed": false
   },
   "outputs": [
    {
     "name": "stdout",
     "output_type": "stream",
     "text": [
      "0       True\n",
      "1       True\n",
      "2       True\n",
      "3       True\n",
      "4       True\n",
      "5       True\n",
      "6      False\n",
      "7      False\n",
      "8      False\n",
      "9      False\n",
      "10     False\n",
      "11     False\n",
      "12     False\n",
      "13     False\n",
      "14      True\n",
      "15      True\n",
      "16      True\n",
      "17     False\n",
      "18     False\n",
      "19     False\n",
      "20     False\n",
      "21     False\n",
      "22     False\n",
      "23     False\n",
      "24      True\n",
      "25      True\n",
      "26      True\n",
      "27      True\n",
      "28      True\n",
      "29      True\n",
      "       ...  \n",
      "307    False\n",
      "308    False\n",
      "309    False\n",
      "310     True\n",
      "311     True\n",
      "312     True\n",
      "313     True\n",
      "314     True\n",
      "315     True\n",
      "316    False\n",
      "317    False\n",
      "318    False\n",
      "319    False\n",
      "320    False\n",
      "321    False\n",
      "322     True\n",
      "323     True\n",
      "324     True\n",
      "325    False\n",
      "326    False\n",
      "327    False\n",
      "328    False\n",
      "329    False\n",
      "330    False\n",
      "331    False\n",
      "332    False\n",
      "333    False\n",
      "334    False\n",
      "335    False\n",
      "336    False\n",
      "Name: Salary, dtype: bool\n"
     ]
    }
   ],
   "source": [
    "# You can perform queries on your data frame.  \n",
    "# This statement gives you a True/False vector telling you \n",
    "# whether the player in each row has a salary over $1 Million\n",
    "millionaire_indices = baseball['Salary'] > 1000\n",
    "print (millionaire_indices)"
   ]
  },
  {
   "cell_type": "code",
   "execution_count": null,
   "metadata": {
    "collapsed": true
   },
   "outputs": [],
   "source": []
  },
  {
   "cell_type": "code",
   "execution_count": null,
   "metadata": {
    "collapsed": true
   },
   "outputs": [],
   "source": []
  },
  {
   "cell_type": "code",
   "execution_count": 17,
   "metadata": {
    "collapsed": false
   },
   "outputs": [
    {
     "name": "stdout",
     "output_type": "stream",
     "text": [
      "baseball.shape: (337, 18)\n",
      "baseball[millionaire_indices].shape: (139, 18)\n"
     ]
    }
   ],
   "source": [
    "# you can use the query indices to look at a subset of your original dataframe\n",
    "print ('baseball.shape:', baseball.shape)\n",
    "print (\"baseball[millionaire_indices].shape:\", baseball[millionaire_indices].shape)"
   ]
  },
  {
   "cell_type": "code",
   "execution_count": null,
   "metadata": {
    "collapsed": true
   },
   "outputs": [],
   "source": []
  },
  {
   "cell_type": "code",
   "execution_count": null,
   "metadata": {
    "collapsed": true
   },
   "outputs": [],
   "source": []
  },
  {
   "cell_type": "code",
   "execution_count": 18,
   "metadata": {
    "collapsed": false,
    "scrolled": false
   },
   "outputs": [
    {
     "name": "stdout",
     "output_type": "stream",
     "text": [
      "baseball[millionaire_indices][['Salary', 'AVG', 'Runs', 'Name']]:\n"
     ]
    },
    {
     "data": {
      "text/html": [
       "<div>\n",
       "<table border=\"1\" class=\"dataframe\">\n",
       "  <thead>\n",
       "    <tr style=\"text-align: right;\">\n",
       "      <th></th>\n",
       "      <th>Salary</th>\n",
       "      <th>AVG</th>\n",
       "      <th>Runs</th>\n",
       "      <th>Name</th>\n",
       "    </tr>\n",
       "  </thead>\n",
       "  <tbody>\n",
       "    <tr>\n",
       "      <th>0</th>\n",
       "      <td>3300</td>\n",
       "      <td>0.272</td>\n",
       "      <td>69</td>\n",
       "      <td>Andre Dawson</td>\n",
       "    </tr>\n",
       "    <tr>\n",
       "      <th>1</th>\n",
       "      <td>2600</td>\n",
       "      <td>0.269</td>\n",
       "      <td>58</td>\n",
       "      <td>Steve Buchele</td>\n",
       "    </tr>\n",
       "    <tr>\n",
       "      <th>2</th>\n",
       "      <td>2500</td>\n",
       "      <td>0.249</td>\n",
       "      <td>54</td>\n",
       "      <td>Kal Daniels</td>\n",
       "    </tr>\n",
       "    <tr>\n",
       "      <th>3</th>\n",
       "      <td>2475</td>\n",
       "      <td>0.260</td>\n",
       "      <td>59</td>\n",
       "      <td>Shawon Dunston</td>\n",
       "    </tr>\n",
       "    <tr>\n",
       "      <th>4</th>\n",
       "      <td>2313</td>\n",
       "      <td>0.273</td>\n",
       "      <td>87</td>\n",
       "      <td>Mark Grace</td>\n",
       "    </tr>\n",
       "    <tr>\n",
       "      <th>5</th>\n",
       "      <td>2175</td>\n",
       "      <td>0.291</td>\n",
       "      <td>104</td>\n",
       "      <td>Ryne Sandberg</td>\n",
       "    </tr>\n",
       "    <tr>\n",
       "      <th>14</th>\n",
       "      <td>2600</td>\n",
       "      <td>0.300</td>\n",
       "      <td>69</td>\n",
       "      <td>Ivan Calderon</td>\n",
       "    </tr>\n",
       "    <tr>\n",
       "      <th>15</th>\n",
       "      <td>1907</td>\n",
       "      <td>0.225</td>\n",
       "      <td>60</td>\n",
       "      <td>Tim Wallach</td>\n",
       "    </tr>\n",
       "    <tr>\n",
       "      <th>16</th>\n",
       "      <td>1190</td>\n",
       "      <td>0.255</td>\n",
       "      <td>39</td>\n",
       "      <td>Spike Owen</td>\n",
       "    </tr>\n",
       "    <tr>\n",
       "      <th>24</th>\n",
       "      <td>6100</td>\n",
       "      <td>0.302</td>\n",
       "      <td>102</td>\n",
       "      <td>Bobby Bonilla</td>\n",
       "    </tr>\n",
       "    <tr>\n",
       "      <th>25</th>\n",
       "      <td>4125</td>\n",
       "      <td>0.260</td>\n",
       "      <td>69</td>\n",
       "      <td>Eddie Murray</td>\n",
       "    </tr>\n",
       "    <tr>\n",
       "      <th>26</th>\n",
       "      <td>3213</td>\n",
       "      <td>0.255</td>\n",
       "      <td>45</td>\n",
       "      <td>Vince Coleman</td>\n",
       "    </tr>\n",
       "    <tr>\n",
       "      <th>27</th>\n",
       "      <td>2319</td>\n",
       "      <td>0.259</td>\n",
       "      <td>108</td>\n",
       "      <td>Howard Johnson</td>\n",
       "    </tr>\n",
       "    <tr>\n",
       "      <th>28</th>\n",
       "      <td>2000</td>\n",
       "      <td>0.223</td>\n",
       "      <td>43</td>\n",
       "      <td>Kevin Bass</td>\n",
       "    </tr>\n",
       "    <tr>\n",
       "      <th>29</th>\n",
       "      <td>1600</td>\n",
       "      <td>0.225</td>\n",
       "      <td>44</td>\n",
       "      <td>Dick Schofield</td>\n",
       "    </tr>\n",
       "    <tr>\n",
       "      <th>30</th>\n",
       "      <td>1394</td>\n",
       "      <td>0.258</td>\n",
       "      <td>58</td>\n",
       "      <td>Dave Magadan</td>\n",
       "    </tr>\n",
       "    <tr>\n",
       "      <th>38</th>\n",
       "      <td>2567</td>\n",
       "      <td>0.196</td>\n",
       "      <td>36</td>\n",
       "      <td>Darren Daulton</td>\n",
       "    </tr>\n",
       "    <tr>\n",
       "      <th>39</th>\n",
       "      <td>2500</td>\n",
       "      <td>0.252</td>\n",
       "      <td>66</td>\n",
       "      <td>Dale Murphy</td>\n",
       "    </tr>\n",
       "    <tr>\n",
       "      <th>40</th>\n",
       "      <td>2350</td>\n",
       "      <td>0.294</td>\n",
       "      <td>84</td>\n",
       "      <td>John Kruk</td>\n",
       "    </tr>\n",
       "    <tr>\n",
       "      <th>41</th>\n",
       "      <td>2317</td>\n",
       "      <td>0.297</td>\n",
       "      <td>48</td>\n",
       "      <td>Lenny Dykstra</td>\n",
       "    </tr>\n",
       "    <tr>\n",
       "      <th>42</th>\n",
       "      <td>2000</td>\n",
       "      <td>0.258</td>\n",
       "      <td>46</td>\n",
       "      <td>Mariano Duncan</td>\n",
       "    </tr>\n",
       "    <tr>\n",
       "      <th>51</th>\n",
       "      <td>5150</td>\n",
       "      <td>0.292</td>\n",
       "      <td>95</td>\n",
       "      <td>Barry Bonds</td>\n",
       "    </tr>\n",
       "    <tr>\n",
       "      <th>52</th>\n",
       "      <td>4450</td>\n",
       "      <td>0.265</td>\n",
       "      <td>87</td>\n",
       "      <td>Andy Van Slyke</td>\n",
       "    </tr>\n",
       "    <tr>\n",
       "      <th>53</th>\n",
       "      <td>2000</td>\n",
       "      <td>0.265</td>\n",
       "      <td>53</td>\n",
       "      <td>Jose Lind</td>\n",
       "    </tr>\n",
       "    <tr>\n",
       "      <th>54</th>\n",
       "      <td>1850</td>\n",
       "      <td>0.289</td>\n",
       "      <td>25</td>\n",
       "      <td>Mike LaValliere</td>\n",
       "    </tr>\n",
       "    <tr>\n",
       "      <th>55</th>\n",
       "      <td>1192</td>\n",
       "      <td>0.295</td>\n",
       "      <td>19</td>\n",
       "      <td>Don Slaught</td>\n",
       "    </tr>\n",
       "    <tr>\n",
       "      <th>65</th>\n",
       "      <td>2425</td>\n",
       "      <td>0.272</td>\n",
       "      <td>41</td>\n",
       "      <td>Pedro Guerrero</td>\n",
       "    </tr>\n",
       "    <tr>\n",
       "      <th>66</th>\n",
       "      <td>2367</td>\n",
       "      <td>0.219</td>\n",
       "      <td>34</td>\n",
       "      <td>Andres Galarraga</td>\n",
       "    </tr>\n",
       "    <tr>\n",
       "      <th>67</th>\n",
       "      <td>2050</td>\n",
       "      <td>0.240</td>\n",
       "      <td>37</td>\n",
       "      <td>Jose Guillen</td>\n",
       "    </tr>\n",
       "    <tr>\n",
       "      <th>68</th>\n",
       "      <td>2000</td>\n",
       "      <td>0.285</td>\n",
       "      <td>96</td>\n",
       "      <td>Ozzie Smith</td>\n",
       "    </tr>\n",
       "    <tr>\n",
       "      <th>...</th>\n",
       "      <td>...</td>\n",
       "      <td>...</td>\n",
       "      <td>...</td>\n",
       "      <td>...</td>\n",
       "    </tr>\n",
       "    <tr>\n",
       "      <th>257</th>\n",
       "      <td>1350</td>\n",
       "      <td>0.241</td>\n",
       "      <td>42</td>\n",
       "      <td>Carlton Fisk</td>\n",
       "    </tr>\n",
       "    <tr>\n",
       "      <th>268</th>\n",
       "      <td>4200</td>\n",
       "      <td>0.301</td>\n",
       "      <td>79</td>\n",
       "      <td>Wally Joyner</td>\n",
       "    </tr>\n",
       "    <tr>\n",
       "      <th>269</th>\n",
       "      <td>3417</td>\n",
       "      <td>0.259</td>\n",
       "      <td>65</td>\n",
       "      <td>Kevin McReynolds</td>\n",
       "    </tr>\n",
       "    <tr>\n",
       "      <th>270</th>\n",
       "      <td>3100</td>\n",
       "      <td>0.255</td>\n",
       "      <td>77</td>\n",
       "      <td>George Brett</td>\n",
       "    </tr>\n",
       "    <tr>\n",
       "      <th>271</th>\n",
       "      <td>1650</td>\n",
       "      <td>0.301</td>\n",
       "      <td>47</td>\n",
       "      <td>Jim Eisenreich</td>\n",
       "    </tr>\n",
       "    <tr>\n",
       "      <th>272</th>\n",
       "      <td>1150</td>\n",
       "      <td>0.272</td>\n",
       "      <td>59</td>\n",
       "      <td>Gregg Jeffries</td>\n",
       "    </tr>\n",
       "    <tr>\n",
       "      <th>284</th>\n",
       "      <td>3100</td>\n",
       "      <td>0.284</td>\n",
       "      <td>72</td>\n",
       "      <td>Kent Hrbek</td>\n",
       "    </tr>\n",
       "    <tr>\n",
       "      <th>285</th>\n",
       "      <td>2992</td>\n",
       "      <td>0.319</td>\n",
       "      <td>92</td>\n",
       "      <td>Kirby Puckett</td>\n",
       "    </tr>\n",
       "    <tr>\n",
       "      <th>286</th>\n",
       "      <td>2800</td>\n",
       "      <td>0.277</td>\n",
       "      <td>84</td>\n",
       "      <td>Chili Davis</td>\n",
       "    </tr>\n",
       "    <tr>\n",
       "      <th>287</th>\n",
       "      <td>2500</td>\n",
       "      <td>0.311</td>\n",
       "      <td>54</td>\n",
       "      <td>Brian Harper</td>\n",
       "    </tr>\n",
       "    <tr>\n",
       "      <th>288</th>\n",
       "      <td>1933</td>\n",
       "      <td>0.265</td>\n",
       "      <td>52</td>\n",
       "      <td>Greg Gagne</td>\n",
       "    </tr>\n",
       "    <tr>\n",
       "      <th>289</th>\n",
       "      <td>1200</td>\n",
       "      <td>0.279</td>\n",
       "      <td>36</td>\n",
       "      <td>Mike Pagliarulo</td>\n",
       "    </tr>\n",
       "    <tr>\n",
       "      <th>290</th>\n",
       "      <td>1075</td>\n",
       "      <td>0.310</td>\n",
       "      <td>79</td>\n",
       "      <td>Shane Mack</td>\n",
       "    </tr>\n",
       "    <tr>\n",
       "      <th>296</th>\n",
       "      <td>5000</td>\n",
       "      <td>0.307</td>\n",
       "      <td>110</td>\n",
       "      <td>Ruben Sierra</td>\n",
       "    </tr>\n",
       "    <tr>\n",
       "      <th>297</th>\n",
       "      <td>3250</td>\n",
       "      <td>0.268</td>\n",
       "      <td>105</td>\n",
       "      <td>Rickey Henderson</td>\n",
       "    </tr>\n",
       "    <tr>\n",
       "      <th>298</th>\n",
       "      <td>2825</td>\n",
       "      <td>0.201</td>\n",
       "      <td>62</td>\n",
       "      <td>Mark McGwire</td>\n",
       "    </tr>\n",
       "    <tr>\n",
       "      <th>299</th>\n",
       "      <td>2600</td>\n",
       "      <td>0.276</td>\n",
       "      <td>86</td>\n",
       "      <td>Dave Henderson</td>\n",
       "    </tr>\n",
       "    <tr>\n",
       "      <th>300</th>\n",
       "      <td>2050</td>\n",
       "      <td>0.274</td>\n",
       "      <td>50</td>\n",
       "      <td>Terry Steinbach</td>\n",
       "    </tr>\n",
       "    <tr>\n",
       "      <th>301</th>\n",
       "      <td>1583</td>\n",
       "      <td>0.295</td>\n",
       "      <td>76</td>\n",
       "      <td>Harold Baines</td>\n",
       "    </tr>\n",
       "    <tr>\n",
       "      <th>302</th>\n",
       "      <td>1150</td>\n",
       "      <td>0.063</td>\n",
       "      <td>0</td>\n",
       "      <td>Carney Lansford</td>\n",
       "    </tr>\n",
       "    <tr>\n",
       "      <th>303</th>\n",
       "      <td>1100</td>\n",
       "      <td>0.238</td>\n",
       "      <td>38</td>\n",
       "      <td>Willie Wilson</td>\n",
       "    </tr>\n",
       "    <tr>\n",
       "      <th>310</th>\n",
       "      <td>3750</td>\n",
       "      <td>0.256</td>\n",
       "      <td>52</td>\n",
       "      <td>Kevin Mitchell</td>\n",
       "    </tr>\n",
       "    <tr>\n",
       "      <th>311</th>\n",
       "      <td>2188</td>\n",
       "      <td>0.248</td>\n",
       "      <td>58</td>\n",
       "      <td>Pete O'Brien</td>\n",
       "    </tr>\n",
       "    <tr>\n",
       "      <th>312</th>\n",
       "      <td>2167</td>\n",
       "      <td>0.254</td>\n",
       "      <td>95</td>\n",
       "      <td>Harold Reynolds</td>\n",
       "    </tr>\n",
       "    <tr>\n",
       "      <th>313</th>\n",
       "      <td>2167</td>\n",
       "      <td>0.194</td>\n",
       "      <td>38</td>\n",
       "      <td>Dave Valle</td>\n",
       "    </tr>\n",
       "    <tr>\n",
       "      <th>314</th>\n",
       "      <td>2050</td>\n",
       "      <td>0.327</td>\n",
       "      <td>76</td>\n",
       "      <td>Ken Griffey</td>\n",
       "    </tr>\n",
       "    <tr>\n",
       "      <th>315</th>\n",
       "      <td>1445</td>\n",
       "      <td>0.244</td>\n",
       "      <td>64</td>\n",
       "      <td>Jay Buhner</td>\n",
       "    </tr>\n",
       "    <tr>\n",
       "      <th>322</th>\n",
       "      <td>4300</td>\n",
       "      <td>0.266</td>\n",
       "      <td>115</td>\n",
       "      <td>Jose Canseco</td>\n",
       "    </tr>\n",
       "    <tr>\n",
       "      <th>323</th>\n",
       "      <td>3850</td>\n",
       "      <td>0.322</td>\n",
       "      <td>115</td>\n",
       "      <td>Rafael Palmeiro</td>\n",
       "    </tr>\n",
       "    <tr>\n",
       "      <th>324</th>\n",
       "      <td>2387</td>\n",
       "      <td>0.341</td>\n",
       "      <td>108</td>\n",
       "      <td>Julio Franco</td>\n",
       "    </tr>\n",
       "  </tbody>\n",
       "</table>\n",
       "<p>139 rows × 4 columns</p>\n",
       "</div>"
      ],
      "text/plain": [
       "     Salary    AVG  Runs              Name\n",
       "0      3300  0.272    69      Andre Dawson\n",
       "1      2600  0.269    58     Steve Buchele\n",
       "2      2500  0.249    54       Kal Daniels\n",
       "3      2475  0.260    59    Shawon Dunston\n",
       "4      2313  0.273    87        Mark Grace\n",
       "5      2175  0.291   104     Ryne Sandberg\n",
       "14     2600  0.300    69     Ivan Calderon\n",
       "15     1907  0.225    60       Tim Wallach\n",
       "16     1190  0.255    39        Spike Owen\n",
       "24     6100  0.302   102     Bobby Bonilla\n",
       "25     4125  0.260    69      Eddie Murray\n",
       "26     3213  0.255    45     Vince Coleman\n",
       "27     2319  0.259   108    Howard Johnson\n",
       "28     2000  0.223    43        Kevin Bass\n",
       "29     1600  0.225    44    Dick Schofield\n",
       "30     1394  0.258    58      Dave Magadan\n",
       "38     2567  0.196    36    Darren Daulton\n",
       "39     2500  0.252    66       Dale Murphy\n",
       "40     2350  0.294    84         John Kruk\n",
       "41     2317  0.297    48     Lenny Dykstra\n",
       "42     2000  0.258    46    Mariano Duncan\n",
       "51     5150  0.292    95       Barry Bonds\n",
       "52     4450  0.265    87    Andy Van Slyke\n",
       "53     2000  0.265    53         Jose Lind\n",
       "54     1850  0.289    25   Mike LaValliere\n",
       "55     1192  0.295    19       Don Slaught\n",
       "65     2425  0.272    41    Pedro Guerrero\n",
       "66     2367  0.219    34  Andres Galarraga\n",
       "67     2050  0.240    37      Jose Guillen\n",
       "68     2000  0.285    96       Ozzie Smith\n",
       "..      ...    ...   ...               ...\n",
       "257    1350  0.241    42      Carlton Fisk\n",
       "268    4200  0.301    79      Wally Joyner\n",
       "269    3417  0.259    65  Kevin McReynolds\n",
       "270    3100  0.255    77      George Brett\n",
       "271    1650  0.301    47    Jim Eisenreich\n",
       "272    1150  0.272    59    Gregg Jeffries\n",
       "284    3100  0.284    72        Kent Hrbek\n",
       "285    2992  0.319    92     Kirby Puckett\n",
       "286    2800  0.277    84       Chili Davis\n",
       "287    2500  0.311    54      Brian Harper\n",
       "288    1933  0.265    52        Greg Gagne\n",
       "289    1200  0.279    36   Mike Pagliarulo\n",
       "290    1075  0.310    79        Shane Mack\n",
       "296    5000  0.307   110      Ruben Sierra\n",
       "297    3250  0.268   105  Rickey Henderson\n",
       "298    2825  0.201    62      Mark McGwire\n",
       "299    2600  0.276    86    Dave Henderson\n",
       "300    2050  0.274    50   Terry Steinbach\n",
       "301    1583  0.295    76     Harold Baines\n",
       "302    1150  0.063     0   Carney Lansford\n",
       "303    1100  0.238    38     Willie Wilson\n",
       "310    3750  0.256    52    Kevin Mitchell\n",
       "311    2188  0.248    58      Pete O'Brien\n",
       "312    2167  0.254    95   Harold Reynolds\n",
       "313    2167  0.194    38        Dave Valle\n",
       "314    2050  0.327    76       Ken Griffey\n",
       "315    1445  0.244    64        Jay Buhner\n",
       "322    4300  0.266   115      Jose Canseco\n",
       "323    3850  0.322   115   Rafael Palmeiro\n",
       "324    2387  0.341   108      Julio Franco\n",
       "\n",
       "[139 rows x 4 columns]"
      ]
     },
     "execution_count": 18,
     "metadata": {},
     "output_type": "execute_result"
    }
   ],
   "source": [
    "# you can look at a subset of rows and columns at the same time\n",
    "print (\"baseball[millionaire_indices][['Salary', 'AVG', 'Runs', 'Name']]:\")\n",
    "baseball[millionaire_indices][['Salary', 'AVG', 'Runs', 'Name']]"
   ]
  },
  {
   "cell_type": "code",
   "execution_count": null,
   "metadata": {
    "collapsed": true
   },
   "outputs": [],
   "source": []
  },
  {
   "cell_type": "code",
   "execution_count": null,
   "metadata": {
    "collapsed": true
   },
   "outputs": [],
   "source": []
  },
  {
   "cell_type": "markdown",
   "metadata": {},
   "source": [
    "## Pandas Joins\n",
    "The real magic with a Pandas DataFrame comes from the merge method which can match up the rows and columns from two DataFrames and combine their data.  Let's load another file which has shoesize for just a few players"
   ]
  },
  {
   "cell_type": "code",
   "execution_count": 19,
   "metadata": {
    "collapsed": false
   },
   "outputs": [
    {
     "data": {
      "text/html": [
       "<div>\n",
       "<table border=\"1\" class=\"dataframe\">\n",
       "  <thead>\n",
       "    <tr style=\"text-align: right;\">\n",
       "      <th></th>\n",
       "      <th>Shoe Size</th>\n",
       "      <th>Name</th>\n",
       "    </tr>\n",
       "  </thead>\n",
       "  <tbody>\n",
       "    <tr>\n",
       "      <th>0</th>\n",
       "      <td>11</td>\n",
       "      <td>Andre Dawson</td>\n",
       "    </tr>\n",
       "    <tr>\n",
       "      <th>1</th>\n",
       "      <td>13</td>\n",
       "      <td>Mark Grace</td>\n",
       "    </tr>\n",
       "    <tr>\n",
       "      <th>2</th>\n",
       "      <td>12</td>\n",
       "      <td>Sammy Sosa</td>\n",
       "    </tr>\n",
       "  </tbody>\n",
       "</table>\n",
       "</div>"
      ],
      "text/plain": [
       "   Shoe Size          Name\n",
       "0         11  Andre Dawson\n",
       "1         13    Mark Grace\n",
       "2         12    Sammy Sosa"
      ]
     },
     "execution_count": 19,
     "metadata": {},
     "output_type": "execute_result"
    }
   ],
   "source": [
    "# load shoe size data\n",
    "shoe_size_df = pd.read_csv('data/baseball2.dat.txt')\n",
    "shoe_size_df"
   ]
  },
  {
   "cell_type": "code",
   "execution_count": null,
   "metadata": {
    "collapsed": true
   },
   "outputs": [],
   "source": []
  },
  {
   "cell_type": "code",
   "execution_count": 20,
   "metadata": {
    "collapsed": false
   },
   "outputs": [
    {
     "data": {
      "text/html": [
       "<div>\n",
       "<table border=\"1\" class=\"dataframe\">\n",
       "  <thead>\n",
       "    <tr style=\"text-align: right;\">\n",
       "      <th></th>\n",
       "      <th>Salary</th>\n",
       "      <th>AVG</th>\n",
       "      <th>OBP</th>\n",
       "      <th>Runs</th>\n",
       "      <th>Hits</th>\n",
       "      <th>Doubles</th>\n",
       "      <th>Triples</th>\n",
       "      <th>HR</th>\n",
       "      <th>RBI</th>\n",
       "      <th>Walks</th>\n",
       "      <th>SO</th>\n",
       "      <th>SB</th>\n",
       "      <th>Errs</th>\n",
       "      <th>free agency eligibility</th>\n",
       "      <th>free agent in 1991/2</th>\n",
       "      <th>arbitration eligibility</th>\n",
       "      <th>arbitration in 1991/2</th>\n",
       "      <th>Name</th>\n",
       "      <th>Shoe Size</th>\n",
       "    </tr>\n",
       "  </thead>\n",
       "  <tbody>\n",
       "    <tr>\n",
       "      <th>0</th>\n",
       "      <td>3300</td>\n",
       "      <td>0.272</td>\n",
       "      <td>0.302</td>\n",
       "      <td>69</td>\n",
       "      <td>153</td>\n",
       "      <td>21</td>\n",
       "      <td>4</td>\n",
       "      <td>31</td>\n",
       "      <td>104</td>\n",
       "      <td>22</td>\n",
       "      <td>80</td>\n",
       "      <td>4</td>\n",
       "      <td>3</td>\n",
       "      <td>1</td>\n",
       "      <td>0</td>\n",
       "      <td>0</td>\n",
       "      <td>0</td>\n",
       "      <td>Andre Dawson</td>\n",
       "      <td>11</td>\n",
       "    </tr>\n",
       "    <tr>\n",
       "      <th>1</th>\n",
       "      <td>2313</td>\n",
       "      <td>0.273</td>\n",
       "      <td>0.346</td>\n",
       "      <td>87</td>\n",
       "      <td>169</td>\n",
       "      <td>28</td>\n",
       "      <td>5</td>\n",
       "      <td>8</td>\n",
       "      <td>58</td>\n",
       "      <td>70</td>\n",
       "      <td>53</td>\n",
       "      <td>3</td>\n",
       "      <td>8</td>\n",
       "      <td>0</td>\n",
       "      <td>0</td>\n",
       "      <td>1</td>\n",
       "      <td>0</td>\n",
       "      <td>Mark Grace</td>\n",
       "      <td>13</td>\n",
       "    </tr>\n",
       "    <tr>\n",
       "      <th>2</th>\n",
       "      <td>200</td>\n",
       "      <td>0.203</td>\n",
       "      <td>0.240</td>\n",
       "      <td>39</td>\n",
       "      <td>64</td>\n",
       "      <td>10</td>\n",
       "      <td>1</td>\n",
       "      <td>10</td>\n",
       "      <td>33</td>\n",
       "      <td>14</td>\n",
       "      <td>96</td>\n",
       "      <td>13</td>\n",
       "      <td>6</td>\n",
       "      <td>0</td>\n",
       "      <td>0</td>\n",
       "      <td>0</td>\n",
       "      <td>0</td>\n",
       "      <td>Sammy Sosa</td>\n",
       "      <td>12</td>\n",
       "    </tr>\n",
       "  </tbody>\n",
       "</table>\n",
       "</div>"
      ],
      "text/plain": [
       "   Salary    AVG    OBP  Runs  Hits  Doubles  Triples  HR  RBI  Walks  SO  SB  \\\n",
       "0    3300  0.272  0.302    69   153       21        4  31  104     22  80   4   \n",
       "1    2313  0.273  0.346    87   169       28        5   8   58     70  53   3   \n",
       "2     200  0.203  0.240    39    64       10        1  10   33     14  96  13   \n",
       "\n",
       "   Errs  free agency eligibility  free agent in 1991/2  \\\n",
       "0     3                        1                     0   \n",
       "1     8                        0                     0   \n",
       "2     6                        0                     0   \n",
       "\n",
       "   arbitration eligibility  arbitration in 1991/2          Name  Shoe Size  \n",
       "0                        0                      0  Andre Dawson         11  \n",
       "1                        1                      0    Mark Grace         13  \n",
       "2                        0                      0    Sammy Sosa         12  "
      ]
     },
     "execution_count": 20,
     "metadata": {},
     "output_type": "execute_result"
    }
   ],
   "source": [
    "merged = pd.merge(baseball, shoe_size_df, on=['Name'])\n",
    "merged"
   ]
  },
  {
   "cell_type": "code",
   "execution_count": null,
   "metadata": {
    "collapsed": true
   },
   "outputs": [],
   "source": []
  },
  {
   "cell_type": "code",
   "execution_count": null,
   "metadata": {
    "collapsed": false
   },
   "outputs": [],
   "source": [
    "merged_outer = pd.merge(baseball, shoe_sizes, on=['Name'], how='outer')\n",
    "merged_outer.head()"
   ]
  },
  {
   "cell_type": "markdown",
   "metadata": {
    "collapsed": true
   },
   "source": [
    "### <span style=\"color:red\">Pandas Exercise</span>\n",
    "1. Partner up with someone next to you.  Then, on one of your computers:\n",
    "  1. Prepend a column of ones to the dataframe `X_df` below.  Name the new column 'const'.\n",
    "  1. Again, matrix multiply `X_df` by the `betas` vector and assign the result to an new variable: `y_new`\n",
    "  1. You'll know you've got it when the cell prints '\\*\\*\\*\\*\\*\\* Tests passed! \\*\\*\\*\\*\\*\\*' at the bottom.\n",
    "\n",
    "  **Hint**: This stackoverflow post may be useful: http://stackoverflow.com/questions/13148429/how-to-change-the-order-of-dataframe-columns"
   ]
  },
  {
   "cell_type": "code",
   "execution_count": 59,
   "metadata": {
    "collapsed": false
   },
   "outputs": [
    {
     "ename": "ValueError",
     "evalue": "all the input array dimensions except for the concatenation axis must match exactly",
     "output_type": "error",
     "traceback": [
      "\u001b[0;31m---------------------------------------------------------------------------\u001b[0m",
      "\u001b[0;31mValueError\u001b[0m                                Traceback (most recent call last)",
      "\u001b[0;32m<ipython-input-59-8bcd896a8afc>\u001b[0m in \u001b[0;36m<module>\u001b[0;34m()\u001b[0m\n\u001b[1;32m      9\u001b[0m \u001b[0;31m# INSERT YOUR CODE HERE!\u001b[0m\u001b[0;34m\u001b[0m\u001b[0;34m\u001b[0m\u001b[0m\n\u001b[1;32m     10\u001b[0m \u001b[0mconst\u001b[0m\u001b[0;34m=\u001b[0m\u001b[0mnp\u001b[0m\u001b[0;34m.\u001b[0m\u001b[0mones\u001b[0m\u001b[0;34m(\u001b[0m\u001b[0;34m(\u001b[0m\u001b[0;36m5\u001b[0m\u001b[0;34m,\u001b[0m \u001b[0;36m10\u001b[0m\u001b[0;34m)\u001b[0m\u001b[0;34m)\u001b[0m\u001b[0;34m\u001b[0m\u001b[0m\n\u001b[0;32m---> 11\u001b[0;31m \u001b[0mbaseX\u001b[0m\u001b[0;34m=\u001b[0m\u001b[0mnp\u001b[0m\u001b[0;34m.\u001b[0m\u001b[0mhstack\u001b[0m\u001b[0;34m(\u001b[0m\u001b[0;34m[\u001b[0m\u001b[0mX_df\u001b[0m\u001b[0;34m,\u001b[0m \u001b[0mconst\u001b[0m\u001b[0;34m]\u001b[0m\u001b[0;34m)\u001b[0m\u001b[0;34m\u001b[0m\u001b[0m\n\u001b[0m\u001b[1;32m     12\u001b[0m \u001b[0;34m\u001b[0m\u001b[0m\n\u001b[1;32m     13\u001b[0m \u001b[0my_new\u001b[0m\u001b[0;34m=\u001b[0m\u001b[0mnp\u001b[0m\u001b[0;34m.\u001b[0m\u001b[0mdot\u001b[0m\u001b[0;34m(\u001b[0m\u001b[0mbaseX\u001b[0m\u001b[0;34m,\u001b[0m\u001b[0mbetas\u001b[0m\u001b[0;34m)\u001b[0m\u001b[0;34m\u001b[0m\u001b[0m\n",
      "\u001b[0;32m/Users/aj/anaconda/lib/python3.5/site-packages/numpy/core/shape_base.py\u001b[0m in \u001b[0;36mhstack\u001b[0;34m(tup)\u001b[0m\n\u001b[1;32m    278\u001b[0m         \u001b[0;32mreturn\u001b[0m \u001b[0m_nx\u001b[0m\u001b[0;34m.\u001b[0m\u001b[0mconcatenate\u001b[0m\u001b[0;34m(\u001b[0m\u001b[0marrs\u001b[0m\u001b[0;34m,\u001b[0m \u001b[0;36m0\u001b[0m\u001b[0;34m)\u001b[0m\u001b[0;34m\u001b[0m\u001b[0m\n\u001b[1;32m    279\u001b[0m     \u001b[0;32melse\u001b[0m\u001b[0;34m:\u001b[0m\u001b[0;34m\u001b[0m\u001b[0m\n\u001b[0;32m--> 280\u001b[0;31m         \u001b[0;32mreturn\u001b[0m \u001b[0m_nx\u001b[0m\u001b[0;34m.\u001b[0m\u001b[0mconcatenate\u001b[0m\u001b[0;34m(\u001b[0m\u001b[0marrs\u001b[0m\u001b[0;34m,\u001b[0m \u001b[0;36m1\u001b[0m\u001b[0;34m)\u001b[0m\u001b[0;34m\u001b[0m\u001b[0m\n\u001b[0m\u001b[1;32m    281\u001b[0m \u001b[0;34m\u001b[0m\u001b[0m\n\u001b[1;32m    282\u001b[0m \u001b[0;32mdef\u001b[0m \u001b[0mstack\u001b[0m\u001b[0;34m(\u001b[0m\u001b[0marrays\u001b[0m\u001b[0;34m,\u001b[0m \u001b[0maxis\u001b[0m\u001b[0;34m=\u001b[0m\u001b[0;36m0\u001b[0m\u001b[0;34m)\u001b[0m\u001b[0;34m:\u001b[0m\u001b[0;34m\u001b[0m\u001b[0m\n",
      "\u001b[0;31mValueError\u001b[0m: all the input array dimensions except for the concatenation axis must match exactly"
     ]
    }
   ],
   "source": [
    "np.random.seed(3333)\n",
    "n_data = 10 # number of data points. i.e. N\n",
    "n_dim = 5   # number of dimensions of each datapoint.  i.e. D\n",
    "\n",
    "betas = np.random.randn(n_dim + 1)\n",
    "\n",
    "X_df = pd.DataFrame(data=np.random.randn(n_data, n_dim))\n",
    "\n",
    "# INSERT YOUR CODE HERE!\n",
    "const=np.ones((5, 1))\n",
    "baseX=np.hstack([X_df, const])\n",
    "\n",
    "y_new=np.dot(baseX,betas)\n",
    "\n",
    "# Tests:\n",
    "assert 'const' in X_df.keys(), 'The new column must be called \"const\"'\n",
    "assert np.all(X_df.shape == (n_data, n_dim+1))\n",
    "assert len(y_new == n_data)\n",
    "print ('****** Tests passed! ******')\n"
   ]
  },
  {
   "cell_type": "code",
   "execution_count": 82,
   "metadata": {
    "collapsed": false
   },
   "outputs": [],
   "source": [
    "const=np.ones((1, 5))"
   ]
  },
  {
   "cell_type": "code",
   "execution_count": null,
   "metadata": {
    "collapsed": true
   },
   "outputs": [],
   "source": []
  },
  {
   "cell_type": "code",
   "execution_count": null,
   "metadata": {
    "collapsed": true
   },
   "outputs": [],
   "source": []
  },
  {
   "cell_type": "code",
   "execution_count": null,
   "metadata": {
    "collapsed": true
   },
   "outputs": [],
   "source": []
  },
  {
   "cell_type": "code",
   "execution_count": 64,
   "metadata": {
    "collapsed": false
   },
   "outputs": [
    {
     "name": "stdout",
     "output_type": "stream",
     "text": [
      "[[ 1.]\n",
      " [ 1.]\n",
      " [ 1.]\n",
      " [ 1.]\n",
      " [ 1.]]\n"
     ]
    }
   ],
   "source": [
    "print (const)"
   ]
  },
  {
   "cell_type": "code",
   "execution_count": 65,
   "metadata": {
    "collapsed": false
   },
   "outputs": [
    {
     "name": "stdout",
     "output_type": "stream",
     "text": [
      "          0         1         2         3         4\n",
      "0 -0.922329  0.273524 -0.863396  1.437660 -1.713799\n",
      "1  0.179322 -0.891386  2.130056  0.518990 -0.418751\n",
      "2  0.340101 -1.077366 -1.023141 -1.025185  0.409721\n",
      "3  1.188838  1.010448  0.310822 -1.178686 -0.495263\n",
      "4 -1.502484 -0.196458  0.347529 -0.792005 -0.315347\n",
      "5  1.732452 -1.427936 -0.943766  0.868235 -0.959468\n",
      "6 -1.070746 -0.065552 -2.176896  1.585388  1.814926\n",
      "7 -0.737061  0.775460  0.426539 -0.518537 -0.530455\n",
      "8  1.096205 -0.695573  0.030801  0.252196 -0.353043\n",
      "9 -0.939712  0.044481  0.042731  0.496148 -1.767357\n"
     ]
    }
   ],
   "source": [
    "print (X_df)"
   ]
  },
  {
   "cell_type": "code",
   "execution_count": 77,
   "metadata": {
    "collapsed": false
   },
   "outputs": [
    {
     "data": {
      "text/plain": [
       "(5, 10)"
      ]
     },
     "execution_count": 77,
     "metadata": {},
     "output_type": "execute_result"
    }
   ],
   "source": [
    "X_df.T.shape\n"
   ]
  },
  {
   "cell_type": "code",
   "execution_count": null,
   "metadata": {
    "collapsed": true
   },
   "outputs": [],
   "source": []
  },
  {
   "cell_type": "code",
   "execution_count": null,
   "metadata": {
    "collapsed": true
   },
   "outputs": [],
   "source": []
  },
  {
   "cell_type": "code",
   "execution_count": 86,
   "metadata": {
    "collapsed": false
   },
   "outputs": [
    {
     "data": {
      "text/plain": [
       "(1, 5)"
      ]
     },
     "execution_count": 86,
     "metadata": {},
     "output_type": "execute_result"
    }
   ],
   "source": [
    "const.shape"
   ]
  },
  {
   "cell_type": "code",
   "execution_count": null,
   "metadata": {
    "collapsed": true
   },
   "outputs": [],
   "source": []
  },
  {
   "cell_type": "code",
   "execution_count": null,
   "metadata": {
    "collapsed": true
   },
   "outputs": [],
   "source": []
  },
  {
   "cell_type": "code",
   "execution_count": null,
   "metadata": {
    "collapsed": true
   },
   "outputs": [],
   "source": []
  },
  {
   "cell_type": "code",
   "execution_count": null,
   "metadata": {
    "collapsed": true
   },
   "outputs": [],
   "source": []
  },
  {
   "cell_type": "code",
   "execution_count": 87,
   "metadata": {
    "collapsed": false
   },
   "outputs": [
    {
     "ename": "ValueError",
     "evalue": "all the input array dimensions except for the concatenation axis must match exactly",
     "output_type": "error",
     "traceback": [
      "\u001b[0;31m---------------------------------------------------------------------------\u001b[0m",
      "\u001b[0;31mValueError\u001b[0m                                Traceback (most recent call last)",
      "\u001b[0;32m<ipython-input-87-8bd390263c3f>\u001b[0m in \u001b[0;36m<module>\u001b[0;34m()\u001b[0m\n\u001b[0;32m----> 1\u001b[0;31m \u001b[0mbaseX\u001b[0m\u001b[0;34m=\u001b[0m\u001b[0mnp\u001b[0m\u001b[0;34m.\u001b[0m\u001b[0mhstack\u001b[0m\u001b[0;34m(\u001b[0m\u001b[0;34m[\u001b[0m\u001b[0mX_df\u001b[0m\u001b[0;34m.\u001b[0m\u001b[0mT\u001b[0m\u001b[0;34m,\u001b[0m \u001b[0mconst\u001b[0m\u001b[0;34m]\u001b[0m\u001b[0;34m)\u001b[0m\u001b[0;34m\u001b[0m\u001b[0m\n\u001b[0m",
      "\u001b[0;32m/Users/aj/anaconda/lib/python3.5/site-packages/numpy/core/shape_base.py\u001b[0m in \u001b[0;36mhstack\u001b[0;34m(tup)\u001b[0m\n\u001b[1;32m    278\u001b[0m         \u001b[0;32mreturn\u001b[0m \u001b[0m_nx\u001b[0m\u001b[0;34m.\u001b[0m\u001b[0mconcatenate\u001b[0m\u001b[0;34m(\u001b[0m\u001b[0marrs\u001b[0m\u001b[0;34m,\u001b[0m \u001b[0;36m0\u001b[0m\u001b[0;34m)\u001b[0m\u001b[0;34m\u001b[0m\u001b[0m\n\u001b[1;32m    279\u001b[0m     \u001b[0;32melse\u001b[0m\u001b[0;34m:\u001b[0m\u001b[0;34m\u001b[0m\u001b[0m\n\u001b[0;32m--> 280\u001b[0;31m         \u001b[0;32mreturn\u001b[0m \u001b[0m_nx\u001b[0m\u001b[0;34m.\u001b[0m\u001b[0mconcatenate\u001b[0m\u001b[0;34m(\u001b[0m\u001b[0marrs\u001b[0m\u001b[0;34m,\u001b[0m \u001b[0;36m1\u001b[0m\u001b[0;34m)\u001b[0m\u001b[0;34m\u001b[0m\u001b[0m\n\u001b[0m\u001b[1;32m    281\u001b[0m \u001b[0;34m\u001b[0m\u001b[0m\n\u001b[1;32m    282\u001b[0m \u001b[0;32mdef\u001b[0m \u001b[0mstack\u001b[0m\u001b[0;34m(\u001b[0m\u001b[0marrays\u001b[0m\u001b[0;34m,\u001b[0m \u001b[0maxis\u001b[0m\u001b[0;34m=\u001b[0m\u001b[0;36m0\u001b[0m\u001b[0;34m)\u001b[0m\u001b[0;34m:\u001b[0m\u001b[0;34m\u001b[0m\u001b[0m\n",
      "\u001b[0;31mValueError\u001b[0m: all the input array dimensions except for the concatenation axis must match exactly"
     ]
    }
   ],
   "source": [
    "baseX=np.hstack([X_df.T, const])"
   ]
  },
  {
   "cell_type": "code",
   "execution_count": null,
   "metadata": {
    "collapsed": true
   },
   "outputs": [],
   "source": []
  },
  {
   "cell_type": "code",
   "execution_count": null,
   "metadata": {
    "collapsed": true
   },
   "outputs": [],
   "source": []
  },
  {
   "cell_type": "code",
   "execution_count": null,
   "metadata": {
    "collapsed": true
   },
   "outputs": [],
   "source": []
  },
  {
   "cell_type": "code",
   "execution_count": 84,
   "metadata": {
    "collapsed": false
   },
   "outputs": [
    {
     "ename": "ValueError",
     "evalue": "shapes (11,5) and (6,) not aligned: 5 (dim 1) != 6 (dim 0)",
     "output_type": "error",
     "traceback": [
      "\u001b[0;31m---------------------------------------------------------------------------\u001b[0m",
      "\u001b[0;31mValueError\u001b[0m                                Traceback (most recent call last)",
      "\u001b[0;32m<ipython-input-84-183993d46225>\u001b[0m in \u001b[0;36m<module>\u001b[0;34m()\u001b[0m\n\u001b[0;32m----> 1\u001b[0;31m \u001b[0my_new\u001b[0m\u001b[0;34m=\u001b[0m\u001b[0mnp\u001b[0m\u001b[0;34m.\u001b[0m\u001b[0mdot\u001b[0m\u001b[0;34m(\u001b[0m\u001b[0mbaseX\u001b[0m\u001b[0;34m,\u001b[0m\u001b[0mbetas\u001b[0m\u001b[0;34m)\u001b[0m\u001b[0;34m\u001b[0m\u001b[0m\n\u001b[0m",
      "\u001b[0;31mValueError\u001b[0m: shapes (11,5) and (6,) not aligned: 5 (dim 1) != 6 (dim 0)"
     ]
    }
   ],
   "source": [
    "y_new=np.dot(baseX,betas)"
   ]
  },
  {
   "cell_type": "code",
   "execution_count": null,
   "metadata": {
    "collapsed": true
   },
   "outputs": [],
   "source": []
  },
  {
   "cell_type": "code",
   "execution_count": null,
   "metadata": {
    "collapsed": true
   },
   "outputs": [],
   "source": []
  },
  {
   "cell_type": "code",
   "execution_count": null,
   "metadata": {
    "collapsed": true
   },
   "outputs": [],
   "source": []
  },
  {
   "cell_type": "code",
   "execution_count": null,
   "metadata": {
    "collapsed": true
   },
   "outputs": [],
   "source": []
  },
  {
   "cell_type": "code",
   "execution_count": null,
   "metadata": {
    "collapsed": true
   },
   "outputs": [],
   "source": [
    "print (baseX)"
   ]
  },
  {
   "cell_type": "code",
   "execution_count": null,
   "metadata": {
    "collapsed": true
   },
   "outputs": [],
   "source": []
  },
  {
   "cell_type": "code",
   "execution_count": null,
   "metadata": {
    "collapsed": true
   },
   "outputs": [],
   "source": []
  },
  {
   "cell_type": "code",
   "execution_count": null,
   "metadata": {
    "collapsed": true
   },
   "outputs": [],
   "source": []
  },
  {
   "cell_type": "code",
   "execution_count": 75,
   "metadata": {
    "collapsed": false
   },
   "outputs": [
    {
     "data": {
      "text/plain": [
       "(10, 5)"
      ]
     },
     "execution_count": 75,
     "metadata": {},
     "output_type": "execute_result"
    }
   ],
   "source": [
    "X_no_constant.shape\n"
   ]
  },
  {
   "cell_type": "code",
   "execution_count": null,
   "metadata": {
    "collapsed": true
   },
   "outputs": [],
   "source": []
  },
  {
   "cell_type": "code",
   "execution_count": 74,
   "metadata": {
    "collapsed": false
   },
   "outputs": [
    {
     "data": {
      "text/plain": [
       "(10, 1)"
      ]
     },
     "execution_count": 74,
     "metadata": {},
     "output_type": "execute_result"
    }
   ],
   "source": [
    "onesv.shape"
   ]
  },
  {
   "cell_type": "code",
   "execution_count": null,
   "metadata": {
    "collapsed": true
   },
   "outputs": [],
   "source": []
  },
  {
   "cell_type": "code",
   "execution_count": null,
   "metadata": {
    "collapsed": true
   },
   "outputs": [],
   "source": []
  },
  {
   "cell_type": "code",
   "execution_count": null,
   "metadata": {
    "collapsed": true
   },
   "outputs": [],
   "source": []
  },
  {
   "cell_type": "code",
   "execution_count": 101,
   "metadata": {
    "collapsed": false
   },
   "outputs": [
    {
     "name": "stdout",
     "output_type": "stream",
     "text": [
      "[-0.45481164  0.29282121 -0.04605458 -3.78610463 -1.19921111  0.71335536]\n",
      "X_no_constant:\n",
      "[[-0.92232935  0.27352359 -0.86339625  1.43766044 -1.71379871]\n",
      " [ 0.179322   -0.89138595  2.13005603  0.51898975 -0.41875106]\n",
      " [ 0.34010119 -1.07736609 -1.02314142 -1.02518535  0.40972072]\n",
      " [ 1.18883814  1.01044759  0.3108216  -1.17868611 -0.49526331]\n",
      " [-1.50248369 -0.196458    0.34752922 -0.79200465 -0.31534705]\n",
      " [ 1.73245191 -1.42793626 -0.94376587  0.86823495 -0.95946769]\n",
      " [-1.07074604 -0.06555247 -2.17689578  1.58538804  1.81492637]\n",
      " [-0.73706088  0.77546031  0.42653908 -0.51853723 -0.53045538]\n",
      " [ 1.09620536 -0.69557321  0.03080082  0.25219596 -0.35304303]\n",
      " [-0.93971165  0.04448078  0.04273069  0.4961477  -1.7673568 ]]\n",
      "(10, 5)\n",
      "[[ 1.]\n",
      " [ 1.]\n",
      " [ 1.]\n",
      " [ 1.]\n",
      " [ 1.]\n",
      " [ 1.]\n",
      " [ 1.]\n",
      " [ 1.]\n",
      " [ 1.]\n",
      " [ 1.]]\n",
      "[[-0.92232935  0.179322    0.34010119  1.18883814 -1.50248369  1.73245191\n",
      "  -1.07074604 -0.73706088  1.09620536 -0.93971165]\n",
      " [ 0.27352359 -0.89138595 -1.07736609  1.01044759 -0.196458   -1.42793626\n",
      "  -0.06555247  0.77546031 -0.69557321  0.04448078]\n",
      " [-0.86339625  2.13005603 -1.02314142  0.3108216   0.34752922 -0.94376587\n",
      "  -2.17689578  0.42653908  0.03080082  0.04273069]\n",
      " [ 1.43766044  0.51898975 -1.02518535 -1.17868611 -0.79200465  0.86823495\n",
      "   1.58538804 -0.51853723  0.25219596  0.4961477 ]\n",
      " [-1.71379871 -0.41875106  0.40972072 -0.49526331 -0.31534705 -0.95946769\n",
      "   1.81492637 -0.53045538 -0.35304303 -1.7673568 ]\n",
      " [ 1.          1.          1.          1.          1.          1.          1.\n",
      "   1.          1.          1.        ]]\n",
      "[-2.13522804 -1.19009649  3.68043545  5.51077786  4.6999502  -2.58587328\n",
      " -6.89752086  3.85537055 -0.52177587  1.39277092]\n"
     ]
    }
   ],
   "source": [
    "np.random.seed(3333)\n",
    "n_data = 10 # number of data points. i.e. N\n",
    "n_dim = 5   # number of dimensions of each datapoint.  i.e. D\n",
    "\n",
    "betas = np.random.randn(n_dim + 1)\n",
    "\n",
    "print (betas)\n",
    "\n",
    "X_no_constant = np.random.randn(n_data, n_dim)\n",
    "print ('X_no_constant:')\n",
    "print (X_no_constant)\n",
    "print \n",
    "\n",
    "print (X_no_constant.shape)\n",
    "\n",
    "# INSERT YOUR CODE HERE!\n",
    "\n",
    "onesv=np.ones((10, 1))\n",
    "print (onesv)\n",
    "\n",
    "#[[ 1.  1.  1.  1.]\n",
    "# [ 1.  1.  1.  1.]\n",
    "# [ 1.  1.  1.  1.]]\n",
    "\n",
    "baseX=np.hstack([X_no_constant, onesv])\n",
    "\n",
    "#Transpose matrix\n",
    "baseX.T\n",
    "print (baseX.T)\n",
    "\n",
    "baseX.T.shape\n",
    "betas.shape\n",
    "\n",
    "\n",
    "#matrix multiplication\n",
    "# you can perform matrix multiplication with np.dot()\n",
    "y = np.dot(baseX,betas)\n",
    "\n",
    "print (y)\n",
    "\n",
    "# Tests:\n",
    "#y_expected = np.array([-0.41518357, -9.34696153, 5.08980544, \n",
    "                      # -0.26983873, -1.47667864, 1.96580794, \n",
    "                      # 6.87009791, -2.07784135, -0.7726816, \n",
    "                      # -2.74954984])\n",
    "#np.testing.assert_allclose(y, y_expected)\n",
    "#print ('****** Tests passed! ******')"
   ]
  },
  {
   "cell_type": "code",
   "execution_count": null,
   "metadata": {
    "collapsed": true
   },
   "outputs": [],
   "source": []
  },
  {
   "cell_type": "code",
   "execution_count": null,
   "metadata": {
    "collapsed": true
   },
   "outputs": [],
   "source": []
  },
  {
   "cell_type": "code",
   "execution_count": null,
   "metadata": {
    "collapsed": true
   },
   "outputs": [],
   "source": []
  }
 ],
 "metadata": {
  "celltoolbar": "Raw Cell Format",
  "kernelspec": {
   "display_name": "Python 3",
   "language": "python",
   "name": "python3"
  },
  "language_info": {
   "codemirror_mode": {
    "name": "ipython",
    "version": 3
   },
   "file_extension": ".py",
   "mimetype": "text/x-python",
   "name": "python",
   "nbconvert_exporter": "python",
   "pygments_lexer": "ipython3",
   "version": "3.5.1"
  }
 },
 "nbformat": 4,
 "nbformat_minor": 0
}
