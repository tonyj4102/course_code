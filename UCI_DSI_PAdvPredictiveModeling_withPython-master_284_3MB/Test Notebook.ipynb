{
 "cells": [
  {
   "cell_type": "markdown",
   "metadata": {},
   "source": [
    "## Test Notebook\n",
    "\n",
    "Before running this notebook, open a command line prompt and enter:\n",
    "    \n",
    "    conda update conda  \n",
    "\n",
    "Then, once any updates complete, enter:\n",
    "    \n",
    "    conda update anaconda\n",
    "\n",
    "If Anaconda performed any updates, you need to shutdown the currently running jupyter server and restart.\n",
    "\n",
    "After your Anaconda distribution is current, click into the gray part of cell below, and then run the cell by clicking \"Cell >> Run\" or the play button up above.  "
   ]
  },
  {
   "cell_type": "code",
   "execution_count": 3,
   "metadata": {
    "collapsed": false
   },
   "outputs": [
    {
     "name": "stdout",
     "output_type": "stream",
     "text": [
      "numpy:      1.10.4\n",
      "scipy:      0.17.0\n",
      "pandas:     0.17.1\n",
      "sklearn:    0.17\n",
      "matplotlib: 1.5.1\n"
     ]
    }
   ],
   "source": [
    "import numpy;   print 'numpy:     ', numpy.__version__\n",
    "import scipy;   print 'scipy:     ', scipy.__version__\n",
    "import pandas;  print 'pandas:    ', pandas.__version__\n",
    "import sklearn; print 'sklearn:   ', sklearn.__version__\n",
    "import matplotlib; print 'matplotlib:',matplotlib.__version__"
   ]
  },
  {
   "cell_type": "markdown",
   "metadata": {},
   "source": [
    "Your versions should match what's below:\n",
    "\n",
    "`\n",
    "numpy:      1.10.4\n",
    "scipy:      0.17.0\n",
    "pandas:     0.18.0\n",
    "sklearn:    0.17.1\n",
    "matplotlib: 1.5.1\n",
    "`"
   ]
  },
  {
   "cell_type": "markdown",
   "metadata": {},
   "source": [
    "We also need to download two datasets.  SciKit-Learn will handle everything for us; we just need to call the appropriate functions.  Run the code block below.  It may take several minutes.  The lfw_pairs dataset is around 200 MB."
   ]
  },
  {
   "cell_type": "code",
   "execution_count": 2,
   "metadata": {
    "collapsed": false
   },
   "outputs": [
    {
     "name": "stderr",
     "output_type": "stream",
     "text": [
      "WARNING:sklearn.datasets.lfw:Downloading LFW metadata: http://vis-www.cs.umass.edu/lfw/pairsDevTrain.txt\n",
      "WARNING:sklearn.datasets.lfw:Downloading LFW metadata: http://vis-www.cs.umass.edu/lfw/pairsDevTest.txt\n",
      "WARNING:sklearn.datasets.lfw:Downloading LFW metadata: http://vis-www.cs.umass.edu/lfw/pairs.txt\n",
      "WARNING:sklearn.datasets.lfw:Downloading LFW data (~200MB): http://vis-www.cs.umass.edu/lfw/lfw-funneled.tgz\n"
     ]
    },
    {
     "name": "stdout",
     "output_type": "stream",
     "text": [
      "downloading Olivetti faces from http://cs.nyu.edu/~roweis/data/olivettifaces.mat to /Users/aj/scikit_learn_data\n",
      "(400, 4096)\n",
      "(2200, 2, 62, 47)\n"
     ]
    }
   ],
   "source": [
    "from sklearn.datasets import fetch_olivetti_faces\n",
    "from sklearn.datasets import fetch_lfw_pairs\n",
    "\n",
    "# faces dataset\n",
    "faces_dataset = fetch_olivetti_faces(shuffle=True)\n",
    "\n",
    "# 'labeled faces in the wild' dataset\n",
    "lfw_train = fetch_lfw_pairs(subset='train')\n",
    "lfw_test = fetch_lfw_pairs(subset='test')\n",
    "\n",
    "print faces_dataset.data.shape\n",
    "print lfw_train['pairs'].shape"
   ]
  },
  {
   "cell_type": "markdown",
   "metadata": {},
   "source": [
    "The code should print:\n",
    "\n",
    "`\n",
    "(400, 4096)\n",
    "(2200, 2, 62, 47)\n",
    "`"
   ]
  }
 ],
 "metadata": {
  "kernelspec": {
   "display_name": "Python 2",
   "language": "python",
   "name": "python2"
  },
  "language_info": {
   "codemirror_mode": {
    "name": "ipython",
    "version": 2
   },
   "file_extension": ".py",
   "mimetype": "text/x-python",
   "name": "python",
   "nbconvert_exporter": "python",
   "pygments_lexer": "ipython2",
   "version": "2.7.10"
  }
 },
 "nbformat": 4,
 "nbformat_minor": 0
}
